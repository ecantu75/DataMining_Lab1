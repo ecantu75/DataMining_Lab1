{
 "cells": [
  {
   "cell_type": "markdown",
   "metadata": {},
   "source": [
    "# MSDS 7331 Data Mining Lab 1\n",
    "Profesor: Dr. Jake Drew  \n",
    "Team: Steven Hayden, Josephine MacDaniel, Afreen Siddiqui, & Eduardo Cantu"
   ]
  },
  {
   "cell_type": "code",
   "execution_count": 2,
   "metadata": {},
   "outputs": [],
   "source": [
    "import pandas as pd\n",
    "import numpy as np\n",
    "import seaborn as seaborn\n",
    "import matplotlib.pyplot as plt"
   ]
  },
  {
   "cell_type": "markdown",
   "metadata": {},
   "source": [
    "## Business Understanding\n"
   ]
  },
  {
   "cell_type": "markdown",
   "metadata": {},
   "source": [
    "## Data Meaning Type"
   ]
  },
  {
   "cell_type": "markdown",
   "metadata": {},
   "source": [
    "## Data Quality"
   ]
  },
  {
   "cell_type": "code",
   "execution_count": 3,
   "metadata": {},
   "outputs": [
    {
     "name": "stdout",
     "output_type": "stream",
     "text": [
      "<class 'pandas.core.frame.DataFrame'>\n",
      "Int64Index: 198132 entries, 0 to 198131\n",
      "Data columns (total 76 columns):\n",
      "Unnamed: 0_x                                                   198132 non-null int64\n",
      "state_number_x                                                 198132 non-null int64\n",
      "state_name                                                     198132 non-null object\n",
      "consecutive_number                                             198132 non-null int64\n",
      "number_of_vehicle_forms_submitted_all                          198132 non-null int64\n",
      "number_of_motor_vehicles_in_transport_mvit                     198132 non-null int64\n",
      "number_of_parked_working_vehicles                              198132 non-null int64\n",
      "number_of_forms_submitted_for_persons_not_in_motor_vehicles    198132 non-null int64\n",
      "number_of_persons_not_in_motor_vehicles_in_transport_mvit      198132 non-null int64\n",
      "number_of_persons_in_motor_vehicles_in_transport_mvit          198132 non-null int64\n",
      "number_of_forms_submitted_for_persons_in_motor_vehicles        198132 non-null int64\n",
      "county                                                         198132 non-null int64\n",
      "city                                                           198132 non-null int64\n",
      "day_of_crash                                                   198132 non-null int64\n",
      "month_of_crash                                                 198132 non-null int64\n",
      "year_of_crash                                                  198132 non-null int64\n",
      "day_of_week                                                    198132 non-null int64\n",
      "hour_of_crash                                                  198132 non-null int64\n",
      "minute_of_crash                                                198132 non-null int64\n",
      "national_highway_system                                        198132 non-null int64\n",
      "land_use                                                       198132 non-null int64\n",
      "land_use_name                                                  198132 non-null object\n",
      "functional_system                                              198132 non-null int64\n",
      "functional_system_name                                         198132 non-null object\n",
      "ownership                                                      198132 non-null int64\n",
      "ownership_name                                                 198132 non-null object\n",
      "route_signing                                                  198132 non-null int64\n",
      "route_signing_name                                             198132 non-null object\n",
      "trafficway_identifier                                          198132 non-null object\n",
      "trafficway_identifier_2                                        56054 non-null object\n",
      "milepoint                                                      198132 non-null int64\n",
      "latitude                                                       198132 non-null float64\n",
      "longitude                                                      198132 non-null float64\n",
      "special_jurisdiction                                           198132 non-null int64\n",
      "special_jurisdiction_name                                      198132 non-null object\n",
      "first_harmful_event                                            198132 non-null int64\n",
      "first_harmful_event_name                                       198132 non-null object\n",
      "manner_of_collision                                            198132 non-null int64\n",
      "manner_of_collision_name                                       198132 non-null object\n",
      "relation_to_junction_within_interchange_area                   198132 non-null object\n",
      "relation_to_junction_specific_location                         198132 non-null int64\n",
      "relation_to_junction_specific_location_name                    198132 non-null object\n",
      "type_of_intersection                                           198132 non-null object\n",
      "work_zone                                                      198132 non-null object\n",
      "relation_to_trafficway                                         198132 non-null int64\n",
      "relation_to_trafficway_name                                    198132 non-null object\n",
      "light_condition                                                198132 non-null int64\n",
      "light_condition_name                                           198132 non-null object\n",
      "atmospheric_conditions_1                                       198132 non-null int64\n",
      "atmospheric_conditions_1_name                                  198132 non-null object\n",
      "atmospheric_conditions_2                                       198132 non-null int64\n",
      "atmospheric_conditions_2_name                                  198132 non-null object\n",
      "atmospheric_conditions                                         198132 non-null int64\n",
      "atmospheric_conditions_name                                    198132 non-null object\n",
      "school_bus_related                                             198132 non-null object\n",
      "rail_grade_crossing_identifier                                 198132 non-null object\n",
      "hour_of_notification                                           198132 non-null int64\n",
      "minute_of_notification                                         198132 non-null int64\n",
      "hour_of_arrival_at_scene                                       198132 non-null int64\n",
      "minute_of_arrival_at_scene                                     198132 non-null int64\n",
      "hour_of_ems_arrival_at_hospital                                198132 non-null int64\n",
      "minute_of_ems_arrival_at_hospital                              198132 non-null int64\n",
      "related_factors_crash_level_1                                  198132 non-null int64\n",
      "related_factors_crash_level_1_name                             198132 non-null object\n",
      "related_factors_crash_level_2                                  198132 non-null int64\n",
      "related_factors_crash_level_2_name                             198132 non-null object\n",
      "related_factors_crash_level_3                                  198132 non-null int64\n",
      "related_factors_crash_level_3_name                             198132 non-null object\n",
      "number_of_fatalities                                           198132 non-null int64\n",
      "number_of_drunk_drivers                                        198132 non-null int64\n",
      "timestamp_of_crash                                             198132 non-null object\n",
      "Unnamed: 0_y                                                   195292 non-null float64\n",
      "state_number_y                                                 195292 non-null float64\n",
      "vehicle_number                                                 195292 non-null float64\n",
      "driver_distracted_by                                           195292 non-null float64\n",
      "driver_distracted_by_name                                      195292 non-null object\n",
      "dtypes: float64(6), int64(44), object(26)\n",
      "memory usage: 116.4+ MB\n"
     ]
    }
   ],
   "source": [
    "\n",
    "\n",
    "# read in the data from 2015 and 2016\n",
    "\n",
    "Accident_2015_df = pd.read_csv('https://raw.githubusercontent.com/ecantu75/DataMining_Lab1/master/Data/accident_2015.csv',low_memory=False)\n",
    "Accident_2016_df = pd.read_csv('https://raw.githubusercontent.com/ecantu75/DataMining_Lab1/master/Data/accident_2016.csv',low_memory=False)\n",
    "Distract_2015_df = pd.read_csv('https://raw.githubusercontent.com/ecantu75/DataMining_Lab1/master/Data/distract_2015.csv',low_memory=False)\n",
    "Distract_2016_df = pd.read_csv('https://raw.githubusercontent.com/ecantu75/DataMining_Lab1/master/Data/distract_2016.csv',low_memory=False) \n",
    "\n",
    "#combines the 2015 and 2016 file into one data frame\n",
    "Accident_df = pd.concat([Accident_2016_df,Accident_2015_df])\n",
    "Distract_df =pd.concat([Distract_2015_df,Distract_2016_df])\n",
    "\n",
    "#merg the distract data set and the accident data set\n",
    "Accident_df  = pd.merge(Accident_df, Distract_df,  how='left', left_on=['consecutive_number'], right_on = ['consecutive_number'])\n",
    "\n",
    "#Data frame description \n",
    "Accident_df.head()\n",
    "Accident_df.info()"
   ]
  },
  {
   "cell_type": "markdown",
   "metadata": {},
   "source": [
    "## Simple Statistics"
   ]
  },
  {
   "cell_type": "code",
   "execution_count": null,
   "metadata": {},
   "outputs": [],
   "source": [
    "# Number of people who died in a car accident based on the given data for 2015 and 2016 \n",
    "percentDeath = float(sum(Accident_df.number_of_fatalities)/len(Accident_df)) * 100\n",
    "Deaths = sum(Accident_df.number_of_fatalities)\n",
    "print('Number of people who died in a car accident in 2015 & 2016: ', Deaths)"
   ]
  },
  {
   "cell_type": "code",
   "execution_count": null,
   "metadata": {},
   "outputs": [],
   "source": [
    "# Monthly data for accidents\n",
    "fatility_counts = pd.crosstab([Accident_df['month_of_crash']], Accident_df.number_of_fatalities)\n",
    "fatility_counts.plot(kind='bar', stacked=True, color=['green'], legend=False)"
   ]
  },
  {
   "cell_type": "code",
   "execution_count": null,
   "metadata": {},
   "outputs": [],
   "source": [
    "Accident_df.groupby(['month_of_crash']).aggregate({'number_of_fatalities':sum}).sort_values('number_of_fatalities',ascending=False).head(4)"
   ]
  },
  {
   "cell_type": "code",
   "execution_count": null,
   "metadata": {},
   "outputs": [],
   "source": [
    "# Monthly data for accidents\n",
    "acci_count=Accident_df.groupby(['month_of_crash']).count().reset_index()\n",
    "\n",
    "acci_count.rename(columns={'Unnamed: 0_x': 'accident_count'}, inplace=True)\n",
    "#acci_count\n",
    "#type(acci_count)\n",
    "acci_count_sorted = acci_count.sort_values('accident_count',ascending=False)\n",
    "acci_count_sorted.head(4)\n"
   ]
  },
  {
   "cell_type": "code",
   "execution_count": null,
   "metadata": {},
   "outputs": [],
   "source": [
    "# Monthly data for accidents\n",
    "acci_count_sorted.plot.bar(x='month_of_crash', y='accident_count', rot=0)"
   ]
  },
  {
   "cell_type": "raw",
   "metadata": {},
   "source": [
    "From the above graphs and data we analysed that more number of fatal accidents happened in October, July, \n",
    "August followed by September.\n"
   ]
  },
  {
   "cell_type": "code",
   "execution_count": null,
   "metadata": {},
   "outputs": [],
   "source": [
    "#state wise analysis for fatal accidents:\n",
    "acci_count_bystate=Accident_df.groupby(['state_name']).count().reset_index()\n",
    "acci_count_bystate.rename(columns={'Unnamed: 0_x': 'accident_count_bystate'}, inplace=True)\n",
    "acci_count_bystate_sorted = acci_count_bystate.sort_values('accident_count_bystate',ascending=False)\n",
    "acci_count_bystate_sorted.head(10)"
   ]
  },
  {
   "cell_type": "code",
   "execution_count": null,
   "metadata": {},
   "outputs": [],
   "source": [
    "#state wise analysis for fatal accidents:\n",
    "acci_count_bystate_sorted.plot.bar(x='state_name', y='accident_count_bystate', stacked=True, color=['blue'])"
   ]
  },
  {
   "cell_type": "raw",
   "metadata": {},
   "source": [
    "Maximum Number of fatal accidents happens in Texas followed by California and Florida."
   ]
  },
  {
   "cell_type": "code",
   "execution_count": null,
   "metadata": {},
   "outputs": [],
   "source": [
    "#Hour of accidents\n",
    "acci_count_bytime=Accident_df.groupby(['hour_of_crash']).count().reset_index()\n",
    "acci_count_bytime\n",
    "acci_count_bytime.rename(columns={'Unnamed: 0_x': 'accident_count_bytime'}, inplace=True)\n",
    "acci_count_bytime_sorted = acci_count_bytime.sort_values('accident_count_bytime',ascending=False)\n",
    "acci_count_bytime_sorted.head(10)"
   ]
  },
  {
   "cell_type": "code",
   "execution_count": null,
   "metadata": {},
   "outputs": [],
   "source": [
    "#Hours of accidents\n",
    "acci_count_bytime_sorted = acci_count_bytime_sorted.loc[acci_count_bytime_sorted['hour_of_crash'] != 99]\n",
    "plt.plot( 'hour_of_crash', 'accident_count_bytime', data=acci_count_bytime_sorted, marker='o', color='mediumvioletred')\n",
    "plt.show()\n"
   ]
  },
  {
   "cell_type": "raw",
   "metadata": {},
   "source": [
    "More Number of accidents happen during 17 to 20 hour range(evening 5 to 8)"
   ]
  },
  {
   "cell_type": "code",
   "execution_count": null,
   "metadata": {},
   "outputs": [],
   "source": [
    "#Location of accident \n",
    "acci_count_byloc=Accident_df.groupby(['route_signing_name']).count().reset_index()\n",
    "acci_count_byloc\n",
    "acci_count_byloc.rename(columns={'Unnamed: 0_x': 'accident_count_byloc'}, inplace=True)\n",
    "acci_count_byloc_sorted = acci_count_byloc.sort_values('accident_count_byloc',ascending=False)\n",
    "acci_count_byloc_sorted.head(10)"
   ]
  },
  {
   "cell_type": "code",
   "execution_count": null,
   "metadata": {},
   "outputs": [],
   "source": [
    "#Location of accident\n",
    "acci_count_byloc_sorted.plot.bar(x='route_signing_name', y='accident_count_byloc', stacked=True, rot=45)"
   ]
  },
  {
   "cell_type": "raw",
   "metadata": {},
   "source": [
    "More Number of accidents happens on State Highways."
   ]
  },
  {
   "cell_type": "code",
   "execution_count": null,
   "metadata": {},
   "outputs": [],
   "source": [
    "#Type of Collision which causes fatal accidents\n",
    "acci_count_bytype=Accident_df.groupby(['manner_of_collision_name']).count().reset_index()\n",
    "acci_count_bytype\n",
    "acci_count_bytype.rename(columns={'Unnamed: 0_x': 'accident_count_bytype'}, inplace=True)\n",
    "acci_count_bytype_sorted = acci_count_bytype.sort_values('accident_count_bytype',ascending=False)\n",
    "acci_count_bytype_sorted.head(10)"
   ]
  },
  {
   "cell_type": "raw",
   "metadata": {},
   "source": [
    "The data above shows the reason for fatal accidents and most of the time it is when the moving vehicle collides \n",
    "with not in transport vehicle."
   ]
  },
  {
   "cell_type": "code",
   "execution_count": null,
   "metadata": {},
   "outputs": [],
   "source": [
    "#level of light that existed at the time of the crash as indicated in the case material.\n",
    "acci_count_bylight=Accident_df.groupby(['light_condition_name']).count().reset_index()\n",
    "acci_count_bylight\n",
    "acci_count_bylight.rename(columns={'Unnamed: 0_x': 'accident_count_bylight'}, inplace=True)\n",
    "acci_count_bylight_sorted = acci_count_bylight.sort_values('accident_count_bylight',ascending=False)\n",
    "acci_count_bylight_sorted.head(10)"
   ]
  },
  {
   "cell_type": "code",
   "execution_count": null,
   "metadata": {},
   "outputs": [],
   "source": [
    "#level of light that existed at the time of the crash as indicated in the case material.\n",
    "acci_count_bylight=Accident_df.groupby(['light_condition_name']).count().reset_index()\n",
    "acci_count_bylight\n",
    "acci_count_bylight.rename(columns={'Unnamed: 0_x': 'accident_count_bylight'}, inplace=True)\n",
    "acci_count_bylight_sorted = acci_count_bylight.sort_values('accident_count_bylight',ascending=False)\n",
    "acci_count_bylight_sorted.head(10)\n",
    "acci_count_bylight_sorted.plot.pie(y='accident_count_bylight', figsize=(8, 8))"
   ]
  },
  {
   "cell_type": "raw",
   "metadata": {},
   "source": [
    "More accidents happens in daylight then in dark."
   ]
  },
  {
   "cell_type": "code",
   "execution_count": null,
   "metadata": {},
   "outputs": [],
   "source": [
    "#Weather conditions during accidents\n",
    "acci_count_byatm=Accident_df.groupby(['atmospheric_conditions_name']).count().reset_index()\n",
    "acci_count_byatm\n",
    "acci_count_byatm.rename(columns={'Unnamed: 0_x': 'accident_count_byatm'}, inplace=True)\n",
    "acci_count_byatm_sorted = acci_count_byatm.sort_values('accident_count_byatm',ascending=False)\n",
    "acci_count_byatm_sorted.head(10)"
   ]
  },
  {
   "cell_type": "code",
   "execution_count": null,
   "metadata": {},
   "outputs": [],
   "source": [
    "#Weather conditions during accidents\n",
    "acci_count_byatm_sorted.plot.bar(x='atmospheric_conditions_name', y='accident_count_byatm', stacked=True, rot=45)"
   ]
  },
  {
   "cell_type": "code",
   "execution_count": null,
   "metadata": {},
   "outputs": [],
   "source": [
    "Fatal accidents are likely to happened in regular or cloudy or rainy times"
   ]
  },
  {
   "cell_type": "code",
   "execution_count": null,
   "metadata": {},
   "outputs": [],
   "source": [
    "From the above statistics on data we analysed that more number of accidents happens during the months July, August \n",
    "and October and in the evening hours. Fatal accidents  are more likely to happen on the state highways and maximum \n",
    "count for the accidents is for Texas state followed by California and Florida. "
   ]
  },
  {
   "cell_type": "markdown",
   "metadata": {},
   "source": [
    "## Visualize Attributes"
   ]
  },
  {
   "cell_type": "code",
   "execution_count": 11,
   "metadata": {
    "scrolled": false
   },
   "outputs": [
    {
     "data": {
      "text/html": [
       "<div>\n",
       "<style scoped>\n",
       "    .dataframe tbody tr th:only-of-type {\n",
       "        vertical-align: middle;\n",
       "    }\n",
       "\n",
       "    .dataframe tbody tr th {\n",
       "        vertical-align: top;\n",
       "    }\n",
       "\n",
       "    .dataframe thead tr th {\n",
       "        text-align: left;\n",
       "    }\n",
       "\n",
       "    .dataframe thead tr:last-of-type th {\n",
       "        text-align: right;\n",
       "    }\n",
       "</style>\n",
       "<table border=\"1\" class=\"dataframe\">\n",
       "  <thead>\n",
       "    <tr>\n",
       "      <th></th>\n",
       "      <th colspan=\"8\" halign=\"left\">number_of_fatalities</th>\n",
       "    </tr>\n",
       "    <tr>\n",
       "      <th></th>\n",
       "      <th>count</th>\n",
       "      <th>mean</th>\n",
       "      <th>std</th>\n",
       "      <th>min</th>\n",
       "      <th>25%</th>\n",
       "      <th>50%</th>\n",
       "      <th>75%</th>\n",
       "      <th>max</th>\n",
       "    </tr>\n",
       "    <tr>\n",
       "      <th>atmospheric_conditions_1_name</th>\n",
       "      <th></th>\n",
       "      <th></th>\n",
       "      <th></th>\n",
       "      <th></th>\n",
       "      <th></th>\n",
       "      <th></th>\n",
       "      <th></th>\n",
       "      <th></th>\n",
       "    </tr>\n",
       "  </thead>\n",
       "  <tbody>\n",
       "    <tr>\n",
       "      <th>Blowing Sand, Soil, Dirt</th>\n",
       "      <td>193.0</td>\n",
       "      <td>1.113990</td>\n",
       "      <td>0.334572</td>\n",
       "      <td>1.0</td>\n",
       "      <td>1.0</td>\n",
       "      <td>1.0</td>\n",
       "      <td>1.0</td>\n",
       "      <td>3.0</td>\n",
       "    </tr>\n",
       "    <tr>\n",
       "      <th>Blowing Snow</th>\n",
       "      <td>223.0</td>\n",
       "      <td>1.017937</td>\n",
       "      <td>0.133022</td>\n",
       "      <td>1.0</td>\n",
       "      <td>1.0</td>\n",
       "      <td>1.0</td>\n",
       "      <td>1.0</td>\n",
       "      <td>2.0</td>\n",
       "    </tr>\n",
       "    <tr>\n",
       "      <th>Clear</th>\n",
       "      <td>143485.0</td>\n",
       "      <td>1.099084</td>\n",
       "      <td>0.384170</td>\n",
       "      <td>1.0</td>\n",
       "      <td>1.0</td>\n",
       "      <td>1.0</td>\n",
       "      <td>1.0</td>\n",
       "      <td>8.0</td>\n",
       "    </tr>\n",
       "    <tr>\n",
       "      <th>Cloudy</th>\n",
       "      <td>29798.0</td>\n",
       "      <td>1.101416</td>\n",
       "      <td>0.374432</td>\n",
       "      <td>1.0</td>\n",
       "      <td>1.0</td>\n",
       "      <td>1.0</td>\n",
       "      <td>1.0</td>\n",
       "      <td>6.0</td>\n",
       "    </tr>\n",
       "    <tr>\n",
       "      <th>Fog, Smog, Smoke</th>\n",
       "      <td>2180.0</td>\n",
       "      <td>1.141743</td>\n",
       "      <td>0.509299</td>\n",
       "      <td>1.0</td>\n",
       "      <td>1.0</td>\n",
       "      <td>1.0</td>\n",
       "      <td>1.0</td>\n",
       "      <td>6.0</td>\n",
       "    </tr>\n",
       "    <tr>\n",
       "      <th>Freezing Rain or Drizzle</th>\n",
       "      <td>88.0</td>\n",
       "      <td>1.079545</td>\n",
       "      <td>0.272139</td>\n",
       "      <td>1.0</td>\n",
       "      <td>1.0</td>\n",
       "      <td>1.0</td>\n",
       "      <td>1.0</td>\n",
       "      <td>2.0</td>\n",
       "    </tr>\n",
       "    <tr>\n",
       "      <th>Not Reported</th>\n",
       "      <td>4786.0</td>\n",
       "      <td>1.063728</td>\n",
       "      <td>0.321817</td>\n",
       "      <td>1.0</td>\n",
       "      <td>1.0</td>\n",
       "      <td>1.0</td>\n",
       "      <td>1.0</td>\n",
       "      <td>6.0</td>\n",
       "    </tr>\n",
       "    <tr>\n",
       "      <th>Other</th>\n",
       "      <td>304.0</td>\n",
       "      <td>1.118421</td>\n",
       "      <td>0.379929</td>\n",
       "      <td>1.0</td>\n",
       "      <td>1.0</td>\n",
       "      <td>1.0</td>\n",
       "      <td>1.0</td>\n",
       "      <td>3.0</td>\n",
       "    </tr>\n",
       "    <tr>\n",
       "      <th>Rain</th>\n",
       "      <td>13157.0</td>\n",
       "      <td>1.114236</td>\n",
       "      <td>0.426339</td>\n",
       "      <td>1.0</td>\n",
       "      <td>1.0</td>\n",
       "      <td>1.0</td>\n",
       "      <td>1.0</td>\n",
       "      <td>10.0</td>\n",
       "    </tr>\n",
       "    <tr>\n",
       "      <th>Severe Crosswinds</th>\n",
       "      <td>186.0</td>\n",
       "      <td>1.075269</td>\n",
       "      <td>0.264537</td>\n",
       "      <td>1.0</td>\n",
       "      <td>1.0</td>\n",
       "      <td>1.0</td>\n",
       "      <td>1.0</td>\n",
       "      <td>2.0</td>\n",
       "    </tr>\n",
       "    <tr>\n",
       "      <th>Sleet, Hail</th>\n",
       "      <td>504.0</td>\n",
       "      <td>1.126984</td>\n",
       "      <td>0.367337</td>\n",
       "      <td>1.0</td>\n",
       "      <td>1.0</td>\n",
       "      <td>1.0</td>\n",
       "      <td>1.0</td>\n",
       "      <td>3.0</td>\n",
       "    </tr>\n",
       "    <tr>\n",
       "      <th>Snow</th>\n",
       "      <td>2228.0</td>\n",
       "      <td>1.096948</td>\n",
       "      <td>0.339748</td>\n",
       "      <td>1.0</td>\n",
       "      <td>1.0</td>\n",
       "      <td>1.0</td>\n",
       "      <td>1.0</td>\n",
       "      <td>4.0</td>\n",
       "    </tr>\n",
       "    <tr>\n",
       "      <th>Unknown</th>\n",
       "      <td>1000.0</td>\n",
       "      <td>1.080000</td>\n",
       "      <td>0.285800</td>\n",
       "      <td>1.0</td>\n",
       "      <td>1.0</td>\n",
       "      <td>1.0</td>\n",
       "      <td>1.0</td>\n",
       "      <td>3.0</td>\n",
       "    </tr>\n",
       "  </tbody>\n",
       "</table>\n",
       "</div>"
      ],
      "text/plain": [
       "                              number_of_fatalities                           \\\n",
       "                                             count      mean       std  min   \n",
       "atmospheric_conditions_1_name                                                 \n",
       "Blowing Sand, Soil, Dirt                     193.0  1.113990  0.334572  1.0   \n",
       "Blowing Snow                                 223.0  1.017937  0.133022  1.0   \n",
       "Clear                                     143485.0  1.099084  0.384170  1.0   \n",
       "Cloudy                                     29798.0  1.101416  0.374432  1.0   \n",
       "Fog, Smog, Smoke                            2180.0  1.141743  0.509299  1.0   \n",
       "Freezing Rain or Drizzle                      88.0  1.079545  0.272139  1.0   \n",
       "Not Reported                                4786.0  1.063728  0.321817  1.0   \n",
       "Other                                        304.0  1.118421  0.379929  1.0   \n",
       "Rain                                       13157.0  1.114236  0.426339  1.0   \n",
       "Severe Crosswinds                            186.0  1.075269  0.264537  1.0   \n",
       "Sleet, Hail                                  504.0  1.126984  0.367337  1.0   \n",
       "Snow                                        2228.0  1.096948  0.339748  1.0   \n",
       "Unknown                                     1000.0  1.080000  0.285800  1.0   \n",
       "\n",
       "                                                    \n",
       "                               25%  50%  75%   max  \n",
       "atmospheric_conditions_1_name                       \n",
       "Blowing Sand, Soil, Dirt       1.0  1.0  1.0   3.0  \n",
       "Blowing Snow                   1.0  1.0  1.0   2.0  \n",
       "Clear                          1.0  1.0  1.0   8.0  \n",
       "Cloudy                         1.0  1.0  1.0   6.0  \n",
       "Fog, Smog, Smoke               1.0  1.0  1.0   6.0  \n",
       "Freezing Rain or Drizzle       1.0  1.0  1.0   2.0  \n",
       "Not Reported                   1.0  1.0  1.0   6.0  \n",
       "Other                          1.0  1.0  1.0   3.0  \n",
       "Rain                           1.0  1.0  1.0  10.0  \n",
       "Severe Crosswinds              1.0  1.0  1.0   2.0  \n",
       "Sleet, Hail                    1.0  1.0  1.0   3.0  \n",
       "Snow                           1.0  1.0  1.0   4.0  \n",
       "Unknown                        1.0  1.0  1.0   3.0  "
      ]
     },
     "execution_count": 11,
     "metadata": {},
     "output_type": "execute_result"
    }
   ],
   "source": [
    "Accident_df[['number_of_fatalities','light_condition_name']].groupby('light_condition_name').describe()\n",
    "Accident_df[['number_of_fatalities','atmospheric_conditions_1_name']].groupby('atmospheric_conditions_1_name').describe()"
   ]
  },
  {
   "cell_type": "code",
   "execution_count": 12,
   "metadata": {},
   "outputs": [
    {
     "data": {
      "text/html": [
       "<div>\n",
       "<style scoped>\n",
       "    .dataframe tbody tr th:only-of-type {\n",
       "        vertical-align: middle;\n",
       "    }\n",
       "\n",
       "    .dataframe tbody tr th {\n",
       "        vertical-align: top;\n",
       "    }\n",
       "\n",
       "    .dataframe thead tr th {\n",
       "        text-align: left;\n",
       "    }\n",
       "\n",
       "    .dataframe thead tr:last-of-type th {\n",
       "        text-align: right;\n",
       "    }\n",
       "</style>\n",
       "<table border=\"1\" class=\"dataframe\">\n",
       "  <thead>\n",
       "    <tr>\n",
       "      <th></th>\n",
       "      <th colspan=\"8\" halign=\"left\">number_of_fatalities</th>\n",
       "    </tr>\n",
       "    <tr>\n",
       "      <th></th>\n",
       "      <th>count</th>\n",
       "      <th>mean</th>\n",
       "      <th>std</th>\n",
       "      <th>min</th>\n",
       "      <th>25%</th>\n",
       "      <th>50%</th>\n",
       "      <th>75%</th>\n",
       "      <th>max</th>\n",
       "    </tr>\n",
       "    <tr>\n",
       "      <th>atmospheric_conditions_1_name</th>\n",
       "      <th></th>\n",
       "      <th></th>\n",
       "      <th></th>\n",
       "      <th></th>\n",
       "      <th></th>\n",
       "      <th></th>\n",
       "      <th></th>\n",
       "      <th></th>\n",
       "    </tr>\n",
       "  </thead>\n",
       "  <tbody>\n",
       "    <tr>\n",
       "      <th>Blowing Sand, Soil, Dirt</th>\n",
       "      <td>193.0</td>\n",
       "      <td>1.113990</td>\n",
       "      <td>0.334572</td>\n",
       "      <td>1.0</td>\n",
       "      <td>1.0</td>\n",
       "      <td>1.0</td>\n",
       "      <td>1.0</td>\n",
       "      <td>3.0</td>\n",
       "    </tr>\n",
       "    <tr>\n",
       "      <th>Blowing Snow</th>\n",
       "      <td>223.0</td>\n",
       "      <td>1.017937</td>\n",
       "      <td>0.133022</td>\n",
       "      <td>1.0</td>\n",
       "      <td>1.0</td>\n",
       "      <td>1.0</td>\n",
       "      <td>1.0</td>\n",
       "      <td>2.0</td>\n",
       "    </tr>\n",
       "    <tr>\n",
       "      <th>Clear</th>\n",
       "      <td>143485.0</td>\n",
       "      <td>1.099084</td>\n",
       "      <td>0.384170</td>\n",
       "      <td>1.0</td>\n",
       "      <td>1.0</td>\n",
       "      <td>1.0</td>\n",
       "      <td>1.0</td>\n",
       "      <td>8.0</td>\n",
       "    </tr>\n",
       "    <tr>\n",
       "      <th>Cloudy</th>\n",
       "      <td>29798.0</td>\n",
       "      <td>1.101416</td>\n",
       "      <td>0.374432</td>\n",
       "      <td>1.0</td>\n",
       "      <td>1.0</td>\n",
       "      <td>1.0</td>\n",
       "      <td>1.0</td>\n",
       "      <td>6.0</td>\n",
       "    </tr>\n",
       "    <tr>\n",
       "      <th>Fog, Smog, Smoke</th>\n",
       "      <td>2180.0</td>\n",
       "      <td>1.141743</td>\n",
       "      <td>0.509299</td>\n",
       "      <td>1.0</td>\n",
       "      <td>1.0</td>\n",
       "      <td>1.0</td>\n",
       "      <td>1.0</td>\n",
       "      <td>6.0</td>\n",
       "    </tr>\n",
       "    <tr>\n",
       "      <th>Freezing Rain or Drizzle</th>\n",
       "      <td>88.0</td>\n",
       "      <td>1.079545</td>\n",
       "      <td>0.272139</td>\n",
       "      <td>1.0</td>\n",
       "      <td>1.0</td>\n",
       "      <td>1.0</td>\n",
       "      <td>1.0</td>\n",
       "      <td>2.0</td>\n",
       "    </tr>\n",
       "    <tr>\n",
       "      <th>Not Reported</th>\n",
       "      <td>4786.0</td>\n",
       "      <td>1.063728</td>\n",
       "      <td>0.321817</td>\n",
       "      <td>1.0</td>\n",
       "      <td>1.0</td>\n",
       "      <td>1.0</td>\n",
       "      <td>1.0</td>\n",
       "      <td>6.0</td>\n",
       "    </tr>\n",
       "    <tr>\n",
       "      <th>Other</th>\n",
       "      <td>304.0</td>\n",
       "      <td>1.118421</td>\n",
       "      <td>0.379929</td>\n",
       "      <td>1.0</td>\n",
       "      <td>1.0</td>\n",
       "      <td>1.0</td>\n",
       "      <td>1.0</td>\n",
       "      <td>3.0</td>\n",
       "    </tr>\n",
       "    <tr>\n",
       "      <th>Rain</th>\n",
       "      <td>13157.0</td>\n",
       "      <td>1.114236</td>\n",
       "      <td>0.426339</td>\n",
       "      <td>1.0</td>\n",
       "      <td>1.0</td>\n",
       "      <td>1.0</td>\n",
       "      <td>1.0</td>\n",
       "      <td>10.0</td>\n",
       "    </tr>\n",
       "    <tr>\n",
       "      <th>Severe Crosswinds</th>\n",
       "      <td>186.0</td>\n",
       "      <td>1.075269</td>\n",
       "      <td>0.264537</td>\n",
       "      <td>1.0</td>\n",
       "      <td>1.0</td>\n",
       "      <td>1.0</td>\n",
       "      <td>1.0</td>\n",
       "      <td>2.0</td>\n",
       "    </tr>\n",
       "    <tr>\n",
       "      <th>Sleet, Hail</th>\n",
       "      <td>504.0</td>\n",
       "      <td>1.126984</td>\n",
       "      <td>0.367337</td>\n",
       "      <td>1.0</td>\n",
       "      <td>1.0</td>\n",
       "      <td>1.0</td>\n",
       "      <td>1.0</td>\n",
       "      <td>3.0</td>\n",
       "    </tr>\n",
       "    <tr>\n",
       "      <th>Snow</th>\n",
       "      <td>2228.0</td>\n",
       "      <td>1.096948</td>\n",
       "      <td>0.339748</td>\n",
       "      <td>1.0</td>\n",
       "      <td>1.0</td>\n",
       "      <td>1.0</td>\n",
       "      <td>1.0</td>\n",
       "      <td>4.0</td>\n",
       "    </tr>\n",
       "    <tr>\n",
       "      <th>Unknown</th>\n",
       "      <td>1000.0</td>\n",
       "      <td>1.080000</td>\n",
       "      <td>0.285800</td>\n",
       "      <td>1.0</td>\n",
       "      <td>1.0</td>\n",
       "      <td>1.0</td>\n",
       "      <td>1.0</td>\n",
       "      <td>3.0</td>\n",
       "    </tr>\n",
       "  </tbody>\n",
       "</table>\n",
       "</div>"
      ],
      "text/plain": [
       "                              number_of_fatalities                           \\\n",
       "                                             count      mean       std  min   \n",
       "atmospheric_conditions_1_name                                                 \n",
       "Blowing Sand, Soil, Dirt                     193.0  1.113990  0.334572  1.0   \n",
       "Blowing Snow                                 223.0  1.017937  0.133022  1.0   \n",
       "Clear                                     143485.0  1.099084  0.384170  1.0   \n",
       "Cloudy                                     29798.0  1.101416  0.374432  1.0   \n",
       "Fog, Smog, Smoke                            2180.0  1.141743  0.509299  1.0   \n",
       "Freezing Rain or Drizzle                      88.0  1.079545  0.272139  1.0   \n",
       "Not Reported                                4786.0  1.063728  0.321817  1.0   \n",
       "Other                                        304.0  1.118421  0.379929  1.0   \n",
       "Rain                                       13157.0  1.114236  0.426339  1.0   \n",
       "Severe Crosswinds                            186.0  1.075269  0.264537  1.0   \n",
       "Sleet, Hail                                  504.0  1.126984  0.367337  1.0   \n",
       "Snow                                        2228.0  1.096948  0.339748  1.0   \n",
       "Unknown                                     1000.0  1.080000  0.285800  1.0   \n",
       "\n",
       "                                                    \n",
       "                               25%  50%  75%   max  \n",
       "atmospheric_conditions_1_name                       \n",
       "Blowing Sand, Soil, Dirt       1.0  1.0  1.0   3.0  \n",
       "Blowing Snow                   1.0  1.0  1.0   2.0  \n",
       "Clear                          1.0  1.0  1.0   8.0  \n",
       "Cloudy                         1.0  1.0  1.0   6.0  \n",
       "Fog, Smog, Smoke               1.0  1.0  1.0   6.0  \n",
       "Freezing Rain or Drizzle       1.0  1.0  1.0   2.0  \n",
       "Not Reported                   1.0  1.0  1.0   6.0  \n",
       "Other                          1.0  1.0  1.0   3.0  \n",
       "Rain                           1.0  1.0  1.0  10.0  \n",
       "Severe Crosswinds              1.0  1.0  1.0   2.0  \n",
       "Sleet, Hail                    1.0  1.0  1.0   3.0  \n",
       "Snow                           1.0  1.0  1.0   4.0  \n",
       "Unknown                        1.0  1.0  1.0   3.0  "
      ]
     },
     "execution_count": 12,
     "metadata": {},
     "output_type": "execute_result"
    }
   ],
   "source": [
    "Accident_df[['number_of_fatalities','atmospheric_conditions_1_name']].groupby('atmospheric_conditions_1_name').describe()"
   ]
  },
  {
   "cell_type": "code",
   "execution_count": 6,
   "metadata": {},
   "outputs": [
    {
     "data": {
      "text/plain": [
       "light_condition  light_condition_name     Day_Time_Yes_No\n",
       "1                Daylight                 yes                98890\n",
       "2                Dark – Not Lighted       no                 52492\n",
       "3                Dark – Lighted           no                 35779\n",
       "4                Dawn                     yes                 3788\n",
       "5                Dusk                     yes                 4927\n",
       "6                Dark – Unknown Lighting  no                  1272\n",
       "7                Other                    no                    61\n",
       "dtype: int64"
      ]
     },
     "execution_count": 6,
     "metadata": {},
     "output_type": "execute_result"
    }
   ],
   "source": [
    "\n",
    "#Creates a new column to identify if there was daylight at the time of the accident. Dawn and Dusk were indicated as daylight.\n",
    "#This effective turns the daylight condition column into a binary field to be used later in the violin graph\n",
    "Accident_df['Day_Time_Yes_No'] = np.where(Accident_df['light_condition'] == 1 , 'yes', 'no')\n",
    "Accident_df['Day_Time_Yes_No'] = np.where(Accident_df['light_condition'] == 4 , 'yes', Accident_df['Day_Time_Yes_No'])\n",
    "Accident_df['Day_Time_Yes_No'] = np.where(Accident_df['light_condition'] == 5 , 'yes', Accident_df['Day_Time_Yes_No'])\n",
    "#Treats unknown and not reported as null in the data set. This is done because we cannot gain any insight of the lighting condition from these records. \n",
    "Accident_df['Day_Time_Yes_No'] = np.where(Accident_df['light_condition'] == 8 , np.nan , Accident_df['Day_Time_Yes_No'])\n",
    "Accident_df['Day_Time_Yes_No'] = np.where(Accident_df['light_condition'] == 9 , np.nan , Accident_df['Day_Time_Yes_No'])\n",
    "\n",
    "#count and summary of new light condition field \n",
    "Accident_df.groupby(['light_condition','light_condition_name','Day_Time_Yes_No']).size()\n"
   ]
  },
  {
   "cell_type": "markdown",
   "metadata": {},
   "source": [
    "The correlation heat map is great for finding relationship with many attributes "
   ]
  },
  {
   "cell_type": "code",
   "execution_count": null,
   "metadata": {},
   "outputs": [],
   "source": [
    "# plot the correlation matrix using seaborn\n",
    "cmap = seaborn.diverging_palette(200, 1, as_cmap=True) # Assign color for table \n",
    "seaborn.set(style=\"ticks\") # one of the many styles to plot using\n",
    "\n",
    "f, ax = plt.subplots(figsize=(35, 35))\n",
    "\n",
    "seaborn.heatmap(Accident_df.corr(), cmap=cmap, annot=True)\n",
    "\n",
    "f.tight_layout()"
   ]
  },
  {
   "cell_type": "code",
   "execution_count": null,
   "metadata": {
    "scrolled": true
   },
   "outputs": [],
   "source": [
    "#Initiate boxplot \n",
    "ax = Accident_df.boxplot(column='consecutive_number', by = 'atmospheric_conditions_1_name')\n",
    "# clean up titles\n",
    "ax.set_xscale\n",
    "ax.set_title('')\n",
    "ax.set_xlabel('')\n",
    "ax.set_ylabel('')\n",
    "#\n",
    "plt.setp(ax.get_xticklabels(), rotation=30, horizontalalignment='right');"
   ]
  },
  {
   "cell_type": "code",
   "execution_count": null,
   "metadata": {},
   "outputs": [],
   "source": [
    "\n",
    "\n",
    "#adjust the size of the violin plot\n",
    "f, ax = plt.subplots(figsize=(30, 30))\n",
    "\n",
    "seaborn.violinplot(x=\"atmospheric_conditions_1_name\", y=\"consecutive_number\", hue=\"Day_Time_Yes_No\", data=Accident_df, \n",
    "               split=True, inner=\"quart\")"
   ]
  },
  {
   "cell_type": "markdown",
   "metadata": {},
   "source": [
    "## Explore Joint Attributes"
   ]
  },
  {
   "cell_type": "markdown",
   "metadata": {},
   "source": [
    "## Explore Attributes and Class"
   ]
  },
  {
   "cell_type": "markdown",
   "metadata": {},
   "source": [
    "## New Features"
   ]
  },
  {
   "cell_type": "markdown",
   "metadata": {},
   "source": [
    "## Exceptional Work"
   ]
  }
 ],
 "metadata": {
  "kernelspec": {
   "display_name": "Python 3",
   "language": "python",
   "name": "python3"
  }
 },
 "nbformat": 4,
 "nbformat_minor": 2
}
