{
 "cells": [
  {
   "cell_type": "markdown",
   "metadata": {},
   "source": [
    "# MSDS 7331 Data Mining Lab 1\n",
    "Profesor: Dr. Jake Drew  \n",
    "Team: Steven Hayden, Josephine MacDaniel, Afreen Siddiqui, & Eduardo Cantu"
   ]
  },
  {
   "cell_type": "code",
   "execution_count": null,
   "metadata": {},
   "outputs": [],
   "source": [
    "import pandas as pd\n",
    "import numpy as np\n",
    "import seaborn as seaborn\n",
    "import matplotlib.pyplot as plt"
   ]
  },
  {
   "cell_type": "markdown",
   "metadata": {},
   "source": [
    "## Business Understanding\n"
   ]
  },
  {
   "cell_type": "markdown",
   "metadata": {},
   "source": [
    "## Data Meaning Type"
   ]
  },
  {
   "cell_type": "markdown",
   "metadata": {},
   "source": [
    "## Data Quality"
   ]
  },
  {
   "cell_type": "code",
   "execution_count": null,
   "metadata": {},
   "outputs": [],
   "source": [
    "\n",
    "\n",
    "# read in the data from 2015 and 2016\n",
    "Accident_df = pd.read_csv('https://raw.githubusercontent.com/ecantu75/DataMining_Lab1/master/Data/accident_2016.csv',low_memory=False)\n",
    "\n",
    "#Accident_df = Accident_df.drop(columns='Unnamed: 0')\n",
    "#Data frame description \n",
    "Accident_df.head()\n",
    "#Accident_df.count()\n",
    "#Accident_df.info()\n",
    "\n"
   ]
  },
  {
   "cell_type": "code",
   "execution_count": null,
   "metadata": {},
   "outputs": [],
   "source": [
    "#check for duplicate recoreds\n",
    "\n",
    "Accident_df['consecutive_number'].value_counts()\n",
    "\n"
   ]
  },
  {
   "cell_type": "markdown",
   "metadata": {},
   "source": [
    "## Simple Statistics"
   ]
  },
  {
   "cell_type": "markdown",
   "metadata": {},
   "source": [
    "37461 death in this data set. 43% of people involved in a accident die "
   ]
  },
  {
   "cell_type": "code",
   "execution_count": null,
   "metadata": {},
   "outputs": [],
   "source": [
    "# Number of people who died in a car accident based on the given data for 2016 \n",
    "percentDeath = float(sum(Accident_df.number_of_fatalities)/(sum(Accident_df.number_of_persons_not_in_motor_vehicles_in_transport_mvit)+sum(Accident_df.number_of_persons_in_motor_vehicles_in_transport_mvit)) * 100)\n",
    "Deaths = sum(Accident_df.number_of_fatalities)\n",
    "print('Number of people who died in a car accident in 2016: ', Deaths , percentDeath)\n",
    "\n"
   ]
  },
  {
   "cell_type": "code",
   "execution_count": null,
   "metadata": {},
   "outputs": [],
   "source": [
    "# Monthly data for accidents\n",
    "fatility_counts = pd.crosstab([Accident_df['month_of_crash']], Accident_df.number_of_fatalities)\n",
    "fatility_counts.plot(kind='bar', stacked=True, color=['green'], legend=False)"
   ]
  },
  {
   "cell_type": "code",
   "execution_count": null,
   "metadata": {},
   "outputs": [],
   "source": [
    "#top 4 month of accidents\n",
    "Accident_df.groupby(['month_of_crash']).aggregate({'number_of_fatalities':sum}).sort_values('number_of_fatalities',ascending=False).head(4)"
   ]
  },
  {
   "cell_type": "code",
   "execution_count": null,
   "metadata": {},
   "outputs": [],
   "source": [
    "# Monthly data for accidents\n",
    "acci_count=Accident_df.groupby(['month_of_crash']).count().reset_index(drop=True)\n",
    "\n",
    "acci_count.rename(columns={'Unnamed: 0': 'accident_count'}, inplace=True)\n",
    "#acci_count\n",
    "#type(acci_count)\n",
    "acci_count = acci_count.filter(['accident_count'], axis=1)\n",
    "acci_count_sorted = acci_count.sort_values('accident_count',ascending=False)\n",
    "acci_count_sorted.head(4)\n"
   ]
  },
  {
   "cell_type": "code",
   "execution_count": null,
   "metadata": {},
   "outputs": [],
   "source": [
    "# Monthly data for accidents\n",
    "acci_count_sorted.plot.bar(x='month_of_crash', y='accident_count', rot=0)"
   ]
  },
  {
   "cell_type": "raw",
   "metadata": {},
   "source": [
    "From the above graphs and data we analysed that more number of fatal accidents happened in October, september,  \n",
    "August followed by September.\n"
   ]
  },
  {
   "cell_type": "code",
   "execution_count": null,
   "metadata": {},
   "outputs": [],
   "source": [
    "#state wise analysis for fatal accidents:\n",
    "acci_count_bystate=Accident_df.groupby(['state_name']).count().reset_index()\n",
    "acci_count_bystate.rename(columns={'Unnamed: 0': 'accident_count_bystate'}, inplace=True)\n",
    "acci_count_bystate_sorted = acci_count_bystate.sort_values('accident_count_bystate',ascending=False)\n",
    "acci_count_bystate_sorted = acci_count_bystate_sorted.filter(['accident_count_bystate'], axis=1)\n",
    "acci_count_bystate_sorted.head(10)"
   ]
  },
  {
   "cell_type": "code",
   "execution_count": null,
   "metadata": {},
   "outputs": [],
   "source": []
  },
  {
   "cell_type": "code",
   "execution_count": null,
   "metadata": {},
   "outputs": [],
   "source": [
    "#state wise analysis for fatal accidents:\n",
    "acci_count_bystate_sorted.plot.bar(x='state_name', y='accident_count_bystate', stacked=True, color=['blue'])"
   ]
  },
  {
   "cell_type": "raw",
   "metadata": {},
   "source": [
    "Maximum Number of fatal accidents happens in Texas followed by California and Florida."
   ]
  },
  {
   "cell_type": "code",
   "execution_count": null,
   "metadata": {},
   "outputs": [],
   "source": [
    "#Hour of accidents\n",
    "acci_count_bytime=Accident_df.groupby(['hour_of_crash']).count().reset_index()\n",
    "acci_count_bytime\n",
    "acci_count_bytime.rename(columns={'Unnamed: 0': 'accident_count_bytime'}, inplace=True)\n",
    "acci_count_bytime_sorted = acci_count_bytime.sort_values('accident_count_bytime',ascending=False)\n",
    "acci_count_bytime_sorted = acci_count_bytime_sorted.filter(['accident_count_bytime'], axis=1)\n",
    "acci_count_bytime_sorted.head(10)"
   ]
  },
  {
   "cell_type": "code",
   "execution_count": null,
   "metadata": {},
   "outputs": [],
   "source": [
    "#Hours of accidents\n",
    "acci_count_bytime_sorted = acci_count_bytime_sorted.loc[acci_count_bytime_sorted['hour_of_crash'] != 99]\n",
    "plt.plot( 'hour_of_crash', 'accident_count_bytime', data=acci_count_bytime_sorted, marker='o', color='mediumvioletred')\n",
    "plt.show()\n"
   ]
  },
  {
   "cell_type": "raw",
   "metadata": {},
   "source": [
    "More Number of accidents happen during 17 to 20 hour range(evening 5 to 8)"
   ]
  },
  {
   "cell_type": "code",
   "execution_count": null,
   "metadata": {},
   "outputs": [],
   "source": [
    "#Location of accident \n",
    "acci_count_byloc=Accident_df.groupby(['route_signing_name']).count().reset_index()\n",
    "acci_count_byloc\n",
    "acci_count_byloc.rename(columns={'Unnamed: 0': 'accident_count_byloc'}, inplace=True)\n",
    "acci_count_byloc_sorted = acci_count_byloc.sort_values('accident_count_byloc',ascending=False)\n",
    "acci_count_byloc_sorted = acci_count_byloc_sorted.filter(['accident_count_byloc'], axis=1)\n",
    "acci_count_byloc_sorted.head(10)"
   ]
  },
  {
   "cell_type": "code",
   "execution_count": null,
   "metadata": {},
   "outputs": [],
   "source": [
    "#Location of accident\n",
    "acci_count_byloc_sorted.plot.bar(x='route_signing_name', y='accident_count_byloc', stacked=True, rot=45)"
   ]
  },
  {
   "cell_type": "raw",
   "metadata": {},
   "source": [
    "More Number of accidents happens on State Highways."
   ]
  },
  {
   "cell_type": "code",
   "execution_count": null,
   "metadata": {},
   "outputs": [],
   "source": [
    "#Type of Collision which causes fatal accidents\n",
    "acci_count_bytype=Accident_df.groupby(['manner_of_collision_name']).count().reset_index()\n",
    "acci_count_bytype\n",
    "acci_count_bytype.rename(columns={'Unnamed: 0': 'accident_count_bytype'}, inplace=True)\n",
    "acci_count_bytype_sorted = acci_count_bytype.sort_values('accident_count_bytype',ascending=False)\n",
    "acci_count_bytype_sorted = acci_count_bytype_sorted.filter(['accident_count_bytype'], axis=1)\n",
    "acci_count_bytype_sorted.head(10)"
   ]
  },
  {
   "cell_type": "raw",
   "metadata": {},
   "source": [
    "The data above shows the reason for fatal accidents and most of the time it is when the moving vehicle collides \n",
    "with not in transport vehicle."
   ]
  },
  {
   "cell_type": "code",
   "execution_count": null,
   "metadata": {},
   "outputs": [],
   "source": [
    "#level of light that existed at the time of the crash as indicated in the case material.\n",
    "acci_count_bylight=Accident_df.groupby(['light_condition_name']).count().reset_index()\n",
    "acci_count_bylight\n",
    "acci_count_bylight.rename(columns={'Unnamed: 0': 'accident_count_bylight'}, inplace=True)\n",
    "acci_count_bylight_sorted = acci_count_bylight.sort_values('accident_count_bylight',ascending=False)\n",
    "acci_count_bylight_sorted = acci_count_bylight_sorted.filter(['accident_count_bylight'], axis=1)\n",
    "acci_count_bylight_sorted.head(10)"
   ]
  },
  {
   "cell_type": "code",
   "execution_count": null,
   "metadata": {},
   "outputs": [],
   "source": [
    "#level of light that existed at the time of the crash as indicated in the case material.\n",
    "acci_count_bylight=Accident_df.groupby(['light_condition_name']).count().reset_index()\n",
    "acci_count_bylight\n",
    "acci_count_bylight.rename(columns={'Unnamed: 0': 'accident_count_bylight'}, inplace=True)\n",
    "acci_count_bylight_sorted = acci_count_bylight.sort_values('accident_count_bylight',ascending=False)\n",
    "acci_count_bylight_sorted.head(10)\n",
    "acci_count_bylight_sorted.plot.pie(y='accident_count_bylight', figsize=(8, 8))"
   ]
  },
  {
   "cell_type": "raw",
   "metadata": {},
   "source": [
    "More accidents happens in daylight then in dark."
   ]
  },
  {
   "cell_type": "code",
   "execution_count": null,
   "metadata": {},
   "outputs": [],
   "source": [
    "#Weather conditions during accidents\n",
    "acci_count_byatm=Accident_df.groupby(['atmospheric_conditions_name']).count().reset_index()\n",
    "acci_count_byatm\n",
    "acci_count_byatm.rename(columns={'Unnamed: 0': 'accident_count_byatm'}, inplace=True)\n",
    "acci_count_byatm_sorted = acci_count_byatm.sort_values('accident_count_byatm',ascending=False)\n",
    "acci_count_byatm_sorted = acci_count_byatm_sorted.filter(['accident_count_byatm'], axis=1)\n",
    "acci_count_byatm_sorted.head(10)"
   ]
  },
  {
   "cell_type": "code",
   "execution_count": null,
   "metadata": {},
   "outputs": [],
   "source": [
    "#Weather conditions during accidents\n",
    "acci_count_byatm_sorted.plot.bar(x='atmospheric_conditions_name', y='accident_count_byatm', stacked=True, rot=45)"
   ]
  },
  {
   "cell_type": "raw",
   "metadata": {},
   "source": [
    "Fatal accidents are likely to happened in regular or cloudy or rainy times"
   ]
  },
  {
   "cell_type": "raw",
   "metadata": {},
   "source": [
    "From the above statistics on data we analysed that more number of accidents happens during the months July, August \n",
    "and October and in the evening hours. Fatal accidents  are more likely to happen on the state highways and maximum \n",
    "count for the accidents is for Texas state followed by California and Florida. "
   ]
  },
  {
   "cell_type": "markdown",
   "metadata": {},
   "source": [
    "## Visualize Attributes"
   ]
  },
  {
   "cell_type": "code",
   "execution_count": null,
   "metadata": {
    "scrolled": false
   },
   "outputs": [],
   "source": [
    "#simple descriptive statistics for atmospheric conditions \n",
    "Accident_df[['number_of_fatalities','atmospheric_conditions_1_name']].groupby('atmospheric_conditions_1_name').describe()"
   ]
  },
  {
   "cell_type": "code",
   "execution_count": null,
   "metadata": {},
   "outputs": [],
   "source": [
    "#simple descriptive statistics for light condition\n",
    "Accident_df[['number_of_fatalities','light_condition_name']].groupby('light_condition_name').describe()"
   ]
  },
  {
   "cell_type": "markdown",
   "metadata": {},
   "source": [
    "The correlation heat map is great for finding relationship with many attributes "
   ]
  },
  {
   "cell_type": "code",
   "execution_count": null,
   "metadata": {},
   "outputs": [],
   "source": [
    "# plot the correlation matrix using seaborn\n",
    "cmap = seaborn.diverging_palette(200, 1, as_cmap=True) # Assign color for table \n",
    "seaborn.set(style=\"ticks\") # one of the many styles to plot using\n",
    "\n",
    "f, ax = plt.subplots(figsize=(35, 35))\n",
    "\n",
    "seaborn.heatmap(Accident_df.corr(), cmap=cmap, annot=True)\n",
    "\n",
    "f.tight_layout()"
   ]
  },
  {
   "cell_type": "code",
   "execution_count": null,
   "metadata": {
    "scrolled": true
   },
   "outputs": [],
   "source": [
    "#Initiate boxplot \n",
    "ax = Accident_df.boxplot(column='consecutive_number', by = 'atmospheric_conditions_1_name')\n",
    "# clean up titles\n",
    "ax.set_xscale\n",
    "ax.set_title('')\n",
    "ax.set_xlabel('')\n",
    "ax.set_ylabel('')\n",
    "#\n",
    "plt.setp(ax.get_xticklabels(), rotation=30, horizontalalignment='right');"
   ]
  },
  {
   "cell_type": "code",
   "execution_count": null,
   "metadata": {},
   "outputs": [],
   "source": [
    "\n",
    "\n",
    "#adjust the size of the violin plot\n",
    "f, ax = plt.subplots(figsize=(30, 30))\n",
    "\n",
    "seaborn.violinplot(x=\"atmospheric_conditions_1_name\", y=\"consecutive_number\", hue=\"Day_Time_Yes_No\", data=Accident_df, \n",
    "               split=True, inner=\"quart\")"
   ]
  },
  {
   "cell_type": "markdown",
   "metadata": {},
   "source": [
    "## Explore Joint Attributes"
   ]
  },
  {
   "cell_type": "markdown",
   "metadata": {},
   "source": [
    "Relationship between the number of accidents and the weather conditions. The Attributes are:  \n",
    "\n",
    "    * atmospheric_conditions_name\n",
    "    * light_condition_name\n",
    "    * number_of_fatalities  \n",
    "    \n",
    "    Each row or observation is car accident. It provides the conditions in which the accident occured. It captures the number of fatalities, number of people involved in the accident, the time that took the first reponders to get to the area and then to the hospital. This statistics are provided by state, highway it happend.\n",
    "    One of the relations that can be made is highway vs number of accidents. Does a particular highway presents a higer risk  than than others."
   ]
  },
  {
   "cell_type": "code",
   "execution_count": null,
   "metadata": {},
   "outputs": [],
   "source": [
    "# Load Yellowbick\n",
    "from yellowbrick.features import RadViz\n",
    "#from yellowbrick.features import ScatterVisualizer"
   ]
  },
  {
   "cell_type": "code",
   "execution_count": null,
   "metadata": {},
   "outputs": [],
   "source": [
    "# get the features of interest and the clasess of the target\n",
    "atmosFeatures=Accident_df.atmospheric_conditions_name.unique().tolist()\n",
    "atmosStates=Accident_df.state_name.unique().tolist()\n",
    "\n",
    "\n",
    "X=AccPerStateAndAtmos[atmosFeatures].as_matrix()\n",
    "y=AccPerStateAndAtmos.index.as_matrix()\n",
    "\n"
   ]
  },
  {
   "cell_type": "code",
   "execution_count": null,
   "metadata": {},
   "outputs": [],
   "source": [
    "#Group the dataset\n",
    "#AccGroup_df = Accident_df.groupby(by=['state_name','atmospheric_conditions_name'])\n",
    "#AccGroupFatal = AccGroup_df.number_of_fatalities.sum()\n",
    "#AccGroupFatal\n",
    "\n",
    "list(Accident_df)"
   ]
  },
  {
   "cell_type": "code",
   "execution_count": null,
   "metadata": {},
   "outputs": [],
   "source": [
    "#Accident_df.info()\n",
    "Accident_forScatter=Accident_df\n",
    "\n",
    "# 1. Remove attributes that just arent useful for us\n",
    "for col in ['Unnamed: 0',\n",
    "             'state_number',\n",
    "             'state_name',\n",
    "             'consecutive_number',\n",
    "             'county',\n",
    "             'city',\n",
    "             'day_of_crash',\n",
    "             'month_of_crash',\n",
    "             'year_of_crash',\n",
    "             'day_of_week',\n",
    "             'hour_of_crash',\n",
    "             'minute_of_crash',\n",
    "             'national_highway_system',\n",
    "             'land_use',\n",
    "             'land_use_name',\n",
    "             'functional_system',\n",
    "             'functional_system_name',\n",
    "             'ownership',\n",
    "             'ownership_name',\n",
    "             'route_signing',\n",
    "             'route_signing_name',\n",
    "             'trafficway_identifier',\n",
    "             'trafficway_identifier_2',\n",
    "             'latitude',\n",
    "             'longitude',\n",
    "             'special_jurisdiction',\n",
    "             'special_jurisdiction_name',\n",
    "             'first_harmful_event',\n",
    "             'first_harmful_event_name',\n",
    "             'manner_of_collision',\n",
    "             'manner_of_collision_name',\n",
    "             'relation_to_junction_within_interchange_area',\n",
    "             'relation_to_junction_specific_location',\n",
    "             'relation_to_junction_specific_location_name',\n",
    "             'type_of_intersection',\n",
    "             'work_zone',\n",
    "             'relation_to_trafficway',\n",
    "             'relation_to_trafficway_name',\n",
    "             'light_condition',\n",
    "             'light_condition_name',\n",
    "             'atmospheric_conditions_1',\n",
    "             'atmospheric_conditions_1_name',\n",
    "             'atmospheric_conditions_2',\n",
    "             'atmospheric_conditions_2_name',\n",
    "             'atmospheric_conditions',\n",
    "             'school_bus_related',\n",
    "             'rail_grade_crossing_identifier',\n",
    "             'hour_of_notification',\n",
    "             'minute_of_notification',\n",
    "             'hour_of_arrival_at_scene',\n",
    "             'minute_of_arrival_at_scene',\n",
    "             'hour_of_ems_arrival_at_hospital',\n",
    "             'minute_of_ems_arrival_at_hospital',\n",
    "             'related_factors_crash_level_1',\n",
    "             'related_factors_crash_level_1_name',\n",
    "             'related_factors_crash_level_2',\n",
    "             'related_factors_crash_level_2_name',\n",
    "             'related_factors_crash_level_3',\n",
    "             'related_factors_crash_level_3_name',\n",
    "             'milepoint',\n",
    "             'timestamp_of_crash',\n",
    "             'number_of_vehicle_forms_submitted_all',\n",
    "             'number_of_motor_vehicles_in_transport_mvit']:\n",
    "                if col in Accident_forScatter:\n",
    "                    del Accident_forScatter[col]\n",
    "                \n",
    "# Changes the varible types                \n",
    "for col in list(Accident_forScatter):\n",
    "    if (Accident_forScatter[col].dtype) == 'int64':\n",
    "        Accident_forScatter[col]=Accident_forScatter[col].astype(float)\n",
    "                \n",
    "#Accident_forScatter.dtypes\n",
    "#Create ScatterMatrix\n",
    "x=Accident_forScatter.plot.scatter(x='Fatalities_ratio',y='number_of_parked_working_vehicles')\n"
   ]
  },
  {
   "cell_type": "code",
   "execution_count": null,
   "metadata": {},
   "outputs": [],
   "source": [
    "Accident_forScatter.transpose()"
   ]
  },
  {
   "cell_type": "code",
   "execution_count": null,
   "metadata": {
    "scrolled": true
   },
   "outputs": [],
   "source": [
    "### Crosstab for the athmospheric conditions\n",
    "\n",
    "AccPerStateAndAtmos=pd.crosstab(Accident_df['state_name'],Accident_df['atmospheric_conditions_1_name'])\n",
    "type(AccPerStateAndAtmos)"
   ]
  },
  {
   "cell_type": "code",
   "execution_count": null,
   "metadata": {},
   "outputs": [],
   "source": [
    "    # Group Fatalities by State and atmospheric conditions\n",
    "    AccGroupby= Accident_df.groupby(by=['state_name','atmospheric_conditions_1_name'])\n",
    "    AccGroupbySum=AccGroupby.number_of_fatalities.sum()\n",
    "    AccGroupby.plot.scatter(x='state_name', y=AccGroupby.number_of_fatalities.sum())"
   ]
  },
  {
   "cell_type": "markdown",
   "metadata": {},
   "source": [
    "## Explore Attributes and Class"
   ]
  },
  {
   "cell_type": "markdown",
   "metadata": {},
   "source": [
    "## New Features"
   ]
  },
  {
   "cell_type": "code",
   "execution_count": null,
   "metadata": {},
   "outputs": [],
   "source": [
    "#Creates a new column to identify if there was daylight at the time of the accident. Dawn and Dusk were indicated as daylight.\n",
    "#This effective turns the daylight condition column into a binary field to be used later in the violin graph\n",
    "Accident_df['Day_Time_Yes_No'] = np.where(Accident_df['light_condition'] == 1 , 'yes', 'no')\n",
    "Accident_df['Day_Time_Yes_No'] = np.where(Accident_df['light_condition'] == 4 , 'yes', Accident_df['Day_Time_Yes_No'])\n",
    "Accident_df['Day_Time_Yes_No'] = np.where(Accident_df['light_condition'] == 5 , 'yes', Accident_df['Day_Time_Yes_No'])\n",
    "#Treats unknown and not reported as null in the data set. This is done because we cannot gain any insight of the lighting condition from these records. \n",
    "Accident_df['Day_Time_Yes_No'] = np.where(Accident_df['light_condition'] == 8 , np.nan , Accident_df['Day_Time_Yes_No'])\n",
    "Accident_df['Day_Time_Yes_No'] = np.where(Accident_df['light_condition'] == 9 , np.nan , Accident_df['Day_Time_Yes_No'])\n",
    "\n",
    "#count and summary of new light condition field \n",
    "Accident_df.groupby(['light_condition','light_condition_name','Day_Time_Yes_No']).size()\n"
   ]
  },
  {
   "cell_type": "code",
   "execution_count": null,
   "metadata": {
    "scrolled": true
   },
   "outputs": [],
   "source": [
    "\n",
    "\n",
    "Accident_df['Fatalities_ratio'] = Accident_df.number_of_fatalities/(Accident_df.number_of_persons_not_in_motor_vehicles_in_transport_mvit + Accident_df.number_of_persons_in_motor_vehicles_in_transport_mvit)\n",
    "\n",
    "Accident_df.head()"
   ]
  },
  {
   "cell_type": "markdown",
   "metadata": {},
   "source": [
    "## Exceptional Work"
   ]
  }
 ],
 "metadata": {
  "kernelspec": {
   "display_name": "Python 3",
   "language": "python",
   "name": "python3"
  },
  "language_info": {
   "codemirror_mode": {
    "name": "ipython",
    "version": 3
   },
   "file_extension": ".py",
   "mimetype": "text/x-python",
   "name": "python",
   "nbconvert_exporter": "python",
   "pygments_lexer": "ipython3",
   "version": "3.6.4"
  }
 },
 "nbformat": 4,
 "nbformat_minor": 2
}
