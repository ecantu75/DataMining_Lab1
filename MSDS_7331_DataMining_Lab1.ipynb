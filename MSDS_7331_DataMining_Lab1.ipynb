{
 "cells": [
  {
   "cell_type": "markdown",
   "metadata": {},
   "source": [
    "# MSDS 7331 Data Mining Lab 1\n",
    "Profesor: Dr. Jake Drew  \n",
    "Team: Steven Hayden, Josephine MacDaniel, Afreen Siddiqui, & Eduardo Cantu"
   ]
  },
  {
   "cell_type": "code",
   "execution_count": null,
   "metadata": {},
   "outputs": [],
   "source": [
    "import pandas as pd\n",
    "import numpy as np"
   ]
  },
  {
   "cell_type": "markdown",
   "metadata": {},
   "source": [
    "## Business Understanding\n"
   ]
  },
  {
   "cell_type": "markdown",
   "metadata": {},
   "source": [
    "## Data Meaning Type"
   ]
  },
  {
   "cell_type": "markdown",
   "metadata": {},
   "source": [
    "## Data Quality"
   ]
  },
  {
   "cell_type": "code",
   "execution_count": 9,
   "metadata": {},
   "outputs": [
    {
     "data": {
      "text/html": [
       "<div>\n",
       "<style scoped>\n",
       "    .dataframe tbody tr th:only-of-type {\n",
       "        vertical-align: middle;\n",
       "    }\n",
       "\n",
       "    .dataframe tbody tr th {\n",
       "        vertical-align: top;\n",
       "    }\n",
       "\n",
       "    .dataframe thead th {\n",
       "        text-align: right;\n",
       "    }\n",
       "</style>\n",
       "<table border=\"1\" class=\"dataframe\">\n",
       "  <thead>\n",
       "    <tr style=\"text-align: right;\">\n",
       "      <th></th>\n",
       "      <th>Unnamed: 0_x</th>\n",
       "      <th>state_number_x</th>\n",
       "      <th>state_name</th>\n",
       "      <th>consecutive_number</th>\n",
       "      <th>number_of_vehicle_forms_submitted_all</th>\n",
       "      <th>number_of_motor_vehicles_in_transport_mvit</th>\n",
       "      <th>number_of_parked_working_vehicles</th>\n",
       "      <th>number_of_forms_submitted_for_persons_not_in_motor_vehicles</th>\n",
       "      <th>number_of_persons_not_in_motor_vehicles_in_transport_mvit</th>\n",
       "      <th>number_of_persons_in_motor_vehicles_in_transport_mvit</th>\n",
       "      <th>...</th>\n",
       "      <th>related_factors_crash_level_3</th>\n",
       "      <th>related_factors_crash_level_3_name</th>\n",
       "      <th>number_of_fatalities</th>\n",
       "      <th>number_of_drunk_drivers</th>\n",
       "      <th>timestamp_of_crash</th>\n",
       "      <th>Unnamed: 0_y</th>\n",
       "      <th>state_number_y</th>\n",
       "      <th>vehicle_number</th>\n",
       "      <th>driver_distracted_by</th>\n",
       "      <th>driver_distracted_by_name</th>\n",
       "    </tr>\n",
       "  </thead>\n",
       "  <tbody>\n",
       "    <tr>\n",
       "      <th>0</th>\n",
       "      <td>0</td>\n",
       "      <td>4</td>\n",
       "      <td>Arizona</td>\n",
       "      <td>40484</td>\n",
       "      <td>1</td>\n",
       "      <td>1</td>\n",
       "      <td>0</td>\n",
       "      <td>0</td>\n",
       "      <td>0</td>\n",
       "      <td>1</td>\n",
       "      <td>...</td>\n",
       "      <td>0</td>\n",
       "      <td>None</td>\n",
       "      <td>1</td>\n",
       "      <td>0</td>\n",
       "      <td>2016-07-16 14:01:00+00:00</td>\n",
       "      <td>42964.0</td>\n",
       "      <td>4.0</td>\n",
       "      <td>1.0</td>\n",
       "      <td>99.0</td>\n",
       "      <td>Unknown if Distracted</td>\n",
       "    </tr>\n",
       "    <tr>\n",
       "      <th>1</th>\n",
       "      <td>0</td>\n",
       "      <td>4</td>\n",
       "      <td>Arizona</td>\n",
       "      <td>40484</td>\n",
       "      <td>1</td>\n",
       "      <td>1</td>\n",
       "      <td>0</td>\n",
       "      <td>0</td>\n",
       "      <td>0</td>\n",
       "      <td>1</td>\n",
       "      <td>...</td>\n",
       "      <td>0</td>\n",
       "      <td>None</td>\n",
       "      <td>1</td>\n",
       "      <td>0</td>\n",
       "      <td>2016-07-16 14:01:00+00:00</td>\n",
       "      <td>42964.0</td>\n",
       "      <td>4.0</td>\n",
       "      <td>1.0</td>\n",
       "      <td>99.0</td>\n",
       "      <td>Unknown if Distracted</td>\n",
       "    </tr>\n",
       "    <tr>\n",
       "      <th>2</th>\n",
       "      <td>1</td>\n",
       "      <td>4</td>\n",
       "      <td>Arizona</td>\n",
       "      <td>40615</td>\n",
       "      <td>1</td>\n",
       "      <td>1</td>\n",
       "      <td>0</td>\n",
       "      <td>1</td>\n",
       "      <td>1</td>\n",
       "      <td>1</td>\n",
       "      <td>...</td>\n",
       "      <td>0</td>\n",
       "      <td>None</td>\n",
       "      <td>1</td>\n",
       "      <td>0</td>\n",
       "      <td>2016-08-28 02:33:00+00:00</td>\n",
       "      <td>33742.0</td>\n",
       "      <td>4.0</td>\n",
       "      <td>1.0</td>\n",
       "      <td>1.0</td>\n",
       "      <td>Looked But Did Not See</td>\n",
       "    </tr>\n",
       "    <tr>\n",
       "      <th>3</th>\n",
       "      <td>1</td>\n",
       "      <td>4</td>\n",
       "      <td>Arizona</td>\n",
       "      <td>40615</td>\n",
       "      <td>1</td>\n",
       "      <td>1</td>\n",
       "      <td>0</td>\n",
       "      <td>1</td>\n",
       "      <td>1</td>\n",
       "      <td>1</td>\n",
       "      <td>...</td>\n",
       "      <td>0</td>\n",
       "      <td>None</td>\n",
       "      <td>1</td>\n",
       "      <td>0</td>\n",
       "      <td>2016-08-28 02:33:00+00:00</td>\n",
       "      <td>33742.0</td>\n",
       "      <td>4.0</td>\n",
       "      <td>1.0</td>\n",
       "      <td>1.0</td>\n",
       "      <td>Looked But Did Not See</td>\n",
       "    </tr>\n",
       "    <tr>\n",
       "      <th>4</th>\n",
       "      <td>2</td>\n",
       "      <td>4</td>\n",
       "      <td>Arizona</td>\n",
       "      <td>40610</td>\n",
       "      <td>1</td>\n",
       "      <td>1</td>\n",
       "      <td>0</td>\n",
       "      <td>0</td>\n",
       "      <td>0</td>\n",
       "      <td>3</td>\n",
       "      <td>...</td>\n",
       "      <td>0</td>\n",
       "      <td>None</td>\n",
       "      <td>2</td>\n",
       "      <td>0</td>\n",
       "      <td>2016-08-16 08:50:00+00:00</td>\n",
       "      <td>42943.0</td>\n",
       "      <td>4.0</td>\n",
       "      <td>1.0</td>\n",
       "      <td>99.0</td>\n",
       "      <td>Unknown if Distracted</td>\n",
       "    </tr>\n",
       "  </tbody>\n",
       "</table>\n",
       "<p>5 rows × 76 columns</p>\n",
       "</div>"
      ],
      "text/plain": [
       "   Unnamed: 0_x  state_number_x state_name  consecutive_number  \\\n",
       "0             0               4    Arizona               40484   \n",
       "1             0               4    Arizona               40484   \n",
       "2             1               4    Arizona               40615   \n",
       "3             1               4    Arizona               40615   \n",
       "4             2               4    Arizona               40610   \n",
       "\n",
       "   number_of_vehicle_forms_submitted_all  \\\n",
       "0                                      1   \n",
       "1                                      1   \n",
       "2                                      1   \n",
       "3                                      1   \n",
       "4                                      1   \n",
       "\n",
       "   number_of_motor_vehicles_in_transport_mvit  \\\n",
       "0                                           1   \n",
       "1                                           1   \n",
       "2                                           1   \n",
       "3                                           1   \n",
       "4                                           1   \n",
       "\n",
       "   number_of_parked_working_vehicles  \\\n",
       "0                                  0   \n",
       "1                                  0   \n",
       "2                                  0   \n",
       "3                                  0   \n",
       "4                                  0   \n",
       "\n",
       "   number_of_forms_submitted_for_persons_not_in_motor_vehicles  \\\n",
       "0                                                  0             \n",
       "1                                                  0             \n",
       "2                                                  1             \n",
       "3                                                  1             \n",
       "4                                                  0             \n",
       "\n",
       "   number_of_persons_not_in_motor_vehicles_in_transport_mvit  \\\n",
       "0                                                  0           \n",
       "1                                                  0           \n",
       "2                                                  1           \n",
       "3                                                  1           \n",
       "4                                                  0           \n",
       "\n",
       "   number_of_persons_in_motor_vehicles_in_transport_mvit  \\\n",
       "0                                                  1       \n",
       "1                                                  1       \n",
       "2                                                  1       \n",
       "3                                                  1       \n",
       "4                                                  3       \n",
       "\n",
       "             ...              related_factors_crash_level_3  \\\n",
       "0            ...                                          0   \n",
       "1            ...                                          0   \n",
       "2            ...                                          0   \n",
       "3            ...                                          0   \n",
       "4            ...                                          0   \n",
       "\n",
       "   related_factors_crash_level_3_name  number_of_fatalities  \\\n",
       "0                                None                     1   \n",
       "1                                None                     1   \n",
       "2                                None                     1   \n",
       "3                                None                     1   \n",
       "4                                None                     2   \n",
       "\n",
       "   number_of_drunk_drivers         timestamp_of_crash  Unnamed: 0_y  \\\n",
       "0                        0  2016-07-16 14:01:00+00:00       42964.0   \n",
       "1                        0  2016-07-16 14:01:00+00:00       42964.0   \n",
       "2                        0  2016-08-28 02:33:00+00:00       33742.0   \n",
       "3                        0  2016-08-28 02:33:00+00:00       33742.0   \n",
       "4                        0  2016-08-16 08:50:00+00:00       42943.0   \n",
       "\n",
       "   state_number_y  vehicle_number  driver_distracted_by  \\\n",
       "0             4.0             1.0                  99.0   \n",
       "1             4.0             1.0                  99.0   \n",
       "2             4.0             1.0                   1.0   \n",
       "3             4.0             1.0                   1.0   \n",
       "4             4.0             1.0                  99.0   \n",
       "\n",
       "   driver_distracted_by_name  \n",
       "0      Unknown if Distracted  \n",
       "1      Unknown if Distracted  \n",
       "2     Looked But Did Not See  \n",
       "3     Looked But Did Not See  \n",
       "4      Unknown if Distracted  \n",
       "\n",
       "[5 rows x 76 columns]"
      ]
     },
     "execution_count": 9,
     "metadata": {},
     "output_type": "execute_result"
    }
   ],
   "source": [
    "import pandas as pd\n",
    "import numpy as np\n",
    "\n",
    "# read in the data from 2015 and 2016\n",
    "\n",
    "Accident_2015_df = pd.read_csv('https://raw.githubusercontent.com/ecantu75/DataMining_Lab1/master/Data/accident_2015.csv',low_memory=False)\n",
    "Accident_2016_df = pd.read_csv('https://raw.githubusercontent.com/ecantu75/DataMining_Lab1/master/Data/accident_2016.csv',low_memory=False)\n",
    "Distract_2015_df = pd.read_csv('https://raw.githubusercontent.com/ecantu75/DataMining_Lab1/master/Data/distract_2015.csv',low_memory=False)\n",
    "Distract_2016_df = pd.read_csv('https://raw.githubusercontent.com/ecantu75/DataMining_Lab1/master/Data/distract_2016.csv',low_memory=False) \n",
    "\n",
    "#combines the 2015 and 2016 file into one data frame\n",
    "Accident_df = pd.concat([Accident_2016_df,Accident_2015_df])\n",
    "Distract_df =pd.concat([Distract_2015_df,Distract_2016_df])\n",
    "\n",
    "#merg the distract data set and the accident data set\n",
    "Accident_df  = pd.merge(Accident_df, Distract_df,  how='left', left_on=['consecutive_number'], right_on = ['consecutive_number'])\n",
    "\n",
    "Accident_df.head()"
   ]
  },
  {
   "cell_type": "code",
   "execution_count": 8,
   "metadata": {},
   "outputs": [],
   "source": []
  },
  {
   "cell_type": "markdown",
   "metadata": {},
   "source": [
    "## Simple Statistics"
   ]
  },
  {
   "cell_type": "markdown",
   "metadata": {},
   "source": [
    "## Visualize Attributes"
   ]
  },
  {
   "cell_type": "code",
   "execution_count": 19,
   "metadata": {},
   "outputs": [
    {
     "data": {
      "text/plain": [
       "number_of_persons_in_motor_vehicles_in_transport_mvit\n",
       "0        165\n",
       "1      68599\n",
       "2      56249\n",
       "3      32306\n",
       "4      17053\n",
       "5       9601\n",
       "6       5586\n",
       "7       3064\n",
       "8       1930\n",
       "9        886\n",
       "10       663\n",
       "11       451\n",
       "12       344\n",
       "13       245\n",
       "14       148\n",
       "15       124\n",
       "16        31\n",
       "17        42\n",
       "18        67\n",
       "19        46\n",
       "20        23\n",
       "22         9\n",
       "23        10\n",
       "24        60\n",
       "25        36\n",
       "27        28\n",
       "28        32\n",
       "29         4\n",
       "30         4\n",
       "32        36\n",
       "34         2\n",
       "35        10\n",
       "36         2\n",
       "37         4\n",
       "38         4\n",
       "41         2\n",
       "45         4\n",
       "48         6\n",
       "49        62\n",
       "50        58\n",
       "52         4\n",
       "53         4\n",
       "68       116\n",
       "93        10\n",
       "120        2\n",
       "Name: consecutive_number, dtype: int64"
      ]
     },
     "execution_count": 19,
     "metadata": {},
     "output_type": "execute_result"
    }
   ],
   "source": [
    "\n",
    "Acc_count = Accident_df .groupby('number_of_persons_in_motor_vehicles_in_transport_mvit').count()\n",
    "Acc_count['consecutive_number']"
   ]
  },
  {
   "cell_type": "code",
   "execution_count": 25,
   "metadata": {},
   "outputs": [
    {
     "ename": "TypeError",
     "evalue": "'Text' object is not callable",
     "output_type": "error",
     "traceback": [
      "\u001b[1;31m---------------------------------------------------------------------------\u001b[0m",
      "\u001b[1;31mTypeError\u001b[0m                                 Traceback (most recent call last)",
      "\u001b[1;32m<ipython-input-25-ae39d8192c9e>\u001b[0m in \u001b[0;36m<module>\u001b[1;34m()\u001b[0m\n\u001b[0;32m      1\u001b[0m \u001b[0max\u001b[0m \u001b[1;33m=\u001b[0m \u001b[0mAccident_df\u001b[0m\u001b[1;33m.\u001b[0m\u001b[0mboxplot\u001b[0m\u001b[1;33m(\u001b[0m\u001b[0mcolumn\u001b[0m\u001b[1;33m=\u001b[0m\u001b[1;34m'consecutive_number'\u001b[0m\u001b[1;33m,\u001b[0m \u001b[0mby\u001b[0m \u001b[1;33m=\u001b[0m \u001b[1;34m'number_of_persons_in_motor_vehicles_in_transport_mvit'\u001b[0m\u001b[1;33m)\u001b[0m\u001b[1;33m\u001b[0m\u001b[0m\n\u001b[1;32m----> 2\u001b[1;33m \u001b[0max\u001b[0m\u001b[1;33m.\u001b[0m\u001b[0mtitle\u001b[0m\u001b[1;33m(\u001b[0m\u001b[1;34m\"Boxplot of Something\"\u001b[0m\u001b[1;33m)\u001b[0m\u001b[1;33m\u001b[0m\u001b[0m\n\u001b[0m\u001b[0;32m      3\u001b[0m \u001b[1;31m#ax.set_yscale('log')\u001b[0m\u001b[1;33m\u001b[0m\u001b[1;33m\u001b[0m\u001b[0m\n",
      "\u001b[1;31mTypeError\u001b[0m: 'Text' object is not callable"
     ]
    },
    {
     "data": {
      "image/png": "[encoded data removed]",
      "text/plain": [
       "<Figure size 432x288 with 1 Axes>"
      ]
     },
     "metadata": {},
     "output_type": "display_data"
    }
   ],
   "source": [
    "ax = Accident_df.boxplot(column='consecutive_number', by = 'number_of_persons_in_motor_vehicles_in_transport_mvit')\n",
    "ax.title(\"Boxplot of Something\")\n",
    "#ax.set_yscale('log')"
   ]
  },
  {
   "cell_type": "markdown",
   "metadata": {},
   "source": [
    "## Explore Joint Attributes"
   ]
  },
  {
   "cell_type": "markdown",
   "metadata": {},
   "source": [
    "## Explore Attributes and Class"
   ]
  },
  {
   "cell_type": "markdown",
   "metadata": {},
   "source": [
    "## New Features"
   ]
  },
  {
   "cell_type": "markdown",
   "metadata": {},
   "source": [
    "## Exceptional Work"
   ]
  }
 ],
 "metadata": {
  "kernelspec": {
   "display_name": "Python 3",
   "language": "python",
   "name": "python3"
  },
  "language_info": {
   "codemirror_mode": {
    "name": "ipython",
    "version": 3
   },
   "file_extension": ".py",
   "mimetype": "text/x-python",
   "name": "python",
   "nbconvert_exporter": "python",
   "pygments_lexer": "ipython3",
   "version": "3.6.5"
  }
 },
 "nbformat": 4,
 "nbformat_minor": 2
}
