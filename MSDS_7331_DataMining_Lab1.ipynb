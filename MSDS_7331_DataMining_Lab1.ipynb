{
 "cells": [
  {
   "cell_type": "markdown",
   "metadata": {},
   "source": [
    "# MSDS 7331 Data Mining Lab 1\n",
    "Profesor: Dr. Jake Drew  \n",
    "Team: Steven Hayden, Josephine MacDaniel, Afreen Siddiqui, & Eduardo Cantu"
   ]
  },
  {
   "cell_type": "code",
   "execution_count": 7,
   "metadata": {},
   "outputs": [],
   "source": [
    "import pandas as pd\n",
    "import numpy as np\n",
    "import seaborn as seaborn\n",
    "import matplotlib.pyplot as plt"
   ]
  },
  {
   "cell_type": "markdown",
   "metadata": {},
   "source": [
    "## Business Understanding\n"
   ]
  },
  {
   "cell_type": "markdown",
   "metadata": {},
   "source": [
    "## Data Meaning Type"
   ]
  },
  {
   "cell_type": "markdown",
   "metadata": {},
   "source": [
    "## Data Quality"
   ]
  },
  {
   "cell_type": "code",
   "execution_count": 8,
   "metadata": {},
   "outputs": [
    {
     "name": "stdout",
     "output_type": "stream",
     "text": [
      "<class 'pandas.core.frame.DataFrame'>\n",
      "RangeIndex: 34439 entries, 0 to 34438\n",
      "Data columns (total 71 columns):\n",
      "Unnamed: 0                                                     34439 non-null int64\n",
      "state_number                                                   34439 non-null int64\n",
      "state_name                                                     34439 non-null object\n",
      "consecutive_number                                             34439 non-null int64\n",
      "number_of_vehicle_forms_submitted_all                          34439 non-null int64\n",
      "number_of_motor_vehicles_in_transport_mvit                     34439 non-null int64\n",
      "number_of_parked_working_vehicles                              34439 non-null int64\n",
      "number_of_forms_submitted_for_persons_not_in_motor_vehicles    34439 non-null int64\n",
      "number_of_persons_not_in_motor_vehicles_in_transport_mvit      34439 non-null int64\n",
      "number_of_persons_in_motor_vehicles_in_transport_mvit          34439 non-null int64\n",
      "number_of_forms_submitted_for_persons_in_motor_vehicles        34439 non-null int64\n",
      "county                                                         34439 non-null int64\n",
      "city                                                           34439 non-null int64\n",
      "day_of_crash                                                   34439 non-null int64\n",
      "month_of_crash                                                 34439 non-null int64\n",
      "year_of_crash                                                  34439 non-null int64\n",
      "day_of_week                                                    34439 non-null int64\n",
      "hour_of_crash                                                  34439 non-null int64\n",
      "minute_of_crash                                                34439 non-null int64\n",
      "national_highway_system                                        34439 non-null int64\n",
      "land_use                                                       34439 non-null int64\n",
      "land_use_name                                                  34439 non-null object\n",
      "functional_system                                              34439 non-null int64\n",
      "functional_system_name                                         34439 non-null object\n",
      "ownership                                                      34439 non-null int64\n",
      "ownership_name                                                 34439 non-null object\n",
      "route_signing                                                  34439 non-null int64\n",
      "route_signing_name                                             34439 non-null object\n",
      "trafficway_identifier                                          34439 non-null object\n",
      "trafficway_identifier_2                                        9156 non-null object\n",
      "milepoint                                                      34439 non-null int64\n",
      "latitude                                                       34439 non-null float64\n",
      "longitude                                                      34439 non-null float64\n",
      "special_jurisdiction                                           34439 non-null int64\n",
      "special_jurisdiction_name                                      34439 non-null object\n",
      "first_harmful_event                                            34439 non-null int64\n",
      "first_harmful_event_name                                       34439 non-null object\n",
      "manner_of_collision                                            34439 non-null int64\n",
      "manner_of_collision_name                                       34439 non-null object\n",
      "relation_to_junction_within_interchange_area                   34439 non-null object\n",
      "relation_to_junction_specific_location                         34439 non-null int64\n",
      "relation_to_junction_specific_location_name                    34439 non-null object\n",
      "type_of_intersection                                           34439 non-null object\n",
      "work_zone                                                      34439 non-null object\n",
      "relation_to_trafficway                                         34439 non-null int64\n",
      "relation_to_trafficway_name                                    34439 non-null object\n",
      "light_condition                                                34439 non-null int64\n",
      "light_condition_name                                           34439 non-null object\n",
      "atmospheric_conditions_1                                       34439 non-null int64\n",
      "atmospheric_conditions_1_name                                  34439 non-null object\n",
      "atmospheric_conditions_2                                       34439 non-null int64\n",
      "atmospheric_conditions_2_name                                  34439 non-null object\n",
      "atmospheric_conditions                                         34439 non-null int64\n",
      "atmospheric_conditions_name                                    34439 non-null object\n",
      "school_bus_related                                             34439 non-null object\n",
      "rail_grade_crossing_identifier                                 34439 non-null object\n",
      "hour_of_notification                                           34439 non-null int64\n",
      "minute_of_notification                                         34439 non-null int64\n",
      "hour_of_arrival_at_scene                                       34439 non-null int64\n",
      "minute_of_arrival_at_scene                                     34439 non-null int64\n",
      "hour_of_ems_arrival_at_hospital                                34439 non-null int64\n",
      "minute_of_ems_arrival_at_hospital                              34439 non-null int64\n",
      "related_factors_crash_level_1                                  34439 non-null int64\n",
      "related_factors_crash_level_1_name                             34439 non-null object\n",
      "related_factors_crash_level_2                                  34439 non-null int64\n",
      "related_factors_crash_level_2_name                             34439 non-null object\n",
      "related_factors_crash_level_3                                  34439 non-null int64\n",
      "related_factors_crash_level_3_name                             34439 non-null object\n",
      "number_of_fatalities                                           34439 non-null int64\n",
      "number_of_drunk_drivers                                        34439 non-null int64\n",
      "timestamp_of_crash                                             34439 non-null object\n",
      "dtypes: float64(2), int64(44), object(25)\n",
      "memory usage: 18.7+ MB\n"
     ]
    }
   ],
   "source": [
    "\n",
    "\n",
    "# read in the data from 2015 and 2016\n",
    "Accident_df = pd.read_csv('https://raw.githubusercontent.com/ecantu75/DataMining_Lab1/master/Data/accident_2016.csv',low_memory=False)\n",
    "\n",
    "\n",
    "#Data frame description \n",
    "Accident_df.head()\n",
    "Accident_df.count()\n",
    "Accident_df.info()\n",
    "\n"
   ]
  },
  {
   "cell_type": "code",
   "execution_count": 10,
   "metadata": {},
   "outputs": [
    {
     "data": {
      "text/plain": [
       "1"
      ]
     },
     "execution_count": 10,
     "metadata": {},
     "output_type": "execute_result"
    }
   ],
   "source": [
    "#check for duplicate recoreds\n",
    "Accident_df['consecutive_number'].value_counts().max()\n"
   ]
  },
  {
   "cell_type": "markdown",
   "metadata": {},
   "source": [
    "## Simple Statistics"
   ]
  },
  {
   "cell_type": "markdown",
   "metadata": {},
   "source": [
    "37461 death in this data set. 43% of people involved in a accident die "
   ]
  },
  {
   "cell_type": "code",
   "execution_count": 3,
   "metadata": {},
   "outputs": [
    {
     "name": "stdout",
     "output_type": "stream",
     "text": [
      "Number of people who died in a car accident in 2016:  37461 43.81608496303921\n"
     ]
    }
   ],
   "source": [
    "# Number of people who died in a car accident based on the given data for 2016 \n",
    "percentDeath = float(sum(Accident_df.number_of_fatalities)/(sum(Accident_df.number_of_persons_not_in_motor_vehicles_in_transport_mvit)+sum(Accident_df.number_of_persons_in_motor_vehicles_in_transport_mvit)) * 100)\n",
    "Deaths = sum(Accident_df.number_of_fatalities)\n",
    "print('Number of people who died in a car accident in 2016: ', Deaths , percentDeath)\n",
    "\n"
   ]
  },
  {
   "cell_type": "code",
   "execution_count": 4,
   "metadata": {},
   "outputs": [
    {
     "data": {
      "text/plain": [
       "<matplotlib.axes._subplots.AxesSubplot at 0x1a1114e240>"
      ]
     },
     "execution_count": 4,
     "metadata": {},
     "output_type": "execute_result"
    },
    {
     "data": {
      "image/png": "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\n",
      "text/plain": [
       "<Figure size 432x288 with 1 Axes>"
      ]
     },
     "metadata": {},
     "output_type": "display_data"
    }
   ],
   "source": [
    "# Monthly data for accidents\n",
    "fatility_counts = pd.crosstab([Accident_df['month_of_crash']], Accident_df.number_of_fatalities)\n",
    "fatility_counts.plot(kind='bar', stacked=True, color=['green'], legend=False)"
   ]
  },
  {
   "cell_type": "code",
   "execution_count": 5,
   "metadata": {},
   "outputs": [
    {
     "data": {
      "text/html": [
       "<div>\n",
       "<style scoped>\n",
       "    .dataframe tbody tr th:only-of-type {\n",
       "        vertical-align: middle;\n",
       "    }\n",
       "\n",
       "    .dataframe tbody tr th {\n",
       "        vertical-align: top;\n",
       "    }\n",
       "\n",
       "    .dataframe thead th {\n",
       "        text-align: right;\n",
       "    }\n",
       "</style>\n",
       "<table border=\"1\" class=\"dataframe\">\n",
       "  <thead>\n",
       "    <tr style=\"text-align: right;\">\n",
       "      <th></th>\n",
       "      <th>number_of_fatalities</th>\n",
       "    </tr>\n",
       "    <tr>\n",
       "      <th>month_of_crash</th>\n",
       "      <th></th>\n",
       "    </tr>\n",
       "  </thead>\n",
       "  <tbody>\n",
       "    <tr>\n",
       "      <th>10</th>\n",
       "      <td>3526</td>\n",
       "    </tr>\n",
       "    <tr>\n",
       "      <th>8</th>\n",
       "      <td>3349</td>\n",
       "    </tr>\n",
       "    <tr>\n",
       "      <th>9</th>\n",
       "      <td>3344</td>\n",
       "    </tr>\n",
       "    <tr>\n",
       "      <th>6</th>\n",
       "      <td>3306</td>\n",
       "    </tr>\n",
       "  </tbody>\n",
       "</table>\n",
       "</div>"
      ],
      "text/plain": [
       "                number_of_fatalities\n",
       "month_of_crash                      \n",
       "10                              3526\n",
       "8                               3349\n",
       "9                               3344\n",
       "6                               3306"
      ]
     },
     "execution_count": 5,
     "metadata": {},
     "output_type": "execute_result"
    }
   ],
   "source": [
    "#top 4 month of accidents\n",
    "Accident_df.groupby(['month_of_crash']).aggregate({'number_of_fatalities':sum}).sort_values('number_of_fatalities',ascending=False).head(4)"
   ]
  },
  {
   "cell_type": "code",
   "execution_count": 14,
   "metadata": {},
   "outputs": [
    {
     "data": {
      "text/html": [
       "<div>\n",
       "<style scoped>\n",
       "    .dataframe tbody tr th:only-of-type {\n",
       "        vertical-align: middle;\n",
       "    }\n",
       "\n",
       "    .dataframe tbody tr th {\n",
       "        vertical-align: top;\n",
       "    }\n",
       "\n",
       "    .dataframe thead th {\n",
       "        text-align: right;\n",
       "    }\n",
       "</style>\n",
       "<table border=\"1\" class=\"dataframe\">\n",
       "  <thead>\n",
       "    <tr style=\"text-align: right;\">\n",
       "      <th></th>\n",
       "      <th>accident_count</th>\n",
       "    </tr>\n",
       "  </thead>\n",
       "  <tbody>\n",
       "    <tr>\n",
       "      <th>9</th>\n",
       "      <td>3249</td>\n",
       "    </tr>\n",
       "    <tr>\n",
       "      <th>8</th>\n",
       "      <td>3120</td>\n",
       "    </tr>\n",
       "    <tr>\n",
       "      <th>7</th>\n",
       "      <td>3106</td>\n",
       "    </tr>\n",
       "    <tr>\n",
       "      <th>6</th>\n",
       "      <td>3008</td>\n",
       "    </tr>\n",
       "  </tbody>\n",
       "</table>\n",
       "</div>"
      ],
      "text/plain": [
       "   accident_count\n",
       "9            3249\n",
       "8            3120\n",
       "7            3106\n",
       "6            3008"
      ]
     },
     "execution_count": 14,
     "metadata": {},
     "output_type": "execute_result"
    }
   ],
   "source": [
    "# Monthly data for accidents\n",
    "acci_count=Accident_df.groupby(['month_of_crash']).count().reset_index(drop=True)\n",
    "\n",
    "acci_count.rename(columns={'Unnamed: 0': 'accident_count'}, inplace=True)\n",
    "#acci_count\n",
    "#type(acci_count)\n",
    "acci_count = acci_count.filter(['accident_count'], axis=1)\n",
    "acci_count_sorted = acci_count.sort_values('accident_count',ascending=False)\n",
    "acci_count_sorted.head(4)\n"
   ]
  },
  {
   "cell_type": "code",
   "execution_count": 7,
   "metadata": {},
   "outputs": [
    {
     "data": {
      "text/plain": [
       "<matplotlib.axes._subplots.AxesSubplot at 0x1a11108278>"
      ]
     },
     "execution_count": 7,
     "metadata": {},
     "output_type": "execute_result"
    },
    {
     "data": {
      "image/png": "iVBORw0KGgoAAAANSUhEUgAAAYAAAAELCAYAAADQsFGkAAAABHNCSVQICAgIfAhkiAAAAAlwSFlzAAALEgAACxIB0t1+/AAAADl0RVh0U29mdHdhcmUAbWF0cGxvdGxpYiB2ZXJzaW9uIDIuMi4yLCBodHRwOi8vbWF0cGxvdGxpYi5vcmcvhp/UCwAAG3lJREFUeJzt3X+4lWWd7/H3RzZBpMkPtx4DHbaJv2EjEnEyjMQDqI1oxVGbk6gZmnbSc7KJZmqk6XguurLsWKYXkyQ1EplmkjESIKZmqJDIj8BxK0zsZABFTcdg2vI9fzz3xgXsH2v/WHsD9+d1Xetaz7rX/Tz3/ay9rvXZz/38UkRgZmb5Oai7O2BmZt3DAWBmlikHgJlZphwAZmaZcgCYmWXKAWBmlikHgJlZphwAZmaZcgCYmWWqqrs70JLDDjssBg8e3N3dMDPbryxfvvyliKhurd4+HQCDBw9m2bJl3d0NM7P9iqR/K6eeh4DMzDLlADAzy5QDwMwsU/v0PgAzq7y//OUv1NfXs3379u7uirVR7969GTRoED179mzX/A4As8zV19dzyCGHMHjwYCR1d3esTBHByy+/TH19PTU1Ne1ahoeAzDK3fft2BgwY4B///YwkBgwY0KEtNweAmfnHfz/V0b+bA8DMLFPeB2Bmuxk87ZedurwNM87t1OVZ59lvA6C9X1J/Gc0OTOeccw5z5syhb9++u5VPnz6dgw8+mOuvv77Ny9ywYQOPP/44n/jEJzqrm2326quvMmfOHK6++upOX7aHgMzsgDB//vy9fvw7asOGDcyZM6dTl9lWr776Kt/73vcqsmwHgJntE84//3xOO+00Tj75ZGbOnAnAgw8+yIgRI6itrWXcuHEAvPHGG1x22WUMHTqUYcOGce+99wLFtcNeeuklAG688UaOP/54zjrrLJ599tldbTz//PNMnDiR0047jTFjxrBu3ToALr30Uj73uc/xgQ98gGOOOYZ77rkHgGnTpvHoo48yfPhwbr755ib7/dZbb3H99dfv6s93vvMdABYvXsypp57K0KFDufzyy9mxY8de/Vy2bBljx44Fii2Vyy+/nLFjx3LMMcdwyy237OrD888/z/Dhw/nCF77QOR92st8OAZnZgWXWrFn079+fP//5z7zvfe9j0qRJfPrTn+aRRx6hpqaGbdu2AfC1r32NQw89lFWrVgHwyiuv7Lac5cuXM3fuXJ5++mkaGhoYMWIEp512GgBTp07l9ttvZ8iQITzxxBNcffXVPPTQQwBs2rSJxx57jHXr1nHeeefx8Y9/nBkzZnDTTTfxwAMPNNvvmTNnsn79ep5++mmqqqrYtm0b27dv59JLL2Xx4sUcd9xxXHLJJdx2221cd911LX4G69atY8mSJbz++uscf/zxfOYzn2HGjBmsXr2aFStWtPuzbY4DwMz2Cbfccgv33XcfABs3bmTmzJmcccYZu05y6t+/PwCLFi1i7ty5u+br16/fbst59NFHueCCC+jTpw8A5513HlBsOTz++ONMnjx5V93G/8qh2AI56KCDOOmkk9i8eXPZ/V60aBFXXXUVVVVVu/r5zDPPUFNTw3HHHQfAlClTuPXWW1sNgHPPPZdevXrRq1cvDj/88Db1oz0cAGbW7R5++GEWLVrEb3/7W/r06cPYsWOpra3dbfimUUS0evx7U+/v3LmTvn37NvufdK9evXZro1xN9ael+auqqti5cyfAXidxlfahR48eNDQ0lN2P9nAAmNluuuNIuddee41+/frRp08f1q1bx9KlS9mxYwe//vWvWb9+/a4hoP79+zN+/Hi++93v8u1vfxsohoBKtwLOOOMMLr30UqZNm0ZDQwO/+MUvuPLKK3n3u99NTU0NP/3pT5k8eTIRwcqVK6mtrW22X4cccgivv/56i30fP348t99+O2PHjt01BHTCCSewYcMG6urqOPbYY/nRj37Ehz70IaDYB7B8+XLOPvvsXfsvWlJOH9rLO4HNrNtNnDiRhoYGhg0bxle+8hVGjx5NdXU1M2fO5KMf/Si1tbVceOGFAHz5y1/mlVde4ZRTTqG2tpYlS5bstqwRI0Zw4YUXMnz4cD72sY8xZsyYXe/ddddd3HHHHdTW1nLyySdz//33t9ivYcOGUVVVRW1tbbM7ga+44gqOPvpohg0bRm1tLXPmzKF379784Ac/YPLkyQwdOpSDDjqIq666CoAbbriBa6+9ljFjxtCjR49WP5sBAwZw+umnc8opp3T6TmC1ZVOnq40cOTKauyNYl58HMP3Qds73WvvmM+sia9eu5cQTT+zublg7NfX3k7Q8Ika2Nq+HgPZRQ2cPbdd8q6as6uSemNmBygFgZlaGBQsW8MUvfnG3spqaml1HLu2PHABmVtaRNbmbMGECEyZM6O5u7KajQ/it7gSW1FvSk5KekbRG0ldTeY2kJyQ9J+knkt6Rynul13Xp/cEly/pSKn9W0r71SZplqnfv3rz88ssd/jGxrtV4Q5jevXu3exnlbAHsAM6MiDck9QQek/QvwP8Gbo6IuZJuBz4F3JaeX4mIYyVdBHwduFDSScBFwMnAe4BFko6LiLfa3Xsz67BBgwZRX1/P1q1bu7sr1kaNt4Rsr1YDIIp/C95IL3umRwBnAo2XyJsNTKcIgElpGuAe4Lsqti0nAXMjYgewXlIdMAr4bbt7b2Yd1rNnz3bfUtD2b2XtA5DUA1gOHAvcCjwPvBoRjaep1QMD0/RAYCNARDRIeg0YkMqXliy2dB7rZmtPaN9hgCeuW9uu+W696qF2zXfN7We2az4z21tZAZCGaYZL6gvcBzT1a9E4gNjUnqRooXw3kqYCUwGOPvrocrpn1qpvXviRds33+Z80fxEws/1dm44CiohXJT0MjAb6SqpKWwGDgBdTtXrgKKBeUhVwKLCtpLxR6TylbcwEZkJxIlib1sZsH1E/7dF2zTdoxpjWK5l1knKOAqpO//kj6Z3AWcBaYAnw8VRtCtB4TvW89Jr0/kNpP8I84KJ0lFANMAR4srNWxMzM2qacLYAjgdlpP8BBwN0R8YCk3wNzJf0f4GngjlT/DuBHaSfvNoojf4iINZLuBn4PNADX+AggM7PuU85RQCuBU5sof4HiKJ49y7cDk/csT+/dCNzY9m6amVln89VAzcwy5QAwM8uUA8DMLFMOADOzTDkAzMwy5QAwM8uU7wdgdgCYPn16l85nBwZvAZiZZcoBYGaWKQeAmVmmHABmZplyAJiZZcoBYGaWKQeAmVmmfB6AmbXZ4ofe2675xp35fCf3xDrCAWBm+7z/smRFm+f59w8Pr0BPDiweAjIzy5QDwMwsUw4AM7NMOQDMzDLlADAzy5QDwMwsUw4AM7NMtRoAko6StETSWklrJF2byqdL+qOkFelxTsk8X5JUJ+lZSRNKyiemsjpJ0yqzSmZmVo5yTgRrAD4fEb+TdAiwXNLC9N7NEXFTaWVJJwEXAScD7wEWSTouvX0r8N+AeuApSfMi4vedsSJmZtY2rQZARGwCNqXp1yWtBQa2MMskYG5E7ADWS6oDRqX36iLiBQBJc1NdB4CZWTdo0z4ASYOBU4EnUtFnJa2UNEtSv1Q2ENhYMlt9Kmuu3MzMukHZASDpYOBe4LqI+BNwG/BeYDjFFsI3G6s2MXu0UL5nO1MlLZO0bOvWreV2z8zM2qisAJDUk+LH/66I+BlARGyOiLciYifwT7w9zFMPHFUy+yDgxRbKdxMRMyNiZESMrK6ubuv6mJlZmco5CkjAHcDaiPhWSfmRJdUuAFan6XnARZJ6SaoBhgBPAk8BQyTVSHoHxY7ieZ2zGmZm1lblHAV0OvBJYJWkxmuy/h1wsaThFMM4G4ArASJijaS7KXbuNgDXRMRbAJI+CywAegCzImJNJ66LmZm1QTlHAT1G0+P381uY50bgxibK57c0n5mZdR3fEMbMrMTgab9s13wbZpzbyT2pPF8KwswsUw4AM7NMOQDMzDLlfQBmZt2oO/c5eAvAzCxTDgAzs0w5AMzMMuUAMDPLlAPAzCxTDgAzs0w5AMzMMuUAMDPLlAPAzCxTDgAzs0w5AMzMMuUAMDPLlAPAzCxTDgAzs0w5AMzMMuUAMDPLlAPAzCxTDgAzs0y1GgCSjpK0RNJaSWskXZvK+0taKOm59NwvlUvSLZLqJK2UNKJkWVNS/eckTancapmZWWvK2QJoAD4fEScCo4FrJJ0ETAMWR8QQYHF6DXA2MCQ9pgK3QREYwA3A+4FRwA2NoWFmZl2v1QCIiE0R8bs0/TqwFhgITAJmp2qzgfPT9CTgh1FYCvSVdCQwAVgYEdsi4hVgITCxU9fGzMzK1qZ9AJIGA6cCTwBHRMQmKEICODxVGwhsLJmtPpU1V75nG1MlLZO0bOvWrW3pnpmZtUHZASDpYOBe4LqI+FNLVZsoixbKdy+ImBkRIyNiZHV1dbndMzOzNiorACT1pPjxvysifpaKN6ehHdLzllReDxxVMvsg4MUWys3MrBuUcxSQgDuAtRHxrZK35gGNR/JMAe4vKb8kHQ00GngtDREtAMZL6pd2/o5PZWZm1g2qyqhzOvBJYJWkFans74AZwN2SPgX8AZic3psPnAPUAW8ClwFExDZJXwOeSvX+MSK2dcpamJlZm7UaABHxGE2P3wOMa6J+ANc0s6xZwKy2dNDMzCrDZwKbmWXKAWBmlikHgJlZphwAZmaZcgCYmWXKAWBmlikHgJlZphwAZmaZcgCYmWXKAWBmlikHgJlZphwAZmaZcgCYmWXKAWBmlikHgJlZphwAZmaZcgCYmWXKAWBmlikHgJlZphwAZmaZcgCYmWXKAWBmlikHgJlZploNAEmzJG2RtLqkbLqkP0pakR7nlLz3JUl1kp6VNKGkfGIqq5M0rfNXxczM2qKcLYA7gYlNlN8cEcPTYz6ApJOAi4CT0zzfk9RDUg/gVuBs4CTg4lTXzMy6SVVrFSLiEUmDy1zeJGBuROwA1kuqA0al9+oi4gUASXNT3d+3ucdmZtYpOrIP4LOSVqYhon6pbCCwsaROfSprrnwvkqZKWiZp2datWzvQPTMza0l7A+A24L3AcGAT8M1UribqRgvlexdGzIyIkRExsrq6up3dMzOz1rQ6BNSUiNjcOC3pn4AH0st64KiSqoOAF9N0c+VmZtYN2rUFIOnIkpcXAI1HCM0DLpLUS1INMAR4EngKGCKpRtI7KHYUz2t/t83MrKNa3QKQ9GNgLHCYpHrgBmCspOEUwzgbgCsBImKNpLspdu42ANdExFtpOZ8FFgA9gFkRsabT18bMzMpWzlFAFzdRfEcL9W8EbmyifD4wv029MzOzivGZwGZmmXIAmJllygFgZpYpB4CZWaYcAGZmmXIAmJllygFgZpYpB4CZWaYcAGZmmXIAmJllygFgZpYpB4CZWaYcAGZmmXIAmJllygFgZpYpB4CZWaYcAGZmmXIAmJllygFgZpYpB4CZWaYcAGZmmXIAmJllqtUAkDRL0hZJq0vK+ktaKOm59NwvlUvSLZLqJK2UNKJknimp/nOSplRmdczMrFzlbAHcCUzco2wasDgihgCL02uAs4Eh6TEVuA2KwABuAN4PjAJuaAwNMzPrHq0GQEQ8Amzbo3gSMDtNzwbOLyn/YRSWAn0lHQlMABZGxLaIeAVYyN6hYmZmXai9+wCOiIhNAOn58FQ+ENhYUq8+lTVXbmZm3aSzdwKribJooXzvBUhTJS2TtGzr1q2d2jkzM3tbewNgcxraIT1vSeX1wFEl9QYBL7ZQvpeImBkRIyNiZHV1dTu7Z2ZmrWlvAMwDGo/kmQLcX1J+SToaaDTwWhoiWgCMl9Qv7fwdn8rMzKybVLVWQdKPgbHAYZLqKY7mmQHcLelTwB+Ayan6fOAcoA54E7gMICK2Sfoa8FSq948RseeOZTMz60KtBkBEXNzMW+OaqBvANc0sZxYwq029MzOzivGZwGZmmXIAmJllygFgZpYpB4CZWaYcAGZmmXIAmJllygFgZpYpB4CZWaYcAGZmmXIAmJllygFgZpYpB4CZWaYcAGZmmXIAmJllygFgZpYpB4CZWaYcAGZmmXIAmJllygFgZpYpB4CZWaYcAGZmmXIAmJllygFgZpapDgWApA2SVklaIWlZKusvaaGk59Jzv1QuSbdIqpO0UtKIzlgBMzNrn87YAvhwRAyPiJHp9TRgcUQMARan1wBnA0PSYypwWye0bWZm7VSJIaBJwOw0PRs4v6T8h1FYCvSVdGQF2jczszJ0NAAC+JWk5ZKmprIjImITQHo+PJUPBDaWzFufyszMrBtUdXD+0yPiRUmHAwslrWuhrpooi70qFUEyFeDoo4/uYPfMzKw5HdoCiIgX0/MW4D5gFLC5cWgnPW9J1euBo0pmHwS82MQyZ0bEyIgYWV1d3ZHumZlZC9odAJLeJemQxmlgPLAamAdMSdWmAPen6XnAJelooNHAa41DRWZm1vU6MgR0BHCfpMblzImIByU9Bdwt6VPAH4DJqf584BygDngTuKwDbZuZWQe1OwAi4gWgtonyl4FxTZQHcE172zMzs87lM4HNzDLlADAzy5QDwMwsUw4AM7NMOQDMzDLlADAzy5QDwMwsUw4AM7NMOQDMzDLlADAzy5QDwMwsUw4AM7NMOQDMzDLlADAzy5QDwMwsUw4AM7NMOQDMzDLlADAzy5QDwMwsUw4AM7NMOQDMzDLlADAzy5QDwMwsU10eAJImSnpWUp2kaV3dvpmZFbo0ACT1AG4FzgZOAi6WdFJX9sHMzApdvQUwCqiLiBci4j+BucCkLu6DmZnR9QEwENhY8ro+lZmZWRdTRHRdY9JkYEJEXJFefxIYFRH/s6TOVGBqenk88Gw7mjoMeKmD3XV7bs/tub3ubKsj7f1VRFS3VqmqHQvuiHrgqJLXg4AXSytExExgZkcakbQsIkZ2ZBluz+25PbfXnW11RXtdPQT0FDBEUo2kdwAXAfO6uA9mZkYXbwFERIOkzwILgB7ArIhY05V9MDOzQlcPARER84H5FW6mQ0NIbs/tuT23tw+0VfH2unQnsJmZ7Tt8KQgzs0zt9wEgaZakLZJWl5T1l7RQ0nPpuV8F279W0mpJayRdV6l2Str7X6mt1ZJ+LKl3Bds6XtKKksefKr2OkvpKukfSOklrJf3XTl5+U9+Xyekz3SmpYkdcSNogaVX6LJdVYPlNrds30me5UtJ9kvp2drt79KGHpKclPVDhdnpLelLSM+lv99UKt3eUpCXpO7lG0rUVbm+vv2Ul7PcBANwJTNyjbBqwOCKGAIvT604n6RTg0xRnONcCH5E0pBJtpfYGAp8DRkbEKRQ70i+qVHsR8WxEDI+I4cBpwJvAfZVqL/l/wIMRcQLFZ7q2k5d/J3t/X1YDHwUe6eS2mvLh9JlWImjuZO91WwicEhHDgH8FvlSBdktdS+f/zZqyAzgzImqB4cBESaMr2F4D8PmIOBEYDVxT4cvY3Mnef8tOt98HQEQ8Amzbo3gSMDtNzwbOr1DzJwJLI+LNiGgAfg1cUKG2GlUB75RUBfRhj/MoKmgc8HxE/FulGpD0buAM4A6AiPjPiHi1M9to6vsSEWsjoj0nHO5Tmlm3X6XvJsBSinNvKkLSIOBc4PuVaqNRFN5IL3umR8V2aEbEpoj4XZp+nSLkKnYVg2Z+1zrdfh8AzTgiIjZB8YcDDq9QO6uBMyQNkNQHOIfdT3TrVBHxR+Am4A/AJuC1iPhVpdrbw0XAjyvcxjHAVuAHaRjh+5LeVeE2u1IAv5K0PJ3x3tUuB/6lgsv/NvC3wM4KtrFLGm5aAWwBFkbEE13U7mDgVKBL2qukAzUAukRErAW+TrGZ/SDwDMWmYkWkfRmTgBrgPcC7JP2PSrVX0u47gPOAn1a4qSpgBHBbRJwK/AcVGr7rJqdHxAiKq+FeI+mMrmpY0t9TfDfvqtDyPwJsiYjllVh+UyLirTQ8OQgYlYZkK0rSwcC9wHUR8adKt1dpB2oAbJZ0JEB63lKphiLijogYERFnUGyyPVeptoCzgPURsTUi/gL8DPhABdtrdDbwu4jYXOF26oH6kv/k7qEIhANCRLyYnrdQ7EsZ1RXtSpoCfAT4m6jccd+nA+dJ2kBxld8zJf1zhdraTRomfJgKj5lL6knx439XRPyskm11lQM1AOYBU9L0FOD+SjUk6fD0fDTFjsRKDpP8ARgtqY8kUYzLd8UOt4up/PAPEfHvwEZJx6eiccDvK91uV5D0LkmHNE4D4ymGECvd7kTgi8B5EfFmpdqJiC9FxKCIGEwxXPhQRFRs61RSdeMRTZLeSfHP0boKtieKfVNrI+JblWqny0XEfv2g+GHaBPyF4j/ITwEDKI7+eS49969g+49S/Eg9A4zrgvX9KsUXfTXwI6BXhdvrA7wMHNpFf8/hwDJgJfBzoF8XfF8uSNM7gM3Aggqs1zHpO/IMsAb4+wq00dS61VFcgn1FetzeBX/DscADFW5jGPB0+p6sBv6hwu19kGIfzsqSz/KcCra319+yEu34TGAzs0wdqENAZmbWCgeAmVmmHABmZplyAJiZZcoBYGaWKQeAmVmmHACWnXTJ6atLXo/tjMsXSxqTLhW8Ip2cVHGd1XfLkwPActQXuLrVWm33N8BNUVzu+c/tWUC6yqtZl3AA2D5N0uB0Q5Pvp5vg3CXpLEm/STf8GZVuAPTzdNOTpZKGpXmnpxtrPCzpBUmfS4udAbw3/af+jVR2cMmNaO5Kp/4316dx6Wqlq9Lye0m6AvjvwD9IavaCa5L+Ns33jKQZqexhSf9X0q+BayX9taQnUhuLJB2R6n1Ib9+c5+nGS0u0pe9mu6n0aeF++NGRBzCY4iqWQyn+YVkOzAJEcWXUnwPfAW5I9c8EVqTp6cDjQC/gMIpLWvRMy1xd0sZY4DWKq0oeBPwW+GAz/elNcWmF49LrH1JcGRKKm3h8vIV1OTv1p0963T89Pwx8r6ReP96+X/cVwDfT9C8origKcDDF1VPL7rsffuz58BaA7Q/WR8SqiNhJcR2dxRERwCqKH/MPUlwXiYh4CBgg6dA07y8jYkdEvERxVdgjmmnjyYioT22sSMttyvGpP/+aXs+muIlNOc4CfhDpomwRUXrDj5+UTA8CFkhaBXwBODmV/wb4VtqS6Rtv3+il3L6b7cYBYPuDHSXTO0te76T4L7ipIY/Gi1yVzvtWqt9aGy3V68jwimj+rlX/UTL9HeC7ETEUuJJiq4OImEGxRfBOYKmkE1L9cvtuthsHgB0IHqHYAYukscBL0fLNOl4HDmnh/ZasAwZLOja9/iTFrUDL8Svg8nT3OCT1b6beocAf03TjZc2R9N60JfR1iiumntDUzGblcgDYgWA6MFLSSoodvFNaqhwRLwO/STuVv9FS3Sbm3Q5cBvw0DdHsBG4vc94HKe5VsSzdyvD6ZqpOT8t/FHippPy61OdngD9T2ds7WgZ8OWgzs0x5C8DMLFPeWWTWDEn3ATV7FH8xIha0Mt9Q0lFJJXZExPs7s39mHeUhIDOzTHkIyMwsUw4AM7NMOQDMzDLlADAzy5QDwMwsU/8fW2K10vK5UqMAAAAASUVORK5CYII=\n",
      "text/plain": [
       "<Figure size 432x288 with 1 Axes>"
      ]
     },
     "metadata": {},
     "output_type": "display_data"
    }
   ],
   "source": [
    "# Monthly data for accidents\n",
    "acci_count_sorted.plot.bar(x='month_of_crash', y='accident_count', rot=0)"
   ]
  },
  {
   "cell_type": "raw",
   "metadata": {},
   "source": [
    "From the above graphs and data we analysed that more number of fatal accidents happened in October, september,  \n",
    "August followed by September.\n"
   ]
  },
  {
   "cell_type": "code",
   "execution_count": 16,
   "metadata": {},
   "outputs": [
    {
     "data": {
      "text/html": [
       "<div>\n",
       "<style scoped>\n",
       "    .dataframe tbody tr th:only-of-type {\n",
       "        vertical-align: middle;\n",
       "    }\n",
       "\n",
       "    .dataframe tbody tr th {\n",
       "        vertical-align: top;\n",
       "    }\n",
       "\n",
       "    .dataframe thead th {\n",
       "        text-align: right;\n",
       "    }\n",
       "</style>\n",
       "<table border=\"1\" class=\"dataframe\">\n",
       "  <thead>\n",
       "    <tr style=\"text-align: right;\">\n",
       "      <th></th>\n",
       "      <th>accident_count_bystate</th>\n",
       "    </tr>\n",
       "  </thead>\n",
       "  <tbody>\n",
       "    <tr>\n",
       "      <th>43</th>\n",
       "      <td>3407</td>\n",
       "    </tr>\n",
       "    <tr>\n",
       "      <th>4</th>\n",
       "      <td>3357</td>\n",
       "    </tr>\n",
       "    <tr>\n",
       "      <th>9</th>\n",
       "      <td>2933</td>\n",
       "    </tr>\n",
       "    <tr>\n",
       "      <th>10</th>\n",
       "      <td>1422</td>\n",
       "    </tr>\n",
       "    <tr>\n",
       "      <th>33</th>\n",
       "      <td>1348</td>\n",
       "    </tr>\n",
       "    <tr>\n",
       "      <th>38</th>\n",
       "      <td>1088</td>\n",
       "    </tr>\n",
       "    <tr>\n",
       "      <th>35</th>\n",
       "      <td>1053</td>\n",
       "    </tr>\n",
       "    <tr>\n",
       "      <th>13</th>\n",
       "      <td>1003</td>\n",
       "    </tr>\n",
       "    <tr>\n",
       "      <th>22</th>\n",
       "      <td>980</td>\n",
       "    </tr>\n",
       "    <tr>\n",
       "      <th>42</th>\n",
       "      <td>966</td>\n",
       "    </tr>\n",
       "  </tbody>\n",
       "</table>\n",
       "</div>"
      ],
      "text/plain": [
       "    accident_count_bystate\n",
       "43                    3407\n",
       "4                     3357\n",
       "9                     2933\n",
       "10                    1422\n",
       "33                    1348\n",
       "38                    1088\n",
       "35                    1053\n",
       "13                    1003\n",
       "22                     980\n",
       "42                     966"
      ]
     },
     "execution_count": 16,
     "metadata": {},
     "output_type": "execute_result"
    }
   ],
   "source": [
    "#state wise analysis for fatal accidents:\n",
    "acci_count_bystate=Accident_df.groupby(['state_name']).count().reset_index()\n",
    "acci_count_bystate.rename(columns={'Unnamed: 0': 'accident_count_bystate'}, inplace=True)\n",
    "acci_count_bystate_sorted = acci_count_bystate.sort_values('accident_count_bystate',ascending=False)\n",
    "acci_count_bystate_sorted = acci_count_bystate_sorted.filter(['accident_count_bystate'], axis=1)\n",
    "acci_count_bystate_sorted.head(10)"
   ]
  },
  {
   "cell_type": "code",
   "execution_count": null,
   "metadata": {},
   "outputs": [],
   "source": []
  },
  {
   "cell_type": "code",
   "execution_count": 83,
   "metadata": {},
   "outputs": [
    {
     "data": {
      "text/plain": [
       "<matplotlib.axes._subplots.AxesSubplot at 0x1f9c0e806d8>"
      ]
     },
     "execution_count": 83,
     "metadata": {},
     "output_type": "execute_result"
    },
    {
     "data": {
      "image/png": "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\n",
      "text/plain": [
       "<Figure size 432x288 with 1 Axes>"
      ]
     },
     "metadata": {},
     "output_type": "display_data"
    }
   ],
   "source": [
    "#state wise analysis for fatal accidents:\n",
    "acci_count_bystate_sorted.plot.bar(x='state_name', y='accident_count_bystate', stacked=True, color=['blue'])"
   ]
  },
  {
   "cell_type": "raw",
   "metadata": {},
   "source": [
    "Maximum Number of fatal accidents happens in Texas followed by California and Florida."
   ]
  },
  {
   "cell_type": "code",
   "execution_count": 17,
   "metadata": {},
   "outputs": [
    {
     "data": {
      "text/html": [
       "<div>\n",
       "<style scoped>\n",
       "    .dataframe tbody tr th:only-of-type {\n",
       "        vertical-align: middle;\n",
       "    }\n",
       "\n",
       "    .dataframe tbody tr th {\n",
       "        vertical-align: top;\n",
       "    }\n",
       "\n",
       "    .dataframe thead th {\n",
       "        text-align: right;\n",
       "    }\n",
       "</style>\n",
       "<table border=\"1\" class=\"dataframe\">\n",
       "  <thead>\n",
       "    <tr style=\"text-align: right;\">\n",
       "      <th></th>\n",
       "      <th>accident_count_bytime</th>\n",
       "    </tr>\n",
       "  </thead>\n",
       "  <tbody>\n",
       "    <tr>\n",
       "      <th>18</th>\n",
       "      <td>1984</td>\n",
       "    </tr>\n",
       "    <tr>\n",
       "      <th>20</th>\n",
       "      <td>1919</td>\n",
       "    </tr>\n",
       "    <tr>\n",
       "      <th>17</th>\n",
       "      <td>1913</td>\n",
       "    </tr>\n",
       "    <tr>\n",
       "      <th>19</th>\n",
       "      <td>1902</td>\n",
       "    </tr>\n",
       "    <tr>\n",
       "      <th>16</th>\n",
       "      <td>1808</td>\n",
       "    </tr>\n",
       "    <tr>\n",
       "      <th>21</th>\n",
       "      <td>1801</td>\n",
       "    </tr>\n",
       "    <tr>\n",
       "      <th>15</th>\n",
       "      <td>1731</td>\n",
       "    </tr>\n",
       "    <tr>\n",
       "      <th>22</th>\n",
       "      <td>1650</td>\n",
       "    </tr>\n",
       "    <tr>\n",
       "      <th>14</th>\n",
       "      <td>1567</td>\n",
       "    </tr>\n",
       "    <tr>\n",
       "      <th>13</th>\n",
       "      <td>1514</td>\n",
       "    </tr>\n",
       "  </tbody>\n",
       "</table>\n",
       "</div>"
      ],
      "text/plain": [
       "    accident_count_bytime\n",
       "18                   1984\n",
       "20                   1919\n",
       "17                   1913\n",
       "19                   1902\n",
       "16                   1808\n",
       "21                   1801\n",
       "15                   1731\n",
       "22                   1650\n",
       "14                   1567\n",
       "13                   1514"
      ]
     },
     "execution_count": 17,
     "metadata": {},
     "output_type": "execute_result"
    }
   ],
   "source": [
    "#Hour of accidents\n",
    "acci_count_bytime=Accident_df.groupby(['hour_of_crash']).count().reset_index()\n",
    "acci_count_bytime\n",
    "acci_count_bytime.rename(columns={'Unnamed: 0': 'accident_count_bytime'}, inplace=True)\n",
    "acci_count_bytime_sorted = acci_count_bytime.sort_values('accident_count_bytime',ascending=False)\n",
    "acci_count_bytime_sorted = acci_count_bytime_sorted.filter(['accident_count_bytime'], axis=1)\n",
    "acci_count_bytime_sorted.head(10)"
   ]
  },
  {
   "cell_type": "code",
   "execution_count": 85,
   "metadata": {},
   "outputs": [
    {
     "data": {
      "image/png": "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\n",
      "text/plain": [
       "<Figure size 432x288 with 1 Axes>"
      ]
     },
     "metadata": {},
     "output_type": "display_data"
    }
   ],
   "source": [
    "#Hours of accidents\n",
    "acci_count_bytime_sorted = acci_count_bytime_sorted.loc[acci_count_bytime_sorted['hour_of_crash'] != 99]\n",
    "plt.plot( 'hour_of_crash', 'accident_count_bytime', data=acci_count_bytime_sorted, marker='o', color='mediumvioletred')\n",
    "plt.show()\n"
   ]
  },
  {
   "cell_type": "raw",
   "metadata": {},
   "source": [
    "More Number of accidents happen during 17 to 20 hour range(evening 5 to 8)"
   ]
  },
  {
   "cell_type": "code",
   "execution_count": 18,
   "metadata": {},
   "outputs": [
    {
     "data": {
      "text/html": [
       "<div>\n",
       "<style scoped>\n",
       "    .dataframe tbody tr th:only-of-type {\n",
       "        vertical-align: middle;\n",
       "    }\n",
       "\n",
       "    .dataframe tbody tr th {\n",
       "        vertical-align: top;\n",
       "    }\n",
       "\n",
       "    .dataframe thead th {\n",
       "        text-align: right;\n",
       "    }\n",
       "</style>\n",
       "<table border=\"1\" class=\"dataframe\">\n",
       "  <thead>\n",
       "    <tr style=\"text-align: right;\">\n",
       "      <th></th>\n",
       "      <th>accident_count_byloc</th>\n",
       "    </tr>\n",
       "  </thead>\n",
       "  <tbody>\n",
       "    <tr>\n",
       "      <th>6</th>\n",
       "      <td>10234</td>\n",
       "    </tr>\n",
       "    <tr>\n",
       "      <th>3</th>\n",
       "      <td>6104</td>\n",
       "    </tr>\n",
       "    <tr>\n",
       "      <th>7</th>\n",
       "      <td>5490</td>\n",
       "    </tr>\n",
       "    <tr>\n",
       "      <th>0</th>\n",
       "      <td>5160</td>\n",
       "    </tr>\n",
       "    <tr>\n",
       "      <th>1</th>\n",
       "      <td>4295</td>\n",
       "    </tr>\n",
       "    <tr>\n",
       "      <th>4</th>\n",
       "      <td>1541</td>\n",
       "    </tr>\n",
       "    <tr>\n",
       "      <th>5</th>\n",
       "      <td>1138</td>\n",
       "    </tr>\n",
       "    <tr>\n",
       "      <th>2</th>\n",
       "      <td>297</td>\n",
       "    </tr>\n",
       "    <tr>\n",
       "      <th>8</th>\n",
       "      <td>180</td>\n",
       "    </tr>\n",
       "  </tbody>\n",
       "</table>\n",
       "</div>"
      ],
      "text/plain": [
       "   accident_count_byloc\n",
       "6                 10234\n",
       "3                  6104\n",
       "7                  5490\n",
       "0                  5160\n",
       "1                  4295\n",
       "4                  1541\n",
       "5                  1138\n",
       "2                   297\n",
       "8                   180"
      ]
     },
     "execution_count": 18,
     "metadata": {},
     "output_type": "execute_result"
    }
   ],
   "source": [
    "#Location of accident \n",
    "acci_count_byloc=Accident_df.groupby(['route_signing_name']).count().reset_index()\n",
    "acci_count_byloc\n",
    "acci_count_byloc.rename(columns={'Unnamed: 0': 'accident_count_byloc'}, inplace=True)\n",
    "acci_count_byloc_sorted = acci_count_byloc.sort_values('accident_count_byloc',ascending=False)\n",
    "acci_count_byloc_sorted = acci_count_byloc_sorted.filter(['accident_count_byloc'], axis=1)\n",
    "acci_count_byloc_sorted.head(10)"
   ]
  },
  {
   "cell_type": "code",
   "execution_count": 87,
   "metadata": {},
   "outputs": [
    {
     "data": {
      "text/plain": [
       "<matplotlib.axes._subplots.AxesSubplot at 0x1f9c69d35c0>"
      ]
     },
     "execution_count": 87,
     "metadata": {},
     "output_type": "execute_result"
    },
    {
     "data": {
      "image/png": "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\n",
      "text/plain": [
       "<Figure size 432x288 with 1 Axes>"
      ]
     },
     "metadata": {},
     "output_type": "display_data"
    }
   ],
   "source": [
    "#Location of accident\n",
    "acci_count_byloc_sorted.plot.bar(x='route_signing_name', y='accident_count_byloc', stacked=True, rot=45)"
   ]
  },
  {
   "cell_type": "raw",
   "metadata": {},
   "source": [
    "More Number of accidents happens on State Highways."
   ]
  },
  {
   "cell_type": "code",
   "execution_count": 19,
   "metadata": {},
   "outputs": [
    {
     "data": {
      "text/html": [
       "<div>\n",
       "<style scoped>\n",
       "    .dataframe tbody tr th:only-of-type {\n",
       "        vertical-align: middle;\n",
       "    }\n",
       "\n",
       "    .dataframe tbody tr th {\n",
       "        vertical-align: top;\n",
       "    }\n",
       "\n",
       "    .dataframe thead th {\n",
       "        text-align: right;\n",
       "    }\n",
       "</style>\n",
       "<table border=\"1\" class=\"dataframe\">\n",
       "  <thead>\n",
       "    <tr style=\"text-align: right;\">\n",
       "      <th></th>\n",
       "      <th>accident_count_bytype</th>\n",
       "    </tr>\n",
       "  </thead>\n",
       "  <tbody>\n",
       "    <tr>\n",
       "      <th>3</th>\n",
       "      <td>21296</td>\n",
       "    </tr>\n",
       "    <tr>\n",
       "      <th>0</th>\n",
       "      <td>6122</td>\n",
       "    </tr>\n",
       "    <tr>\n",
       "      <th>1</th>\n",
       "      <td>3511</td>\n",
       "    </tr>\n",
       "    <tr>\n",
       "      <th>2</th>\n",
       "      <td>2350</td>\n",
       "    </tr>\n",
       "    <tr>\n",
       "      <th>9</th>\n",
       "      <td>519</td>\n",
       "    </tr>\n",
       "    <tr>\n",
       "      <th>8</th>\n",
       "      <td>421</td>\n",
       "    </tr>\n",
       "    <tr>\n",
       "      <th>5</th>\n",
       "      <td>86</td>\n",
       "    </tr>\n",
       "    <tr>\n",
       "      <th>10</th>\n",
       "      <td>77</td>\n",
       "    </tr>\n",
       "    <tr>\n",
       "      <th>7</th>\n",
       "      <td>32</td>\n",
       "    </tr>\n",
       "    <tr>\n",
       "      <th>4</th>\n",
       "      <td>23</td>\n",
       "    </tr>\n",
       "  </tbody>\n",
       "</table>\n",
       "</div>"
      ],
      "text/plain": [
       "    accident_count_bytype\n",
       "3                   21296\n",
       "0                    6122\n",
       "1                    3511\n",
       "2                    2350\n",
       "9                     519\n",
       "8                     421\n",
       "5                      86\n",
       "10                     77\n",
       "7                      32\n",
       "4                      23"
      ]
     },
     "execution_count": 19,
     "metadata": {},
     "output_type": "execute_result"
    }
   ],
   "source": [
    "#Type of Collision which causes fatal accidents\n",
    "acci_count_bytype=Accident_df.groupby(['manner_of_collision_name']).count().reset_index()\n",
    "acci_count_bytype\n",
    "acci_count_bytype.rename(columns={'Unnamed: 0': 'accident_count_bytype'}, inplace=True)\n",
    "acci_count_bytype_sorted = acci_count_bytype.sort_values('accident_count_bytype',ascending=False)\n",
    "acci_count_bytype_sorted = acci_count_bytype_sorted.filter(['accident_count_bytype'], axis=1)\n",
    "acci_count_bytype_sorted.head(10)"
   ]
  },
  {
   "cell_type": "raw",
   "metadata": {},
   "source": [
    "The data above shows the reason for fatal accidents and most of the time it is when the moving vehicle collides \n",
    "with not in transport vehicle."
   ]
  },
  {
   "cell_type": "code",
   "execution_count": 20,
   "metadata": {},
   "outputs": [
    {
     "data": {
      "text/html": [
       "<div>\n",
       "<style scoped>\n",
       "    .dataframe tbody tr th:only-of-type {\n",
       "        vertical-align: middle;\n",
       "    }\n",
       "\n",
       "    .dataframe tbody tr th {\n",
       "        vertical-align: top;\n",
       "    }\n",
       "\n",
       "    .dataframe thead th {\n",
       "        text-align: right;\n",
       "    }\n",
       "</style>\n",
       "<table border=\"1\" class=\"dataframe\">\n",
       "  <thead>\n",
       "    <tr style=\"text-align: right;\">\n",
       "      <th></th>\n",
       "      <th>accident_count_bylight</th>\n",
       "    </tr>\n",
       "  </thead>\n",
       "  <tbody>\n",
       "    <tr>\n",
       "      <th>4</th>\n",
       "      <td>16336</td>\n",
       "    </tr>\n",
       "    <tr>\n",
       "      <th>1</th>\n",
       "      <td>9494</td>\n",
       "    </tr>\n",
       "    <tr>\n",
       "      <th>0</th>\n",
       "      <td>6732</td>\n",
       "    </tr>\n",
       "    <tr>\n",
       "      <th>5</th>\n",
       "      <td>803</td>\n",
       "    </tr>\n",
       "    <tr>\n",
       "      <th>3</th>\n",
       "      <td>595</td>\n",
       "    </tr>\n",
       "    <tr>\n",
       "      <th>2</th>\n",
       "      <td>262</td>\n",
       "    </tr>\n",
       "    <tr>\n",
       "      <th>8</th>\n",
       "      <td>188</td>\n",
       "    </tr>\n",
       "    <tr>\n",
       "      <th>6</th>\n",
       "      <td>15</td>\n",
       "    </tr>\n",
       "    <tr>\n",
       "      <th>7</th>\n",
       "      <td>14</td>\n",
       "    </tr>\n",
       "  </tbody>\n",
       "</table>\n",
       "</div>"
      ],
      "text/plain": [
       "   accident_count_bylight\n",
       "4                   16336\n",
       "1                    9494\n",
       "0                    6732\n",
       "5                     803\n",
       "3                     595\n",
       "2                     262\n",
       "8                     188\n",
       "6                      15\n",
       "7                      14"
      ]
     },
     "execution_count": 20,
     "metadata": {},
     "output_type": "execute_result"
    }
   ],
   "source": [
    "#level of light that existed at the time of the crash as indicated in the case material.\n",
    "acci_count_bylight=Accident_df.groupby(['light_condition_name']).count().reset_index()\n",
    "acci_count_bylight\n",
    "acci_count_bylight.rename(columns={'Unnamed: 0': 'accident_count_bylight'}, inplace=True)\n",
    "acci_count_bylight_sorted = acci_count_bylight.sort_values('accident_count_bylight',ascending=False)\n",
    "acci_count_bylight_sorted = acci_count_bylight_sorted.filter(['accident_count_bylight'], axis=1)\n",
    "acci_count_bylight_sorted.head(10)"
   ]
  },
  {
   "cell_type": "code",
   "execution_count": 90,
   "metadata": {},
   "outputs": [
    {
     "data": {
      "text/plain": [
       "<matplotlib.axes._subplots.AxesSubplot at 0x1f9c2d907b8>"
      ]
     },
     "execution_count": 90,
     "metadata": {},
     "output_type": "execute_result"
    },
    {
     "data": {
      "image/png": "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\n",
      "text/plain": [
       "<Figure size 576x576 with 1 Axes>"
      ]
     },
     "metadata": {},
     "output_type": "display_data"
    }
   ],
   "source": [
    "#level of light that existed at the time of the crash as indicated in the case material.\n",
    "acci_count_bylight=Accident_df.groupby(['light_condition_name']).count().reset_index()\n",
    "acci_count_bylight\n",
    "acci_count_bylight.rename(columns={'Unnamed: 0': 'accident_count_bylight'}, inplace=True)\n",
    "acci_count_bylight_sorted = acci_count_bylight.sort_values('accident_count_bylight',ascending=False)\n",
    "acci_count_bylight_sorted.head(10)\n",
    "acci_count_bylight_sorted.plot.pie(y='accident_count_bylight', figsize=(8, 8))"
   ]
  },
  {
   "cell_type": "raw",
   "metadata": {},
   "source": [
    "More accidents happens in daylight then in dark."
   ]
  },
  {
   "cell_type": "code",
   "execution_count": 21,
   "metadata": {},
   "outputs": [
    {
     "data": {
      "text/html": [
       "<div>\n",
       "<style scoped>\n",
       "    .dataframe tbody tr th:only-of-type {\n",
       "        vertical-align: middle;\n",
       "    }\n",
       "\n",
       "    .dataframe tbody tr th {\n",
       "        vertical-align: top;\n",
       "    }\n",
       "\n",
       "    .dataframe thead th {\n",
       "        text-align: right;\n",
       "    }\n",
       "</style>\n",
       "<table border=\"1\" class=\"dataframe\">\n",
       "  <thead>\n",
       "    <tr style=\"text-align: right;\">\n",
       "      <th></th>\n",
       "      <th>accident_count_byatm</th>\n",
       "    </tr>\n",
       "  </thead>\n",
       "  <tbody>\n",
       "    <tr>\n",
       "      <th>2</th>\n",
       "      <td>24620</td>\n",
       "    </tr>\n",
       "    <tr>\n",
       "      <th>3</th>\n",
       "      <td>4961</td>\n",
       "    </tr>\n",
       "    <tr>\n",
       "      <th>8</th>\n",
       "      <td>2148</td>\n",
       "    </tr>\n",
       "    <tr>\n",
       "      <th>6</th>\n",
       "      <td>1634</td>\n",
       "    </tr>\n",
       "    <tr>\n",
       "      <th>11</th>\n",
       "      <td>350</td>\n",
       "    </tr>\n",
       "    <tr>\n",
       "      <th>4</th>\n",
       "      <td>329</td>\n",
       "    </tr>\n",
       "    <tr>\n",
       "      <th>12</th>\n",
       "      <td>183</td>\n",
       "    </tr>\n",
       "    <tr>\n",
       "      <th>10</th>\n",
       "      <td>66</td>\n",
       "    </tr>\n",
       "    <tr>\n",
       "      <th>7</th>\n",
       "      <td>54</td>\n",
       "    </tr>\n",
       "    <tr>\n",
       "      <th>9</th>\n",
       "      <td>48</td>\n",
       "    </tr>\n",
       "  </tbody>\n",
       "</table>\n",
       "</div>"
      ],
      "text/plain": [
       "    accident_count_byatm\n",
       "2                  24620\n",
       "3                   4961\n",
       "8                   2148\n",
       "6                   1634\n",
       "11                   350\n",
       "4                    329\n",
       "12                   183\n",
       "10                    66\n",
       "7                     54\n",
       "9                     48"
      ]
     },
     "execution_count": 21,
     "metadata": {},
     "output_type": "execute_result"
    }
   ],
   "source": [
    "#Weather conditions during accidents\n",
    "acci_count_byatm=Accident_df.groupby(['atmospheric_conditions_name']).count().reset_index()\n",
    "acci_count_byatm\n",
    "acci_count_byatm.rename(columns={'Unnamed: 0': 'accident_count_byatm'}, inplace=True)\n",
    "acci_count_byatm_sorted = acci_count_byatm.sort_values('accident_count_byatm',ascending=False)\n",
    "acci_count_byatm_sorted = acci_count_byatm_sorted.filter(['accident_count_byatm'], axis=1)\n",
    "acci_count_byatm_sorted.head(10)"
   ]
  },
  {
   "cell_type": "code",
   "execution_count": 92,
   "metadata": {},
   "outputs": [
    {
     "data": {
      "text/plain": [
       "<matplotlib.axes._subplots.AxesSubplot at 0x1f9c2de9ef0>"
      ]
     },
     "execution_count": 92,
     "metadata": {},
     "output_type": "execute_result"
    },
    {
     "data": {
      "image/png": "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\n",
      "text/plain": [
       "<Figure size 432x288 with 1 Axes>"
      ]
     },
     "metadata": {},
     "output_type": "display_data"
    }
   ],
   "source": [
    "#Weather conditions during accidents\n",
    "acci_count_byatm_sorted.plot.bar(x='atmospheric_conditions_name', y='accident_count_byatm', stacked=True, rot=45)"
   ]
  },
  {
   "cell_type": "raw",
   "metadata": {},
   "source": [
    "Fatal accidents are likely to happened in regular or cloudy or rainy times"
   ]
  },
  {
   "cell_type": "raw",
   "metadata": {},
   "source": [
    "From the above statistics on data we analysed that more number of accidents happens during the months July, August \n",
    "and October and in the evening hours. Fatal accidents  are more likely to happen on the state highways and maximum \n",
    "count for the accidents is for Texas state followed by California and Florida. "
   ]
  },
  {
   "cell_type": "markdown",
   "metadata": {},
   "source": [
    "## Visualize Attributes"
   ]
  },
  {
   "cell_type": "code",
   "execution_count": null,
   "metadata": {
    "scrolled": false
   },
   "outputs": [],
   "source": [
    "#simple descriptive statistics for atmospheric conditions \n",
    "Accident_df[['number_of_fatalities','atmospheric_conditions_1_name']].groupby('atmospheric_conditions_1_name').describe()"
   ]
  },
  {
   "cell_type": "code",
   "execution_count": null,
   "metadata": {},
   "outputs": [],
   "source": [
    "#simple descriptive statistics for light condition\n",
    "Accident_df[['number_of_fatalities','light_condition_name']].groupby('light_condition_name').describe()"
   ]
  },
  {
   "cell_type": "markdown",
   "metadata": {},
   "source": [
    "The correlation heat map is great for finding relationship with many attributes "
   ]
  },
  {
   "cell_type": "code",
   "execution_count": null,
   "metadata": {},
   "outputs": [],
   "source": [
    "# plot the correlation matrix using seaborn\n",
    "cmap = seaborn.diverging_palette(200, 1, as_cmap=True) # Assign color for table \n",
    "seaborn.set(style=\"ticks\") # one of the many styles to plot using\n",
    "\n",
    "f, ax = plt.subplots(figsize=(35, 35))\n",
    "\n",
    "seaborn.hea\n",
    "\n",
    "tmap(Accident_df.corr(), cmap=cmap, annot=True)\n",
    "\n",
    "f.tight_layout()"
   ]
  },
  {
   "cell_type": "code",
   "execution_count": 70,
   "metadata": {
    "scrolled": true
   },
   "outputs": [
    {
     "data": {
      "image/png": "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\n",
      "text/plain": [
       "<matplotlib.figure.Figure at 0x258bb671c50>"
      ]
     },
     "metadata": {},
     "output_type": "display_data"
    }
   ],
   "source": [
    "#Initiate boxplot \n",
    "ax = Accident_df.boxplot(column='consecutive_number', by = 'atmospheric_conditions_1_name')\n",
    "# clean up titles\n",
    "ax.set_xscale\n",
    "ax.set_title('')\n",
    "ax.set_xlabel('')\n",
    "ax.set_ylabel('')\n",
    "#\n",
    "plt.setp(ax.get_xticklabels(), rotation=30, horizontalalignment='right');"
   ]
  },
  {
   "cell_type": "code",
   "execution_count": null,
   "metadata": {},
   "outputs": [],
   "source": [
    "\n",
    "#adjust the size of the violin plot\n",
    "f, ax = plt.subplots(figsize=(30, 30))\n",
    "\n",
    "seaborn.violinplot(x=\"atmospheric_conditions_1_name\", y=\"consecutive_number\", hue=\"Day_Time_Yes_No\", data=Accident_df, \n",
    "               split=True, inner=\"quart\")"
   ]
  },
  {
   "cell_type": "markdown",
   "metadata": {},
   "source": [
    "## Explore Joint Attributes"
   ]
  },
  {
   "cell_type": "markdown",
   "metadata": {},
   "source": [
    "Relationship between the number of accidents and the weather conditions. The Attributes are:  \n",
    "\n",
    "    * atmospheric_conditions_name\n",
    "    * light_condition_name\n",
    "    * number_of_fatalities  \n",
    "    \n",
    "    Each row or observation is car accident. It provides the conditions in which the accident occured. It captures the number of fatalities, number of people involved in the accident, the time that took the first reponders to get to the area and then to the hospital. This statistics are provided by state, highway it happend.\n",
    "    One of the relations that can be made is highway vs number of accidents. Does a particular highway presents a higer risk  than than others."
   ]
  },
  {
   "cell_type": "code",
<<<<<<< HEAD
   "execution_count": 58,
   "metadata": {},
   "outputs": [
    {
     "ename": "ImportError",
     "evalue": "cannot import name 'ScatterVisualizer'",
     "output_type": "error",
     "traceback": [
      "\u001b[1;31m---------------------------------------------------------------------------\u001b[0m",
      "\u001b[1;31mImportError\u001b[0m                               Traceback (most recent call last)",
      "\u001b[1;32m<ipython-input-58-758fd0d2b911>\u001b[0m in \u001b[0;36m<module>\u001b[1;34m()\u001b[0m\n\u001b[0;32m      1\u001b[0m \u001b[1;31m# Load Yellowbick\u001b[0m\u001b[1;33m\u001b[0m\u001b[1;33m\u001b[0m\u001b[0m\n\u001b[0;32m      2\u001b[0m \u001b[1;31m#from yellowbrick.features import RadViz\u001b[0m\u001b[1;33m\u001b[0m\u001b[1;33m\u001b[0m\u001b[0m\n\u001b[1;32m----> 3\u001b[1;33m \u001b[1;32mfrom\u001b[0m \u001b[0myellowbrick\u001b[0m\u001b[1;33m.\u001b[0m\u001b[0mfeatures\u001b[0m \u001b[1;32mimport\u001b[0m \u001b[0mScatterVisualizer\u001b[0m\u001b[1;33m\u001b[0m\u001b[0m\n\u001b[0m",
      "\u001b[1;31mImportError\u001b[0m: cannot import name 'ScatterVisualizer'"
     ]
    }
   ],
   "source": [
    "# Load Yellowbick\n",
    "from yellowbrick.features import RadViz\n",
    "#from yellowbrick.features import ScatterVisualizer"
   ]
  },
  {
   "cell_type": "code",
   "execution_count": 64,
   "metadata": {},
   "outputs": [
    {
     "ename": "AttributeError",
     "evalue": "'Index' object has no attribute 'as_matrix'",
     "output_type": "error",
     "traceback": [
      "\u001b[1;31m---------------------------------------------------------------------------\u001b[0m",
      "\u001b[1;31mAttributeError\u001b[0m                            Traceback (most recent call last)",
      "\u001b[1;32m<ipython-input-64-a1649b667b2d>\u001b[0m in \u001b[0;36m<module>\u001b[1;34m()\u001b[0m\n\u001b[0;32m      5\u001b[0m \u001b[1;33m\u001b[0m\u001b[0m\n\u001b[0;32m      6\u001b[0m \u001b[0mX\u001b[0m\u001b[1;33m=\u001b[0m\u001b[0mAccPerStateAndAtmos\u001b[0m\u001b[1;33m[\u001b[0m\u001b[0matmosFeatures\u001b[0m\u001b[1;33m]\u001b[0m\u001b[1;33m.\u001b[0m\u001b[0mas_matrix\u001b[0m\u001b[1;33m(\u001b[0m\u001b[1;33m)\u001b[0m\u001b[1;33m\u001b[0m\u001b[0m\n\u001b[1;32m----> 7\u001b[1;33m \u001b[0my\u001b[0m\u001b[1;33m=\u001b[0m\u001b[0mAccPerStateAndAtmos\u001b[0m\u001b[1;33m.\u001b[0m\u001b[0mindex\u001b[0m\u001b[1;33m.\u001b[0m\u001b[0mas_matrix\u001b[0m\u001b[1;33m(\u001b[0m\u001b[1;33m)\u001b[0m\u001b[1;33m\u001b[0m\u001b[0m\n\u001b[0m\u001b[0;32m      8\u001b[0m \u001b[1;33m\u001b[0m\u001b[0m\n",
      "\u001b[1;31mAttributeError\u001b[0m: 'Index' object has no attribute 'as_matrix'"
     ]
    }
   ],
   "source": [
    "# get the features of interest and the clasess of the target\n",
    "atmosFeatures=Accident_df.atmospheric_conditions_name.unique().tolist()\n",
    "atmosStates=Accident_df.state_name.unique().tolist()\n",
    "\n",
    "\n",
    "X=AccPerStateAndAtmos[atmosFeatures].as_matrix()\n",
    "y=AccPerStateAndAtmos.index.as_matrix()\n",
    "\n"
   ]
  },
  {
   "cell_type": "code",
   "execution_count": 84,
   "metadata": {},
   "outputs": [
    {
     "data": {
      "text/plain": [
       "['Unnamed: 0',\n",
       " 'state_number',\n",
       " 'state_name',\n",
       " 'consecutive_number',\n",
       " 'number_of_vehicle_forms_submitted_all',\n",
       " 'number_of_motor_vehicles_in_transport_mvit',\n",
       " 'number_of_parked_working_vehicles',\n",
       " 'number_of_forms_submitted_for_persons_not_in_motor_vehicles',\n",
       " 'number_of_persons_not_in_motor_vehicles_in_transport_mvit',\n",
       " 'number_of_persons_in_motor_vehicles_in_transport_mvit',\n",
       " 'number_of_forms_submitted_for_persons_in_motor_vehicles',\n",
       " 'county',\n",
       " 'city',\n",
       " 'day_of_crash',\n",
       " 'month_of_crash',\n",
       " 'year_of_crash',\n",
       " 'day_of_week',\n",
       " 'hour_of_crash',\n",
       " 'minute_of_crash',\n",
       " 'national_highway_system',\n",
       " 'land_use',\n",
       " 'land_use_name',\n",
       " 'functional_system',\n",
       " 'functional_system_name',\n",
       " 'ownership',\n",
       " 'ownership_name',\n",
       " 'route_signing',\n",
       " 'route_signing_name',\n",
       " 'trafficway_identifier',\n",
       " 'trafficway_identifier_2',\n",
       " 'milepoint',\n",
       " 'latitude',\n",
       " 'longitude',\n",
       " 'special_jurisdiction',\n",
       " 'special_jurisdiction_name',\n",
       " 'first_harmful_event',\n",
       " 'first_harmful_event_name',\n",
       " 'manner_of_collision',\n",
       " 'manner_of_collision_name',\n",
       " 'relation_to_junction_within_interchange_area',\n",
       " 'relation_to_junction_specific_location',\n",
       " 'relation_to_junction_specific_location_name',\n",
       " 'type_of_intersection',\n",
       " 'work_zone',\n",
       " 'relation_to_trafficway',\n",
       " 'relation_to_trafficway_name',\n",
       " 'light_condition',\n",
       " 'light_condition_name',\n",
       " 'atmospheric_conditions_1',\n",
       " 'atmospheric_conditions_1_name',\n",
       " 'atmospheric_conditions_2',\n",
       " 'atmospheric_conditions_2_name',\n",
       " 'atmospheric_conditions',\n",
       " 'atmospheric_conditions_name',\n",
       " 'school_bus_related',\n",
       " 'rail_grade_crossing_identifier',\n",
       " 'hour_of_notification',\n",
       " 'minute_of_notification',\n",
       " 'hour_of_arrival_at_scene',\n",
       " 'minute_of_arrival_at_scene',\n",
       " 'hour_of_ems_arrival_at_hospital',\n",
       " 'minute_of_ems_arrival_at_hospital',\n",
       " 'related_factors_crash_level_1',\n",
       " 'related_factors_crash_level_1_name',\n",
       " 'related_factors_crash_level_2',\n",
       " 'related_factors_crash_level_2_name',\n",
       " 'related_factors_crash_level_3',\n",
       " 'related_factors_crash_level_3_name',\n",
       " 'number_of_fatalities',\n",
       " 'number_of_drunk_drivers',\n",
       " 'timestamp_of_crash',\n",
       " 'Fatalities_ratio']"
      ]
     },
     "execution_count": 84,
     "metadata": {},
     "output_type": "execute_result"
    }
   ],
   "source": [
    "#Group the dataset\n",
    "#AccGroup_df = Accident_df.groupby(by=['state_name','atmospheric_conditions_name'])\n",
    "#AccGroupFatal = AccGroup_df.number_of_fatalities.sum()\n",
    "#AccGroupFatal\n",
    "\n",
    "list(Accident_df)"
   ]
  },
  {
   "cell_type": "code",
   "execution_count": 160,
   "metadata": {},
   "outputs": [
    {
     "data": {
      "image/png": "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\n",
      "text/plain": [
       "<matplotlib.figure.Figure at 0x258c61118d0>"
      ]
     },
     "metadata": {},
     "output_type": "display_data"
    }
   ],
   "source": [
    "#Accident_df.info()\n",
    "Accident_forScatter=Accident_df\n",
    "\n",
    "# 1. Remove attributes that just arent useful for us\n",
    "for col in ['Unnamed: 0',\n",
    "             'state_number',\n",
    "             'state_name',\n",
    "             'consecutive_number',\n",
    "             'county',\n",
    "             'city',\n",
    "             'day_of_crash',\n",
    "             'month_of_crash',\n",
    "             'year_of_crash',\n",
    "             'day_of_week',\n",
    "             'hour_of_crash',\n",
    "             'minute_of_crash',\n",
    "             'national_highway_system',\n",
    "             'land_use',\n",
    "             'land_use_name',\n",
    "             'functional_system',\n",
    "             'functional_system_name',\n",
    "             'ownership',\n",
    "             'ownership_name',\n",
    "             'route_signing',\n",
    "             'route_signing_name',\n",
    "             'trafficway_identifier',\n",
    "             'trafficway_identifier_2',\n",
    "             'latitude',\n",
    "             'longitude',\n",
    "             'special_jurisdiction',\n",
    "             'special_jurisdiction_name',\n",
    "             'first_harmful_event',\n",
    "             'first_harmful_event_name',\n",
    "             'manner_of_collision',\n",
    "             'manner_of_collision_name',\n",
    "             'relation_to_junction_within_interchange_area',\n",
    "             'relation_to_junction_specific_location',\n",
    "             'relation_to_junction_specific_location_name',\n",
    "             'type_of_intersection',\n",
    "             'work_zone',\n",
    "             'relation_to_trafficway',\n",
    "             'relation_to_trafficway_name',\n",
    "             'light_condition',\n",
    "             'light_condition_name',\n",
    "             'atmospheric_conditions_1',\n",
    "             'atmospheric_conditions_1_name',\n",
    "             'atmospheric_conditions_2',\n",
    "             'atmospheric_conditions_2_name',\n",
    "             'atmospheric_conditions',\n",
    "             'school_bus_related',\n",
    "             'rail_grade_crossing_identifier',\n",
    "             'hour_of_notification',\n",
    "             'minute_of_notification',\n",
    "             'hour_of_arrival_at_scene',\n",
    "             'minute_of_arrival_at_scene',\n",
    "             'hour_of_ems_arrival_at_hospital',\n",
    "             'minute_of_ems_arrival_at_hospital',\n",
    "             'related_factors_crash_level_1',\n",
    "             'related_factors_crash_level_1_name',\n",
    "             'related_factors_crash_level_2',\n",
    "             'related_factors_crash_level_2_name',\n",
    "             'related_factors_crash_level_3',\n",
    "             'related_factors_crash_level_3_name',\n",
    "             'milepoint',\n",
    "             'timestamp_of_crash',\n",
    "             'number_of_vehicle_forms_submitted_all',\n",
    "             'number_of_motor_vehicles_in_transport_mvit']:\n",
    "                if col in Accident_forScatter:\n",
    "                    del Accident_forScatter[col]\n",
    "                \n",
    "# Changes the varible types                \n",
    "for col in list(Accident_forScatter):\n",
    "    if (Accident_forScatter[col].dtype) == 'int64':\n",
    "        Accident_forScatter[col]=Accident_forScatter[col].astype(float)\n",
    "                \n",
    "#Accident_forScatter.dtypes\n",
    "#Create ScatterMatrix\n",
    "x=Accident_forScatter.plot.scatter(x='Fatalities_ratio',y='number_of_parked_working_vehicles')\n"
   ]
  },
  {
   "cell_type": "code",
   "execution_count": 151,
=======
   "execution_count": 11,
>>>>>>> 0067e2d4800bfbc646ce0e7483a24fc35f8514ff
   "metadata": {},
   "outputs": [
    {
     "data": {
      "text/html": [
       "<div>\n",
       "<style scoped>\n",
       "    .dataframe tbody tr th:only-of-type {\n",
       "        vertical-align: middle;\n",
       "    }\n",
       "\n",
       "    .dataframe tbody tr th {\n",
       "        vertical-align: top;\n",
       "    }\n",
       "\n",
       "    .dataframe thead th {\n",
       "        text-align: right;\n",
       "    }\n",
       "</style>\n",
       "<table border=\"1\" class=\"dataframe\">\n",
       "  <thead>\n",
       "    <tr style=\"text-align: right;\">\n",
       "      <th></th>\n",
       "      <th>0</th>\n",
       "      <th>1</th>\n",
       "      <th>2</th>\n",
       "      <th>3</th>\n",
       "      <th>4</th>\n",
       "      <th>5</th>\n",
       "      <th>6</th>\n",
       "      <th>7</th>\n",
       "      <th>8</th>\n",
       "      <th>9</th>\n",
       "      <th>...</th>\n",
       "      <th>34429</th>\n",
       "      <th>34430</th>\n",
       "      <th>34431</th>\n",
       "      <th>34432</th>\n",
       "      <th>34433</th>\n",
       "      <th>34434</th>\n",
       "      <th>34435</th>\n",
       "      <th>34436</th>\n",
       "      <th>34437</th>\n",
       "      <th>34438</th>\n",
       "    </tr>\n",
       "  </thead>\n",
       "  <tbody>\n",
       "    <tr>\n",
       "      <th>number_of_parked_working_vehicles</th>\n",
       "      <td>0</td>\n",
       "      <td>0</td>\n",
       "      <td>0</td>\n",
       "      <td>0</td>\n",
       "      <td>0</td>\n",
       "      <td>0</td>\n",
       "      <td>0</td>\n",
       "      <td>0</td>\n",
       "      <td>0</td>\n",
       "      <td>0</td>\n",
       "      <td>...</td>\n",
       "      <td>0</td>\n",
       "      <td>0</td>\n",
       "      <td>0</td>\n",
       "      <td>0</td>\n",
       "      <td>0</td>\n",
       "      <td>0</td>\n",
       "      <td>0</td>\n",
       "      <td>0</td>\n",
       "      <td>0</td>\n",
       "      <td>0</td>\n",
       "    </tr>\n",
       "    <tr>\n",
       "      <th>number_of_forms_submitted_for_persons_not_in_motor_vehicles</th>\n",
       "      <td>0</td>\n",
       "      <td>1</td>\n",
       "      <td>0</td>\n",
       "      <td>0</td>\n",
       "      <td>0</td>\n",
       "      <td>0</td>\n",
       "      <td>1</td>\n",
       "      <td>0</td>\n",
       "      <td>0</td>\n",
       "      <td>0</td>\n",
       "      <td>...</td>\n",
       "      <td>0</td>\n",
       "      <td>0</td>\n",
       "      <td>0</td>\n",
       "      <td>0</td>\n",
       "      <td>0</td>\n",
       "      <td>0</td>\n",
       "      <td>0</td>\n",
       "      <td>0</td>\n",
       "      <td>0</td>\n",
       "      <td>0</td>\n",
       "    </tr>\n",
       "    <tr>\n",
       "      <th>number_of_persons_not_in_motor_vehicles_in_transport_mvit</th>\n",
       "      <td>0</td>\n",
       "      <td>1</td>\n",
       "      <td>0</td>\n",
       "      <td>0</td>\n",
       "      <td>0</td>\n",
       "      <td>0</td>\n",
       "      <td>1</td>\n",
       "      <td>0</td>\n",
       "      <td>0</td>\n",
       "      <td>0</td>\n",
       "      <td>...</td>\n",
       "      <td>0</td>\n",
       "      <td>0</td>\n",
       "      <td>0</td>\n",
       "      <td>0</td>\n",
       "      <td>0</td>\n",
       "      <td>0</td>\n",
       "      <td>0</td>\n",
       "      <td>0</td>\n",
       "      <td>0</td>\n",
       "      <td>0</td>\n",
       "    </tr>\n",
       "    <tr>\n",
       "      <th>number_of_persons_in_motor_vehicles_in_transport_mvit</th>\n",
       "      <td>1</td>\n",
       "      <td>1</td>\n",
       "      <td>3</td>\n",
       "      <td>1</td>\n",
       "      <td>2</td>\n",
       "      <td>1</td>\n",
       "      <td>1</td>\n",
       "      <td>2</td>\n",
       "      <td>3</td>\n",
       "      <td>2</td>\n",
       "      <td>...</td>\n",
       "      <td>1</td>\n",
       "      <td>1</td>\n",
       "      <td>1</td>\n",
       "      <td>1</td>\n",
       "      <td>1</td>\n",
       "      <td>1</td>\n",
       "      <td>1</td>\n",
       "      <td>4</td>\n",
       "      <td>1</td>\n",
       "      <td>1</td>\n",
       "    </tr>\n",
       "    <tr>\n",
       "      <th>number_of_forms_submitted_for_persons_in_motor_vehicles</th>\n",
       "      <td>1</td>\n",
       "      <td>1</td>\n",
       "      <td>3</td>\n",
       "      <td>1</td>\n",
       "      <td>2</td>\n",
       "      <td>1</td>\n",
       "      <td>1</td>\n",
       "      <td>2</td>\n",
       "      <td>3</td>\n",
       "      <td>2</td>\n",
       "      <td>...</td>\n",
       "      <td>1</td>\n",
       "      <td>1</td>\n",
       "      <td>1</td>\n",
       "      <td>1</td>\n",
       "      <td>1</td>\n",
       "      <td>1</td>\n",
       "      <td>1</td>\n",
       "      <td>4</td>\n",
       "      <td>1</td>\n",
       "      <td>1</td>\n",
       "    </tr>\n",
       "    <tr>\n",
       "      <th>atmospheric_conditions_name</th>\n",
       "      <td>Not Reported</td>\n",
       "      <td>Not Reported</td>\n",
       "      <td>Not Reported</td>\n",
       "      <td>Not Reported</td>\n",
       "      <td>Not Reported</td>\n",
       "      <td>Not Reported</td>\n",
       "      <td>Not Reported</td>\n",
       "      <td>Not Reported</td>\n",
       "      <td>Not Reported</td>\n",
       "      <td>Not Reported</td>\n",
       "      <td>...</td>\n",
       "      <td>Rain</td>\n",
       "      <td>Clear</td>\n",
       "      <td>Clear</td>\n",
       "      <td>Clear</td>\n",
       "      <td>Clear</td>\n",
       "      <td>Clear</td>\n",
       "      <td>Clear</td>\n",
       "      <td>Cloudy</td>\n",
       "      <td>Clear</td>\n",
       "      <td>Clear</td>\n",
       "    </tr>\n",
       "    <tr>\n",
       "      <th>number_of_fatalities</th>\n",
       "      <td>1</td>\n",
       "      <td>1</td>\n",
       "      <td>2</td>\n",
       "      <td>1</td>\n",
       "      <td>1</td>\n",
       "      <td>1</td>\n",
       "      <td>1</td>\n",
       "      <td>1</td>\n",
       "      <td>1</td>\n",
       "      <td>1</td>\n",
       "      <td>...</td>\n",
       "      <td>1</td>\n",
       "      <td>1</td>\n",
       "      <td>1</td>\n",
       "      <td>1</td>\n",
       "      <td>1</td>\n",
       "      <td>1</td>\n",
       "      <td>1</td>\n",
       "      <td>1</td>\n",
       "      <td>1</td>\n",
       "      <td>1</td>\n",
       "    </tr>\n",
       "    <tr>\n",
       "      <th>number_of_drunk_drivers</th>\n",
       "      <td>0</td>\n",
       "      <td>0</td>\n",
       "      <td>0</td>\n",
       "      <td>1</td>\n",
       "      <td>0</td>\n",
       "      <td>0</td>\n",
       "      <td>0</td>\n",
       "      <td>0</td>\n",
       "      <td>0</td>\n",
       "      <td>0</td>\n",
       "      <td>...</td>\n",
       "      <td>1</td>\n",
       "      <td>0</td>\n",
       "      <td>0</td>\n",
       "      <td>0</td>\n",
       "      <td>0</td>\n",
       "      <td>1</td>\n",
       "      <td>1</td>\n",
       "      <td>0</td>\n",
       "      <td>1</td>\n",
       "      <td>0</td>\n",
       "    </tr>\n",
       "    <tr>\n",
       "      <th>Fatalities_ratio</th>\n",
       "      <td>1</td>\n",
       "      <td>0.5</td>\n",
       "      <td>0.666667</td>\n",
       "      <td>1</td>\n",
       "      <td>0.5</td>\n",
       "      <td>1</td>\n",
       "      <td>0.5</td>\n",
       "      <td>0.5</td>\n",
       "      <td>0.333333</td>\n",
       "      <td>0.5</td>\n",
       "      <td>...</td>\n",
       "      <td>1</td>\n",
       "      <td>1</td>\n",
       "      <td>1</td>\n",
       "      <td>1</td>\n",
       "      <td>1</td>\n",
       "      <td>1</td>\n",
       "      <td>1</td>\n",
       "      <td>0.25</td>\n",
       "      <td>1</td>\n",
       "      <td>1</td>\n",
       "    </tr>\n",
       "  </tbody>\n",
       "</table>\n",
       "<p>9 rows × 34439 columns</p>\n",
       "</div>"
      ],
      "text/plain": [
       "                                                           0      \\\n",
       "number_of_parked_working_vehicles                              0   \n",
       "number_of_forms_submitted_for_persons_not_in_mo...             0   \n",
       "number_of_persons_not_in_motor_vehicles_in_tran...             0   \n",
       "number_of_persons_in_motor_vehicles_in_transpor...             1   \n",
       "number_of_forms_submitted_for_persons_in_motor_...             1   \n",
       "atmospheric_conditions_name                         Not Reported   \n",
       "number_of_fatalities                                           1   \n",
       "number_of_drunk_drivers                                        0   \n",
       "Fatalities_ratio                                               1   \n",
       "\n",
       "                                                           1      \\\n",
       "number_of_parked_working_vehicles                              0   \n",
       "number_of_forms_submitted_for_persons_not_in_mo...             1   \n",
       "number_of_persons_not_in_motor_vehicles_in_tran...             1   \n",
       "number_of_persons_in_motor_vehicles_in_transpor...             1   \n",
       "number_of_forms_submitted_for_persons_in_motor_...             1   \n",
       "atmospheric_conditions_name                         Not Reported   \n",
       "number_of_fatalities                                           1   \n",
       "number_of_drunk_drivers                                        0   \n",
       "Fatalities_ratio                                             0.5   \n",
       "\n",
       "                                                           2      \\\n",
       "number_of_parked_working_vehicles                              0   \n",
       "number_of_forms_submitted_for_persons_not_in_mo...             0   \n",
       "number_of_persons_not_in_motor_vehicles_in_tran...             0   \n",
       "number_of_persons_in_motor_vehicles_in_transpor...             3   \n",
       "number_of_forms_submitted_for_persons_in_motor_...             3   \n",
       "atmospheric_conditions_name                         Not Reported   \n",
       "number_of_fatalities                                           2   \n",
       "number_of_drunk_drivers                                        0   \n",
       "Fatalities_ratio                                        0.666667   \n",
       "\n",
       "                                                           3      \\\n",
       "number_of_parked_working_vehicles                              0   \n",
       "number_of_forms_submitted_for_persons_not_in_mo...             0   \n",
       "number_of_persons_not_in_motor_vehicles_in_tran...             0   \n",
       "number_of_persons_in_motor_vehicles_in_transpor...             1   \n",
       "number_of_forms_submitted_for_persons_in_motor_...             1   \n",
       "atmospheric_conditions_name                         Not Reported   \n",
       "number_of_fatalities                                           1   \n",
       "number_of_drunk_drivers                                        1   \n",
       "Fatalities_ratio                                               1   \n",
       "\n",
       "                                                           4      \\\n",
       "number_of_parked_working_vehicles                              0   \n",
       "number_of_forms_submitted_for_persons_not_in_mo...             0   \n",
       "number_of_persons_not_in_motor_vehicles_in_tran...             0   \n",
       "number_of_persons_in_motor_vehicles_in_transpor...             2   \n",
       "number_of_forms_submitted_for_persons_in_motor_...             2   \n",
       "atmospheric_conditions_name                         Not Reported   \n",
       "number_of_fatalities                                           1   \n",
       "number_of_drunk_drivers                                        0   \n",
       "Fatalities_ratio                                             0.5   \n",
       "\n",
       "                                                           5      \\\n",
       "number_of_parked_working_vehicles                              0   \n",
       "number_of_forms_submitted_for_persons_not_in_mo...             0   \n",
       "number_of_persons_not_in_motor_vehicles_in_tran...             0   \n",
       "number_of_persons_in_motor_vehicles_in_transpor...             1   \n",
       "number_of_forms_submitted_for_persons_in_motor_...             1   \n",
       "atmospheric_conditions_name                         Not Reported   \n",
       "number_of_fatalities                                           1   \n",
       "number_of_drunk_drivers                                        0   \n",
       "Fatalities_ratio                                               1   \n",
       "\n",
       "                                                           6      \\\n",
       "number_of_parked_working_vehicles                              0   \n",
       "number_of_forms_submitted_for_persons_not_in_mo...             1   \n",
       "number_of_persons_not_in_motor_vehicles_in_tran...             1   \n",
       "number_of_persons_in_motor_vehicles_in_transpor...             1   \n",
       "number_of_forms_submitted_for_persons_in_motor_...             1   \n",
       "atmospheric_conditions_name                         Not Reported   \n",
       "number_of_fatalities                                           1   \n",
       "number_of_drunk_drivers                                        0   \n",
       "Fatalities_ratio                                             0.5   \n",
       "\n",
       "                                                           7      \\\n",
       "number_of_parked_working_vehicles                              0   \n",
       "number_of_forms_submitted_for_persons_not_in_mo...             0   \n",
       "number_of_persons_not_in_motor_vehicles_in_tran...             0   \n",
       "number_of_persons_in_motor_vehicles_in_transpor...             2   \n",
       "number_of_forms_submitted_for_persons_in_motor_...             2   \n",
       "atmospheric_conditions_name                         Not Reported   \n",
       "number_of_fatalities                                           1   \n",
       "number_of_drunk_drivers                                        0   \n",
       "Fatalities_ratio                                             0.5   \n",
       "\n",
       "                                                           8      \\\n",
       "number_of_parked_working_vehicles                              0   \n",
       "number_of_forms_submitted_for_persons_not_in_mo...             0   \n",
       "number_of_persons_not_in_motor_vehicles_in_tran...             0   \n",
       "number_of_persons_in_motor_vehicles_in_transpor...             3   \n",
       "number_of_forms_submitted_for_persons_in_motor_...             3   \n",
       "atmospheric_conditions_name                         Not Reported   \n",
       "number_of_fatalities                                           1   \n",
       "number_of_drunk_drivers                                        0   \n",
       "Fatalities_ratio                                        0.333333   \n",
       "\n",
       "                                                           9      ...   34429  \\\n",
       "number_of_parked_working_vehicles                              0  ...       0   \n",
       "number_of_forms_submitted_for_persons_not_in_mo...             0  ...       0   \n",
       "number_of_persons_not_in_motor_vehicles_in_tran...             0  ...       0   \n",
       "number_of_persons_in_motor_vehicles_in_transpor...             2  ...       1   \n",
       "number_of_forms_submitted_for_persons_in_motor_...             2  ...       1   \n",
       "atmospheric_conditions_name                         Not Reported  ...    Rain   \n",
       "number_of_fatalities                                           1  ...       1   \n",
       "number_of_drunk_drivers                                        0  ...       1   \n",
       "Fatalities_ratio                                             0.5  ...       1   \n",
       "\n",
       "                                                    34430  34431  34432  \\\n",
       "number_of_parked_working_vehicles                       0      0      0   \n",
       "number_of_forms_submitted_for_persons_not_in_mo...      0      0      0   \n",
       "number_of_persons_not_in_motor_vehicles_in_tran...      0      0      0   \n",
       "number_of_persons_in_motor_vehicles_in_transpor...      1      1      1   \n",
       "number_of_forms_submitted_for_persons_in_motor_...      1      1      1   \n",
       "atmospheric_conditions_name                         Clear  Clear  Clear   \n",
       "number_of_fatalities                                    1      1      1   \n",
       "number_of_drunk_drivers                                 0      0      0   \n",
       "Fatalities_ratio                                        1      1      1   \n",
       "\n",
       "                                                    34433  34434  34435  \\\n",
       "number_of_parked_working_vehicles                       0      0      0   \n",
       "number_of_forms_submitted_for_persons_not_in_mo...      0      0      0   \n",
       "number_of_persons_not_in_motor_vehicles_in_tran...      0      0      0   \n",
       "number_of_persons_in_motor_vehicles_in_transpor...      1      1      1   \n",
       "number_of_forms_submitted_for_persons_in_motor_...      1      1      1   \n",
       "atmospheric_conditions_name                         Clear  Clear  Clear   \n",
       "number_of_fatalities                                    1      1      1   \n",
       "number_of_drunk_drivers                                 0      1      1   \n",
       "Fatalities_ratio                                        1      1      1   \n",
       "\n",
       "                                                     34436  34437  34438  \n",
       "number_of_parked_working_vehicles                        0      0      0  \n",
       "number_of_forms_submitted_for_persons_not_in_mo...       0      0      0  \n",
       "number_of_persons_not_in_motor_vehicles_in_tran...       0      0      0  \n",
       "number_of_persons_in_motor_vehicles_in_transpor...       4      1      1  \n",
       "number_of_forms_submitted_for_persons_in_motor_...       4      1      1  \n",
       "atmospheric_conditions_name                         Cloudy  Clear  Clear  \n",
       "number_of_fatalities                                     1      1      1  \n",
       "number_of_drunk_drivers                                  0      1      0  \n",
       "Fatalities_ratio                                      0.25      1      1  \n",
       "\n",
       "[9 rows x 34439 columns]"
      ]
     },
<<<<<<< HEAD
     "execution_count": 151,
=======
     "execution_count": 11,
>>>>>>> 0067e2d4800bfbc646ce0e7483a24fc35f8514ff
     "metadata": {},
     "output_type": "execute_result"
    }
   ],
   "source": [
    "Accident_forScatter.transpose()"
   ]
  },
  {
   "cell_type": "code",
   "execution_count": 65,
   "metadata": {
    "scrolled": true
   },
   "outputs": [
    {
     "data": {
      "text/plain": [
       "pandas.core.frame.DataFrame"
      ]
     },
     "execution_count": 65,
     "metadata": {},
     "output_type": "execute_result"
    }
   ],
   "source": [
    "### Crosstab for the athmospheric conditions\n",
    "\n",
    "AccPerStateAndAtmos=pd.crosstab(Accident_df['state_name'],Accident_df['atmospheric_conditions_1_name'])\n",
    "type(AccPerStateAndAtmos)"
   ]
  },
  {
   "cell_type": "code",
   "execution_count": 68,
   "metadata": {},
   "outputs": [
    {
     "ename": "ValueError",
     "evalue": "scatter requires x column to be numeric",
     "output_type": "error",
     "traceback": [
      "\u001b[1;31m---------------------------------------------------------------------------\u001b[0m",
      "\u001b[1;31mValueError\u001b[0m                                Traceback (most recent call last)",
      "\u001b[1;32m<ipython-input-68-f6378cbaff09>\u001b[0m in \u001b[0;36m<module>\u001b[1;34m()\u001b[0m\n\u001b[0;32m      2\u001b[0m \u001b[0mAccGroupby\u001b[0m\u001b[1;33m=\u001b[0m \u001b[0mAccident_df\u001b[0m\u001b[1;33m.\u001b[0m\u001b[0mgroupby\u001b[0m\u001b[1;33m(\u001b[0m\u001b[0mby\u001b[0m\u001b[1;33m=\u001b[0m\u001b[1;33m[\u001b[0m\u001b[1;34m'state_name'\u001b[0m\u001b[1;33m,\u001b[0m\u001b[1;34m'atmospheric_conditions_1_name'\u001b[0m\u001b[1;33m]\u001b[0m\u001b[1;33m)\u001b[0m\u001b[1;33m\u001b[0m\u001b[0m\n\u001b[0;32m      3\u001b[0m \u001b[0mAccGroupbySum\u001b[0m\u001b[1;33m=\u001b[0m\u001b[0mAccGroupby\u001b[0m\u001b[1;33m.\u001b[0m\u001b[0mnumber_of_fatalities\u001b[0m\u001b[1;33m.\u001b[0m\u001b[0msum\u001b[0m\u001b[1;33m(\u001b[0m\u001b[1;33m)\u001b[0m\u001b[1;33m\u001b[0m\u001b[0m\n\u001b[1;32m----> 4\u001b[1;33m \u001b[0mAccGroupby\u001b[0m\u001b[1;33m.\u001b[0m\u001b[0mplot\u001b[0m\u001b[1;33m.\u001b[0m\u001b[0mscatter\u001b[0m\u001b[1;33m(\u001b[0m\u001b[0mx\u001b[0m\u001b[1;33m=\u001b[0m\u001b[1;34m'state_name'\u001b[0m\u001b[1;33m,\u001b[0m \u001b[0my\u001b[0m\u001b[1;33m=\u001b[0m\u001b[0mAccGroupby\u001b[0m\u001b[1;33m.\u001b[0m\u001b[0mnumber_of_fatalities\u001b[0m\u001b[1;33m.\u001b[0m\u001b[0msum\u001b[0m\u001b[1;33m(\u001b[0m\u001b[1;33m)\u001b[0m\u001b[1;33m)\u001b[0m\u001b[1;33m\u001b[0m\u001b[0m\n\u001b[0m",
      "\u001b[1;32mD:\\Masters\\Anaconda\\lib\\site-packages\\pandas\\core\\groupby.py\u001b[0m in \u001b[0;36mattr\u001b[1;34m(*args, **kwargs)\u001b[0m\n\u001b[0;32m    477\u001b[0m             \u001b[1;32mdef\u001b[0m \u001b[0mf\u001b[0m\u001b[1;33m(\u001b[0m\u001b[0mself\u001b[0m\u001b[1;33m)\u001b[0m\u001b[1;33m:\u001b[0m\u001b[1;33m\u001b[0m\u001b[0m\n\u001b[0;32m    478\u001b[0m                 \u001b[1;32mreturn\u001b[0m \u001b[0mgetattr\u001b[0m\u001b[1;33m(\u001b[0m\u001b[0mself\u001b[0m\u001b[1;33m.\u001b[0m\u001b[0mplot\u001b[0m\u001b[1;33m,\u001b[0m \u001b[0mname\u001b[0m\u001b[1;33m)\u001b[0m\u001b[1;33m(\u001b[0m\u001b[1;33m*\u001b[0m\u001b[0margs\u001b[0m\u001b[1;33m,\u001b[0m \u001b[1;33m**\u001b[0m\u001b[0mkwargs\u001b[0m\u001b[1;33m)\u001b[0m\u001b[1;33m\u001b[0m\u001b[0m\n\u001b[1;32m--> 479\u001b[1;33m             \u001b[1;32mreturn\u001b[0m \u001b[0mself\u001b[0m\u001b[1;33m.\u001b[0m\u001b[0m_groupby\u001b[0m\u001b[1;33m.\u001b[0m\u001b[0mapply\u001b[0m\u001b[1;33m(\u001b[0m\u001b[0mf\u001b[0m\u001b[1;33m)\u001b[0m\u001b[1;33m\u001b[0m\u001b[0m\n\u001b[0m\u001b[0;32m    480\u001b[0m         \u001b[1;32mreturn\u001b[0m \u001b[0mattr\u001b[0m\u001b[1;33m\u001b[0m\u001b[0m\n\u001b[0;32m    481\u001b[0m \u001b[1;33m\u001b[0m\u001b[0m\n",
      "\u001b[1;32mD:\\Masters\\Anaconda\\lib\\site-packages\\pandas\\core\\groupby.py\u001b[0m in \u001b[0;36mapply\u001b[1;34m(self, func, *args, **kwargs)\u001b[0m\n\u001b[0;32m    803\u001b[0m         \u001b[1;31m# ignore SettingWithCopy here in case the user mutates\u001b[0m\u001b[1;33m\u001b[0m\u001b[1;33m\u001b[0m\u001b[0m\n\u001b[0;32m    804\u001b[0m         \u001b[1;32mwith\u001b[0m \u001b[0moption_context\u001b[0m\u001b[1;33m(\u001b[0m\u001b[1;34m'mode.chained_assignment'\u001b[0m\u001b[1;33m,\u001b[0m \u001b[1;32mNone\u001b[0m\u001b[1;33m)\u001b[0m\u001b[1;33m:\u001b[0m\u001b[1;33m\u001b[0m\u001b[0m\n\u001b[1;32m--> 805\u001b[1;33m             \u001b[1;32mreturn\u001b[0m \u001b[0mself\u001b[0m\u001b[1;33m.\u001b[0m\u001b[0m_python_apply_general\u001b[0m\u001b[1;33m(\u001b[0m\u001b[0mf\u001b[0m\u001b[1;33m)\u001b[0m\u001b[1;33m\u001b[0m\u001b[0m\n\u001b[0m\u001b[0;32m    806\u001b[0m \u001b[1;33m\u001b[0m\u001b[0m\n\u001b[0;32m    807\u001b[0m     \u001b[1;32mdef\u001b[0m \u001b[0m_python_apply_general\u001b[0m\u001b[1;33m(\u001b[0m\u001b[0mself\u001b[0m\u001b[1;33m,\u001b[0m \u001b[0mf\u001b[0m\u001b[1;33m)\u001b[0m\u001b[1;33m:\u001b[0m\u001b[1;33m\u001b[0m\u001b[0m\n",
      "\u001b[1;32mD:\\Masters\\Anaconda\\lib\\site-packages\\pandas\\core\\groupby.py\u001b[0m in \u001b[0;36m_python_apply_general\u001b[1;34m(self, f)\u001b[0m\n\u001b[0;32m    807\u001b[0m     \u001b[1;32mdef\u001b[0m \u001b[0m_python_apply_general\u001b[0m\u001b[1;33m(\u001b[0m\u001b[0mself\u001b[0m\u001b[1;33m,\u001b[0m \u001b[0mf\u001b[0m\u001b[1;33m)\u001b[0m\u001b[1;33m:\u001b[0m\u001b[1;33m\u001b[0m\u001b[0m\n\u001b[0;32m    808\u001b[0m         keys, values, mutated = self.grouper.apply(f, self._selected_obj,\n\u001b[1;32m--> 809\u001b[1;33m                                                    self.axis)\n\u001b[0m\u001b[0;32m    810\u001b[0m \u001b[1;33m\u001b[0m\u001b[0m\n\u001b[0;32m    811\u001b[0m         return self._wrap_applied_output(\n",
      "\u001b[1;32mD:\\Masters\\Anaconda\\lib\\site-packages\\pandas\\core\\groupby.py\u001b[0m in \u001b[0;36mapply\u001b[1;34m(self, f, data, axis)\u001b[0m\n\u001b[0;32m   1967\u001b[0m             \u001b[1;31m# group might be modified\u001b[0m\u001b[1;33m\u001b[0m\u001b[1;33m\u001b[0m\u001b[0m\n\u001b[0;32m   1968\u001b[0m             \u001b[0mgroup_axes\u001b[0m \u001b[1;33m=\u001b[0m \u001b[0m_get_axes\u001b[0m\u001b[1;33m(\u001b[0m\u001b[0mgroup\u001b[0m\u001b[1;33m)\u001b[0m\u001b[1;33m\u001b[0m\u001b[0m\n\u001b[1;32m-> 1969\u001b[1;33m             \u001b[0mres\u001b[0m \u001b[1;33m=\u001b[0m \u001b[0mf\u001b[0m\u001b[1;33m(\u001b[0m\u001b[0mgroup\u001b[0m\u001b[1;33m)\u001b[0m\u001b[1;33m\u001b[0m\u001b[0m\n\u001b[0m\u001b[0;32m   1970\u001b[0m             \u001b[1;32mif\u001b[0m \u001b[1;32mnot\u001b[0m \u001b[0m_is_indexed_like\u001b[0m\u001b[1;33m(\u001b[0m\u001b[0mres\u001b[0m\u001b[1;33m,\u001b[0m \u001b[0mgroup_axes\u001b[0m\u001b[1;33m)\u001b[0m\u001b[1;33m:\u001b[0m\u001b[1;33m\u001b[0m\u001b[0m\n\u001b[0;32m   1971\u001b[0m                 \u001b[0mmutated\u001b[0m \u001b[1;33m=\u001b[0m \u001b[1;32mTrue\u001b[0m\u001b[1;33m\u001b[0m\u001b[0m\n",
      "\u001b[1;32mD:\\Masters\\Anaconda\\lib\\site-packages\\pandas\\core\\groupby.py\u001b[0m in \u001b[0;36mf\u001b[1;34m(self)\u001b[0m\n\u001b[0;32m    476\u001b[0m         \u001b[1;32mdef\u001b[0m \u001b[0mattr\u001b[0m\u001b[1;33m(\u001b[0m\u001b[1;33m*\u001b[0m\u001b[0margs\u001b[0m\u001b[1;33m,\u001b[0m \u001b[1;33m**\u001b[0m\u001b[0mkwargs\u001b[0m\u001b[1;33m)\u001b[0m\u001b[1;33m:\u001b[0m\u001b[1;33m\u001b[0m\u001b[0m\n\u001b[0;32m    477\u001b[0m             \u001b[1;32mdef\u001b[0m \u001b[0mf\u001b[0m\u001b[1;33m(\u001b[0m\u001b[0mself\u001b[0m\u001b[1;33m)\u001b[0m\u001b[1;33m:\u001b[0m\u001b[1;33m\u001b[0m\u001b[0m\n\u001b[1;32m--> 478\u001b[1;33m                 \u001b[1;32mreturn\u001b[0m \u001b[0mgetattr\u001b[0m\u001b[1;33m(\u001b[0m\u001b[0mself\u001b[0m\u001b[1;33m.\u001b[0m\u001b[0mplot\u001b[0m\u001b[1;33m,\u001b[0m \u001b[0mname\u001b[0m\u001b[1;33m)\u001b[0m\u001b[1;33m(\u001b[0m\u001b[1;33m*\u001b[0m\u001b[0margs\u001b[0m\u001b[1;33m,\u001b[0m \u001b[1;33m**\u001b[0m\u001b[0mkwargs\u001b[0m\u001b[1;33m)\u001b[0m\u001b[1;33m\u001b[0m\u001b[0m\n\u001b[0m\u001b[0;32m    479\u001b[0m             \u001b[1;32mreturn\u001b[0m \u001b[0mself\u001b[0m\u001b[1;33m.\u001b[0m\u001b[0m_groupby\u001b[0m\u001b[1;33m.\u001b[0m\u001b[0mapply\u001b[0m\u001b[1;33m(\u001b[0m\u001b[0mf\u001b[0m\u001b[1;33m)\u001b[0m\u001b[1;33m\u001b[0m\u001b[0m\n\u001b[0;32m    480\u001b[0m         \u001b[1;32mreturn\u001b[0m \u001b[0mattr\u001b[0m\u001b[1;33m\u001b[0m\u001b[0m\n",
      "\u001b[1;32mD:\\Masters\\Anaconda\\lib\\site-packages\\pandas\\plotting\\_core.py\u001b[0m in \u001b[0;36mscatter\u001b[1;34m(self, x, y, s, c, **kwds)\u001b[0m\n\u001b[0;32m   2853\u001b[0m         \u001b[0maxes\u001b[0m \u001b[1;33m:\u001b[0m \u001b[0mmatplotlib\u001b[0m\u001b[1;33m.\u001b[0m\u001b[0mAxesSubplot\u001b[0m \u001b[1;32mor\u001b[0m \u001b[0mnp\u001b[0m\u001b[1;33m.\u001b[0m\u001b[0marray\u001b[0m \u001b[0mof\u001b[0m \u001b[0mthem\u001b[0m\u001b[1;33m\u001b[0m\u001b[0m\n\u001b[0;32m   2854\u001b[0m         \"\"\"\n\u001b[1;32m-> 2855\u001b[1;33m         \u001b[1;32mreturn\u001b[0m \u001b[0mself\u001b[0m\u001b[1;33m(\u001b[0m\u001b[0mkind\u001b[0m\u001b[1;33m=\u001b[0m\u001b[1;34m'scatter'\u001b[0m\u001b[1;33m,\u001b[0m \u001b[0mx\u001b[0m\u001b[1;33m=\u001b[0m\u001b[0mx\u001b[0m\u001b[1;33m,\u001b[0m \u001b[0my\u001b[0m\u001b[1;33m=\u001b[0m\u001b[0my\u001b[0m\u001b[1;33m,\u001b[0m \u001b[0mc\u001b[0m\u001b[1;33m=\u001b[0m\u001b[0mc\u001b[0m\u001b[1;33m,\u001b[0m \u001b[0ms\u001b[0m\u001b[1;33m=\u001b[0m\u001b[0ms\u001b[0m\u001b[1;33m,\u001b[0m \u001b[1;33m**\u001b[0m\u001b[0mkwds\u001b[0m\u001b[1;33m)\u001b[0m\u001b[1;33m\u001b[0m\u001b[0m\n\u001b[0m\u001b[0;32m   2856\u001b[0m \u001b[1;33m\u001b[0m\u001b[0m\n\u001b[0;32m   2857\u001b[0m     def hexbin(self, x, y, C=None, reduce_C_function=None, gridsize=None,\n",
      "\u001b[1;32mD:\\Masters\\Anaconda\\lib\\site-packages\\pandas\\plotting\\_core.py\u001b[0m in \u001b[0;36m__call__\u001b[1;34m(self, x, y, kind, ax, subplots, sharex, sharey, layout, figsize, use_index, title, grid, legend, style, logx, logy, loglog, xticks, yticks, xlim, ylim, rot, fontsize, colormap, table, yerr, xerr, secondary_y, sort_columns, **kwds)\u001b[0m\n\u001b[0;32m   2675\u001b[0m                           \u001b[0mfontsize\u001b[0m\u001b[1;33m=\u001b[0m\u001b[0mfontsize\u001b[0m\u001b[1;33m,\u001b[0m \u001b[0mcolormap\u001b[0m\u001b[1;33m=\u001b[0m\u001b[0mcolormap\u001b[0m\u001b[1;33m,\u001b[0m \u001b[0mtable\u001b[0m\u001b[1;33m=\u001b[0m\u001b[0mtable\u001b[0m\u001b[1;33m,\u001b[0m\u001b[1;33m\u001b[0m\u001b[0m\n\u001b[0;32m   2676\u001b[0m                           \u001b[0myerr\u001b[0m\u001b[1;33m=\u001b[0m\u001b[0myerr\u001b[0m\u001b[1;33m,\u001b[0m \u001b[0mxerr\u001b[0m\u001b[1;33m=\u001b[0m\u001b[0mxerr\u001b[0m\u001b[1;33m,\u001b[0m \u001b[0msecondary_y\u001b[0m\u001b[1;33m=\u001b[0m\u001b[0msecondary_y\u001b[0m\u001b[1;33m,\u001b[0m\u001b[1;33m\u001b[0m\u001b[0m\n\u001b[1;32m-> 2677\u001b[1;33m                           sort_columns=sort_columns, **kwds)\n\u001b[0m\u001b[0;32m   2678\u001b[0m     \u001b[0m__call__\u001b[0m\u001b[1;33m.\u001b[0m\u001b[0m__doc__\u001b[0m \u001b[1;33m=\u001b[0m \u001b[0mplot_frame\u001b[0m\u001b[1;33m.\u001b[0m\u001b[0m__doc__\u001b[0m\u001b[1;33m\u001b[0m\u001b[0m\n\u001b[0;32m   2679\u001b[0m \u001b[1;33m\u001b[0m\u001b[0m\n",
      "\u001b[1;32mD:\\Masters\\Anaconda\\lib\\site-packages\\pandas\\plotting\\_core.py\u001b[0m in \u001b[0;36mplot_frame\u001b[1;34m(data, x, y, kind, ax, subplots, sharex, sharey, layout, figsize, use_index, title, grid, legend, style, logx, logy, loglog, xticks, yticks, xlim, ylim, rot, fontsize, colormap, table, yerr, xerr, secondary_y, sort_columns, **kwds)\u001b[0m\n\u001b[0;32m   1900\u001b[0m                  \u001b[0myerr\u001b[0m\u001b[1;33m=\u001b[0m\u001b[0myerr\u001b[0m\u001b[1;33m,\u001b[0m \u001b[0mxerr\u001b[0m\u001b[1;33m=\u001b[0m\u001b[0mxerr\u001b[0m\u001b[1;33m,\u001b[0m\u001b[1;33m\u001b[0m\u001b[0m\n\u001b[0;32m   1901\u001b[0m                  \u001b[0msecondary_y\u001b[0m\u001b[1;33m=\u001b[0m\u001b[0msecondary_y\u001b[0m\u001b[1;33m,\u001b[0m \u001b[0msort_columns\u001b[0m\u001b[1;33m=\u001b[0m\u001b[0msort_columns\u001b[0m\u001b[1;33m,\u001b[0m\u001b[1;33m\u001b[0m\u001b[0m\n\u001b[1;32m-> 1902\u001b[1;33m                  **kwds)\n\u001b[0m\u001b[0;32m   1903\u001b[0m \u001b[1;33m\u001b[0m\u001b[0m\n\u001b[0;32m   1904\u001b[0m \u001b[1;33m\u001b[0m\u001b[0m\n",
      "\u001b[1;32mD:\\Masters\\Anaconda\\lib\\site-packages\\pandas\\plotting\\_core.py\u001b[0m in \u001b[0;36m_plot\u001b[1;34m(data, x, y, subplots, ax, kind, **kwds)\u001b[0m\n\u001b[0;32m   1685\u001b[0m         \u001b[1;32mif\u001b[0m \u001b[0misinstance\u001b[0m\u001b[1;33m(\u001b[0m\u001b[0mdata\u001b[0m\u001b[1;33m,\u001b[0m \u001b[0mDataFrame\u001b[0m\u001b[1;33m)\u001b[0m\u001b[1;33m:\u001b[0m\u001b[1;33m\u001b[0m\u001b[0m\n\u001b[0;32m   1686\u001b[0m             plot_obj = klass(data, x=x, y=y, subplots=subplots, ax=ax,\n\u001b[1;32m-> 1687\u001b[1;33m                              kind=kind, **kwds)\n\u001b[0m\u001b[0;32m   1688\u001b[0m         \u001b[1;32melse\u001b[0m\u001b[1;33m:\u001b[0m\u001b[1;33m\u001b[0m\u001b[0m\n\u001b[0;32m   1689\u001b[0m             raise ValueError(\"plot kind %r can only be used for data frames\"\n",
      "\u001b[1;32mD:\\Masters\\Anaconda\\lib\\site-packages\\pandas\\plotting\\_core.py\u001b[0m in \u001b[0;36m__init__\u001b[1;34m(self, data, x, y, s, c, **kwargs)\u001b[0m\n\u001b[0;32m    835\u001b[0m             \u001b[1;31m# the handling of this argument later\u001b[0m\u001b[1;33m\u001b[0m\u001b[1;33m\u001b[0m\u001b[0m\n\u001b[0;32m    836\u001b[0m             \u001b[0ms\u001b[0m \u001b[1;33m=\u001b[0m \u001b[1;36m20\u001b[0m\u001b[1;33m\u001b[0m\u001b[0m\n\u001b[1;32m--> 837\u001b[1;33m         \u001b[0msuper\u001b[0m\u001b[1;33m(\u001b[0m\u001b[0mScatterPlot\u001b[0m\u001b[1;33m,\u001b[0m \u001b[0mself\u001b[0m\u001b[1;33m)\u001b[0m\u001b[1;33m.\u001b[0m\u001b[0m__init__\u001b[0m\u001b[1;33m(\u001b[0m\u001b[0mdata\u001b[0m\u001b[1;33m,\u001b[0m \u001b[0mx\u001b[0m\u001b[1;33m,\u001b[0m \u001b[0my\u001b[0m\u001b[1;33m,\u001b[0m \u001b[0ms\u001b[0m\u001b[1;33m=\u001b[0m\u001b[0ms\u001b[0m\u001b[1;33m,\u001b[0m \u001b[1;33m**\u001b[0m\u001b[0mkwargs\u001b[0m\u001b[1;33m)\u001b[0m\u001b[1;33m\u001b[0m\u001b[0m\n\u001b[0m\u001b[0;32m    838\u001b[0m         \u001b[1;32mif\u001b[0m \u001b[0mis_integer\u001b[0m\u001b[1;33m(\u001b[0m\u001b[0mc\u001b[0m\u001b[1;33m)\u001b[0m \u001b[1;32mand\u001b[0m \u001b[1;32mnot\u001b[0m \u001b[0mself\u001b[0m\u001b[1;33m.\u001b[0m\u001b[0mdata\u001b[0m\u001b[1;33m.\u001b[0m\u001b[0mcolumns\u001b[0m\u001b[1;33m.\u001b[0m\u001b[0mholds_integer\u001b[0m\u001b[1;33m(\u001b[0m\u001b[1;33m)\u001b[0m\u001b[1;33m:\u001b[0m\u001b[1;33m\u001b[0m\u001b[0m\n\u001b[0;32m    839\u001b[0m             \u001b[0mc\u001b[0m \u001b[1;33m=\u001b[0m \u001b[0mself\u001b[0m\u001b[1;33m.\u001b[0m\u001b[0mdata\u001b[0m\u001b[1;33m.\u001b[0m\u001b[0mcolumns\u001b[0m\u001b[1;33m[\u001b[0m\u001b[0mc\u001b[0m\u001b[1;33m]\u001b[0m\u001b[1;33m\u001b[0m\u001b[0m\n",
      "\u001b[1;32mD:\\Masters\\Anaconda\\lib\\site-packages\\pandas\\plotting\\_core.py\u001b[0m in \u001b[0;36m__init__\u001b[1;34m(self, data, x, y, **kwargs)\u001b[0m\n\u001b[0;32m    810\u001b[0m             \u001b[0my\u001b[0m \u001b[1;33m=\u001b[0m \u001b[0mself\u001b[0m\u001b[1;33m.\u001b[0m\u001b[0mdata\u001b[0m\u001b[1;33m.\u001b[0m\u001b[0mcolumns\u001b[0m\u001b[1;33m[\u001b[0m\u001b[0my\u001b[0m\u001b[1;33m]\u001b[0m\u001b[1;33m\u001b[0m\u001b[0m\n\u001b[0;32m    811\u001b[0m         \u001b[1;32mif\u001b[0m \u001b[0mlen\u001b[0m\u001b[1;33m(\u001b[0m\u001b[0mself\u001b[0m\u001b[1;33m.\u001b[0m\u001b[0mdata\u001b[0m\u001b[1;33m[\u001b[0m\u001b[0mx\u001b[0m\u001b[1;33m]\u001b[0m\u001b[1;33m.\u001b[0m\u001b[0m_get_numeric_data\u001b[0m\u001b[1;33m(\u001b[0m\u001b[1;33m)\u001b[0m\u001b[1;33m)\u001b[0m \u001b[1;33m==\u001b[0m \u001b[1;36m0\u001b[0m\u001b[1;33m:\u001b[0m\u001b[1;33m\u001b[0m\u001b[0m\n\u001b[1;32m--> 812\u001b[1;33m             \u001b[1;32mraise\u001b[0m \u001b[0mValueError\u001b[0m\u001b[1;33m(\u001b[0m\u001b[0mself\u001b[0m\u001b[1;33m.\u001b[0m\u001b[0m_kind\u001b[0m \u001b[1;33m+\u001b[0m \u001b[1;34m' requires x column to be numeric'\u001b[0m\u001b[1;33m)\u001b[0m\u001b[1;33m\u001b[0m\u001b[0m\n\u001b[0m\u001b[0;32m    813\u001b[0m         \u001b[1;32mif\u001b[0m \u001b[0mlen\u001b[0m\u001b[1;33m(\u001b[0m\u001b[0mself\u001b[0m\u001b[1;33m.\u001b[0m\u001b[0mdata\u001b[0m\u001b[1;33m[\u001b[0m\u001b[0my\u001b[0m\u001b[1;33m]\u001b[0m\u001b[1;33m.\u001b[0m\u001b[0m_get_numeric_data\u001b[0m\u001b[1;33m(\u001b[0m\u001b[1;33m)\u001b[0m\u001b[1;33m)\u001b[0m \u001b[1;33m==\u001b[0m \u001b[1;36m0\u001b[0m\u001b[1;33m:\u001b[0m\u001b[1;33m\u001b[0m\u001b[0m\n\u001b[0;32m    814\u001b[0m             \u001b[1;32mraise\u001b[0m \u001b[0mValueError\u001b[0m\u001b[1;33m(\u001b[0m\u001b[0mself\u001b[0m\u001b[1;33m.\u001b[0m\u001b[0m_kind\u001b[0m \u001b[1;33m+\u001b[0m \u001b[1;34m' requires y column to be numeric'\u001b[0m\u001b[1;33m)\u001b[0m\u001b[1;33m\u001b[0m\u001b[0m\n",
      "\u001b[1;31mValueError\u001b[0m: scatter requires x column to be numeric"
     ]
    }
   ],
   "source": [
    "    # Group Fatalities by State and atmospheric conditions\n",
    "    AccGroupby= Accident_df.groupby(by=['state_name','atmospheric_conditions_1_name'])\n",
    "    AccGroupbySum=AccGroupby.number_of_fatalities.sum()\n",
    "    AccGroupby.plot.scatter(x='state_name', y=AccGroupby.number_of_fatalities.sum())"
   ]
  },
  {
   "cell_type": "markdown",
   "metadata": {},
   "source": [
    "## Explore Attributes and Class"
   ]
  },
  {
   "cell_type": "markdown",
   "metadata": {},
   "source": [
    "## New Features"
   ]
  },
  {
   "cell_type": "code",
   "execution_count": 102,
   "metadata": {},
   "outputs": [
    {
     "data": {
      "text/plain": [
       "light_condition  light_condition_name     Day_Time_Yes_No\n",
       "1                Daylight                 yes                16336\n",
       "2                Dark – Not Lighted       no                  9494\n",
       "3                Dark – Lighted           no                  6732\n",
       "4                Dawn                     yes                  595\n",
       "5                Dusk                     yes                  803\n",
       "6                Dark – Unknown Lighting  no                   262\n",
       "7                Other                    no                    14\n",
       "dtype: int64"
      ]
     },
     "execution_count": 102,
     "metadata": {},
     "output_type": "execute_result"
    }
   ],
   "source": [
    "#Creates a new column to identify if there was daylight at the time of the accident. Dawn and Dusk were indicated as daylight.\n",
    "#This effective turns the daylight condition column into a binary field to be used later in the violin graph\n",
    "Accident_df['Day_Time_Yes_No'] = np.where(Accident_df['light_condition'] == 1 , 'yes', 'no')\n",
    "Accident_df['Day_Time_Yes_No'] = np.where(Accident_df['light_condition'] == 4 , 'yes', Accident_df['Day_Time_Yes_No'])\n",
    "Accident_df['Day_Time_Yes_No'] = np.where(Accident_df['light_condition'] == 5 , 'yes', Accident_df['Day_Time_Yes_No'])\n",
    "#Treats unknown and not reported as null in the data set. This is done because we cannot gain any insight of the lighting condition from these records. \n",
    "Accident_df['Day_Time_Yes_No'] = np.where(Accident_df['light_condition'] == 8 , np.nan , Accident_df['Day_Time_Yes_No'])\n",
    "Accident_df['Day_Time_Yes_No'] = np.where(Accident_df['light_condition'] == 9 , np.nan , Accident_df['Day_Time_Yes_No'])\n",
    "\n",
    "#count and summary of new light condition field \n",
    "Accident_df.groupby(['light_condition','light_condition_name','Day_Time_Yes_No']).size()\n"
   ]
  },
  {
   "cell_type": "code",
   "execution_count": 69,
   "metadata": {
    "scrolled": true
   },
   "outputs": [
    {
     "data": {
      "text/html": [
       "<div>\n",
       "<style scoped>\n",
       "    .dataframe tbody tr th:only-of-type {\n",
       "        vertical-align: middle;\n",
       "    }\n",
       "\n",
       "    .dataframe tbody tr th {\n",
       "        vertical-align: top;\n",
       "    }\n",
       "\n",
       "    .dataframe thead th {\n",
       "        text-align: right;\n",
       "    }\n",
       "</style>\n",
       "<table border=\"1\" class=\"dataframe\">\n",
       "  <thead>\n",
       "    <tr style=\"text-align: right;\">\n",
       "      <th></th>\n",
       "      <th>Unnamed: 0</th>\n",
       "      <th>state_number</th>\n",
       "      <th>state_name</th>\n",
       "      <th>consecutive_number</th>\n",
       "      <th>number_of_vehicle_forms_submitted_all</th>\n",
       "      <th>number_of_motor_vehicles_in_transport_mvit</th>\n",
       "      <th>number_of_parked_working_vehicles</th>\n",
       "      <th>number_of_forms_submitted_for_persons_not_in_motor_vehicles</th>\n",
       "      <th>number_of_persons_not_in_motor_vehicles_in_transport_mvit</th>\n",
       "      <th>number_of_persons_in_motor_vehicles_in_transport_mvit</th>\n",
       "      <th>...</th>\n",
       "      <th>related_factors_crash_level_1</th>\n",
       "      <th>related_factors_crash_level_1_name</th>\n",
       "      <th>related_factors_crash_level_2</th>\n",
       "      <th>related_factors_crash_level_2_name</th>\n",
       "      <th>related_factors_crash_level_3</th>\n",
       "      <th>related_factors_crash_level_3_name</th>\n",
       "      <th>number_of_fatalities</th>\n",
       "      <th>number_of_drunk_drivers</th>\n",
       "      <th>timestamp_of_crash</th>\n",
       "      <th>Fatalities_ratio</th>\n",
       "    </tr>\n",
       "  </thead>\n",
       "  <tbody>\n",
       "    <tr>\n",
       "      <th>0</th>\n",
       "      <td>0</td>\n",
       "      <td>4</td>\n",
       "      <td>Arizona</td>\n",
       "      <td>40484</td>\n",
       "      <td>1</td>\n",
       "      <td>1</td>\n",
       "      <td>0</td>\n",
       "      <td>0</td>\n",
       "      <td>0</td>\n",
       "      <td>1</td>\n",
       "      <td>...</td>\n",
       "      <td>0</td>\n",
       "      <td>None</td>\n",
       "      <td>0</td>\n",
       "      <td>None</td>\n",
       "      <td>0</td>\n",
       "      <td>None</td>\n",
       "      <td>1</td>\n",
       "      <td>0</td>\n",
       "      <td>2016-07-16 14:01:00+00:00</td>\n",
       "      <td>1.000000</td>\n",
       "    </tr>\n",
       "    <tr>\n",
       "      <th>1</th>\n",
       "      <td>1</td>\n",
       "      <td>4</td>\n",
       "      <td>Arizona</td>\n",
       "      <td>40615</td>\n",
       "      <td>1</td>\n",
       "      <td>1</td>\n",
       "      <td>0</td>\n",
       "      <td>1</td>\n",
       "      <td>1</td>\n",
       "      <td>1</td>\n",
       "      <td>...</td>\n",
       "      <td>0</td>\n",
       "      <td>None</td>\n",
       "      <td>0</td>\n",
       "      <td>None</td>\n",
       "      <td>0</td>\n",
       "      <td>None</td>\n",
       "      <td>1</td>\n",
       "      <td>0</td>\n",
       "      <td>2016-08-28 02:33:00+00:00</td>\n",
       "      <td>0.500000</td>\n",
       "    </tr>\n",
       "    <tr>\n",
       "      <th>2</th>\n",
       "      <td>2</td>\n",
       "      <td>4</td>\n",
       "      <td>Arizona</td>\n",
       "      <td>40610</td>\n",
       "      <td>1</td>\n",
       "      <td>1</td>\n",
       "      <td>0</td>\n",
       "      <td>0</td>\n",
       "      <td>0</td>\n",
       "      <td>3</td>\n",
       "      <td>...</td>\n",
       "      <td>0</td>\n",
       "      <td>None</td>\n",
       "      <td>0</td>\n",
       "      <td>None</td>\n",
       "      <td>0</td>\n",
       "      <td>None</td>\n",
       "      <td>2</td>\n",
       "      <td>0</td>\n",
       "      <td>2016-08-16 08:50:00+00:00</td>\n",
       "      <td>0.666667</td>\n",
       "    </tr>\n",
       "    <tr>\n",
       "      <th>3</th>\n",
       "      <td>3</td>\n",
       "      <td>4</td>\n",
       "      <td>Arizona</td>\n",
       "      <td>40140</td>\n",
       "      <td>1</td>\n",
       "      <td>1</td>\n",
       "      <td>0</td>\n",
       "      <td>0</td>\n",
       "      <td>0</td>\n",
       "      <td>1</td>\n",
       "      <td>...</td>\n",
       "      <td>0</td>\n",
       "      <td>None</td>\n",
       "      <td>0</td>\n",
       "      <td>None</td>\n",
       "      <td>0</td>\n",
       "      <td>None</td>\n",
       "      <td>1</td>\n",
       "      <td>1</td>\n",
       "      <td>2016-02-13 00:00:00+00:00</td>\n",
       "      <td>1.000000</td>\n",
       "    </tr>\n",
       "    <tr>\n",
       "      <th>4</th>\n",
       "      <td>4</td>\n",
       "      <td>4</td>\n",
       "      <td>Arizona</td>\n",
       "      <td>40606</td>\n",
       "      <td>1</td>\n",
       "      <td>1</td>\n",
       "      <td>0</td>\n",
       "      <td>0</td>\n",
       "      <td>0</td>\n",
       "      <td>2</td>\n",
       "      <td>...</td>\n",
       "      <td>0</td>\n",
       "      <td>None</td>\n",
       "      <td>0</td>\n",
       "      <td>None</td>\n",
       "      <td>0</td>\n",
       "      <td>None</td>\n",
       "      <td>1</td>\n",
       "      <td>0</td>\n",
       "      <td>2016-08-09 21:07:00+00:00</td>\n",
       "      <td>0.500000</td>\n",
       "    </tr>\n",
       "  </tbody>\n",
       "</table>\n",
       "<p>5 rows × 72 columns</p>\n",
       "</div>"
      ],
      "text/plain": [
       "   Unnamed: 0  state_number state_name  consecutive_number  \\\n",
       "0           0             4    Arizona               40484   \n",
       "1           1             4    Arizona               40615   \n",
       "2           2             4    Arizona               40610   \n",
       "3           3             4    Arizona               40140   \n",
       "4           4             4    Arizona               40606   \n",
       "\n",
       "   number_of_vehicle_forms_submitted_all  \\\n",
       "0                                      1   \n",
       "1                                      1   \n",
       "2                                      1   \n",
       "3                                      1   \n",
       "4                                      1   \n",
       "\n",
       "   number_of_motor_vehicles_in_transport_mvit  \\\n",
       "0                                           1   \n",
       "1                                           1   \n",
       "2                                           1   \n",
       "3                                           1   \n",
       "4                                           1   \n",
       "\n",
       "   number_of_parked_working_vehicles  \\\n",
       "0                                  0   \n",
       "1                                  0   \n",
       "2                                  0   \n",
       "3                                  0   \n",
       "4                                  0   \n",
       "\n",
       "   number_of_forms_submitted_for_persons_not_in_motor_vehicles  \\\n",
       "0                                                  0             \n",
       "1                                                  1             \n",
       "2                                                  0             \n",
       "3                                                  0             \n",
       "4                                                  0             \n",
       "\n",
       "   number_of_persons_not_in_motor_vehicles_in_transport_mvit  \\\n",
       "0                                                  0           \n",
       "1                                                  1           \n",
       "2                                                  0           \n",
       "3                                                  0           \n",
       "4                                                  0           \n",
       "\n",
       "   number_of_persons_in_motor_vehicles_in_transport_mvit        ...         \\\n",
       "0                                                  1            ...          \n",
       "1                                                  1            ...          \n",
       "2                                                  3            ...          \n",
       "3                                                  1            ...          \n",
       "4                                                  2            ...          \n",
       "\n",
       "   related_factors_crash_level_1  related_factors_crash_level_1_name  \\\n",
       "0                              0                                None   \n",
       "1                              0                                None   \n",
       "2                              0                                None   \n",
       "3                              0                                None   \n",
       "4                              0                                None   \n",
       "\n",
       "   related_factors_crash_level_2  related_factors_crash_level_2_name  \\\n",
       "0                              0                                None   \n",
       "1                              0                                None   \n",
       "2                              0                                None   \n",
       "3                              0                                None   \n",
       "4                              0                                None   \n",
       "\n",
       "   related_factors_crash_level_3  related_factors_crash_level_3_name  \\\n",
       "0                              0                                None   \n",
       "1                              0                                None   \n",
       "2                              0                                None   \n",
       "3                              0                                None   \n",
       "4                              0                                None   \n",
       "\n",
       "   number_of_fatalities  number_of_drunk_drivers         timestamp_of_crash  \\\n",
       "0                     1                        0  2016-07-16 14:01:00+00:00   \n",
       "1                     1                        0  2016-08-28 02:33:00+00:00   \n",
       "2                     2                        0  2016-08-16 08:50:00+00:00   \n",
       "3                     1                        1  2016-02-13 00:00:00+00:00   \n",
       "4                     1                        0  2016-08-09 21:07:00+00:00   \n",
       "\n",
       "   Fatalities_ratio  \n",
       "0          1.000000  \n",
       "1          0.500000  \n",
       "2          0.666667  \n",
       "3          1.000000  \n",
       "4          0.500000  \n",
       "\n",
       "[5 rows x 72 columns]"
      ]
     },
     "execution_count": 69,
     "metadata": {},
     "output_type": "execute_result"
    }
   ],
   "source": [
    "\n",
    "\n",
    "Accident_df['Fatalities_ratio'] = Accident_df.number_of_fatalities/(Accident_df.number_of_persons_not_in_motor_vehicles_in_transport_mvit + Accident_df.number_of_persons_in_motor_vehicles_in_transport_mvit)\n",
    "\n",
    "Accident_df.head()"
   ]
  },
  {
   "cell_type": "markdown",
   "metadata": {},
   "source": [
    "## Exceptional Work"
   ]
  }
 ],
 "metadata": {
  "kernelspec": {
   "display_name": "Python 3",
   "language": "python",
   "name": "python3"
  },
  "language_info": {
   "codemirror_mode": {
    "name": "ipython",
    "version": 3
   },
   "file_extension": ".py",
   "mimetype": "text/x-python",
   "name": "python",
   "nbconvert_exporter": "python",
   "pygments_lexer": "ipython3",
   "version": "3.6.4"
  }
 },
 "nbformat": 4,
 "nbformat_minor": 2
}
